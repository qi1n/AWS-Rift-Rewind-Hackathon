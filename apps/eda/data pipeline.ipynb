{
 "cells": [
  {
   "cell_type": "code",
   "id": "initial_id",
   "metadata": {
    "collapsed": true,
    "ExecuteTime": {
     "end_time": "2025-10-07T20:25:11.481353Z",
     "start_time": "2025-10-07T20:25:11.478080Z"
    }
   },
   "source": [
    "import polars as pl\n",
    "import glob, os\n",
    "import json\n",
    "import matplotlib.pyplot as plt\n",
    "import numpy as np\n",
    "import plotly.express as px\n",
    "import seaborn as sns\n",
    "\n",
    "import pyarrow\n"
   ],
   "outputs": [],
   "execution_count": 5
  },
  {
   "metadata": {
    "ExecuteTime": {
     "end_time": "2025-10-07T20:25:11.512321Z",
     "start_time": "2025-10-07T20:25:11.509438Z"
    }
   },
   "cell_type": "code",
   "source": "# !pip install pyarrow",
   "id": "8bffb8dc5c2d18bf",
   "outputs": [],
   "execution_count": 6
  },
  {
   "metadata": {
    "ExecuteTime": {
     "end_time": "2025-10-09T19:19:11.812250Z",
     "start_time": "2025-10-09T19:19:11.764882Z"
    }
   },
   "cell_type": "code",
   "source": [
    "# ===================== CONSTANT =========================\n",
    "ALL_TIMELINE_JSON_PATH = \"../res/data/matches/timelines/*.json\""
   ],
   "id": "277d0c60bbb694f4",
   "outputs": [],
   "execution_count": 29
  },
  {
   "metadata": {
    "ExecuteTime": {
     "end_time": "2025-10-07T20:25:11.885075Z",
     "start_time": "2025-10-07T20:25:11.537849Z"
    }
   },
   "cell_type": "code",
   "source": [
    "\n",
    "# 1) Read all timeline JSON files (one file per match)\n",
    "paths = glob.glob(ALL_TIMELINE_JSON_PATH)\n",
    "\n",
    "dfs = []\n",
    "for p in paths:\n",
    "    df = pl.read_json(p).with_columns(\n",
    "        pl.col(\"metadata\").struct.json_encode().alias(\"metadata_json\"),\n",
    "        pl.col(\"info\").struct.json_encode().alias(\"info_json\"),\n",
    "        pl.lit(os.path.basename(p)).alias(\"source_file\"),\n",
    "    ).select(\"metadata_json\", \"info_json\", \"source_file\")\n",
    "    dfs.append(df)\n",
    "\n",
    "timeline_matches = pl.concat(dfs, how=\"diagonal\", rechunk=True)\n",
    "\n"
   ],
   "id": "5b023b5525943cd3",
   "outputs": [],
   "execution_count": 8
  },
  {
   "metadata": {},
   "cell_type": "code",
   "outputs": [],
   "execution_count": null,
   "source": "",
   "id": "ce4957b47644ea18"
  },
  {
   "metadata": {},
   "cell_type": "markdown",
   "source": [
    "itemId mapId championId pickTurn\n",
    "分析目标：\n",
    "\n",
    "1. 单局游戏内行为：\n",
    "某次游戏走向决策 / 对线失误问题 / 出装决策失误 / 英雄选择失误原因分析 / 对线思路 / 补刀 / 游戏节奏把握 / 执行力 / 对自己英雄的操作理解  / 对对手英雄的操作理解 / 和队友的配合 / 关键失误（没有及时落位，没有预判对手动作，没有卡住金身TP时间等等） （团战 和 对线 分开分析）\n",
    "\n",
    "2. 游戏生涯分析：（剔除早早投降的局）\n",
    "闪现/召唤师技能利用率\n",
    "技能命中率\n",
    "绝活输赢分析 carry局分析 第一次尝试英雄分析\n",
    "游戏性格\n",
    "需要哪种队友\n",
    "警惕那种对手\n",
    "\n",
    "3. 增加娱乐性，不能像学习一样， carry 的爽感 以及 唤起和好朋友的乐趣，和好朋友度过了哪些艰难局，谁carry了谁， 配合维度怎么样，亲和度怎么样\n",
    "\n",
    "4. 专业性：自己和高端选手和职业选手的差距，如果你是应征青训选手，虚拟教练看好你哪里\n"
   ],
   "id": "eaf937e70fe8bfda"
  },
  {
   "metadata": {
    "ExecuteTime": {
     "end_time": "2025-10-07T20:25:12.738481Z",
     "start_time": "2025-10-07T20:25:11.907104Z"
    }
   },
   "cell_type": "code",
   "source": [
    "# timeline_matches: 有 metadata_json / info_json / source_file 三列\n",
    "rows = []\n",
    "for m_json, i_json, src in timeline_matches.select(\n",
    "        \"metadata_json\", \"info_json\", \"source_file\"\n",
    "    ).iter_rows():\n",
    "    m = json.loads(m_json)\n",
    "    i = json.loads(i_json)\n",
    "    rows.append({\n",
    "        \"match_id\":       m.get(\"matchId\"),\n",
    "        \"puuid_list\":     m.get(\"participants\"),\n",
    "        \"end_result\":     i.get(\"endOfGameResult\"),\n",
    "        \"frame_interval\": i.get(\"frameInterval\"),\n",
    "        \"frames\":         i.get(\"frames\"),\n",
    "        \"source_file\":    src,\n",
    "    })\n",
    "\n",
    "decoded = pl.DataFrame(rows)\n"
   ],
   "id": "614636c0d0e541ce",
   "outputs": [],
   "execution_count": 9
  },
  {
   "metadata": {
    "ExecuteTime": {
     "end_time": "2025-10-07T20:25:12.779541Z",
     "start_time": "2025-10-07T20:25:12.753022Z"
    }
   },
   "cell_type": "code",
   "source": [
    "# 2) frames（每行=一场的一分钟）\n",
    "frames = (\n",
    "    decoded\n",
    "    .explode(\"frames\")\n",
    "    .drop_nulls(\"frames\")\n",
    "    .unnest(\"frames\")\n",
    "    .with_columns((pl.col(\"timestamp\")/60000).cast(pl.Int64).alias(\"minute\"))\n",
    ")"
   ],
   "id": "dc93e7f86669be02",
   "outputs": [],
   "execution_count": 10
  },
  {
   "metadata": {
    "ExecuteTime": {
     "end_time": "2025-10-07T20:50:52.125196Z",
     "start_time": "2025-10-07T20:50:52.113922Z"
    }
   },
   "cell_type": "code",
   "source": "frames",
   "id": "b4b65331b7fb68dd",
   "outputs": [
    {
     "data": {
      "text/plain": [
       "shape: (600, 9)\n",
       "┌────────────┬────────────┬───────────┬───────────┬───┬───────────┬───────────┬───────────┬────────┐\n",
       "│ match_id   ┆ puuid_list ┆ end_resul ┆ frame_int ┆ … ┆ participa ┆ timestamp ┆ source_fi ┆ minute │\n",
       "│ ---        ┆ ---        ┆ t         ┆ erval     ┆   ┆ ntFrames  ┆ ---       ┆ le        ┆ ---    │\n",
       "│ str        ┆ list[str]  ┆ ---       ┆ ---       ┆   ┆ ---       ┆ i64       ┆ ---       ┆ i64    │\n",
       "│            ┆            ┆ str       ┆ i64       ┆   ┆ struct[16 ┆           ┆ str       ┆        │\n",
       "│            ┆            ┆           ┆           ┆   ┆ ]         ┆           ┆           ┆        │\n",
       "╞════════════╪════════════╪═══════════╪═══════════╪═══╪═══════════╪═══════════╪═══════════╪════════╡\n",
       "│ EUW1_74604 ┆ [\"l-0H-IRE ┆ GameCompl ┆ 60000     ┆ … ┆ {{{0,0,38 ┆ 0         ┆ EUW1_7460 ┆ 0      │\n",
       "│ 31991      ┆ JElPO_Q1cn ┆ ete       ┆           ┆   ┆ ,0,0,25,1 ┆           ┆ 431991.js ┆        │\n",
       "│            ┆ Cf3eb1NFNZ ┆           ┆           ┆   ┆ 00,0,0,0, ┆           ┆ on        ┆        │\n",
       "│            ┆ …          ┆           ┆           ┆   ┆ 0,6…      ┆           ┆           ┆        │\n",
       "│ EUW1_74604 ┆ [\"l-0H-IRE ┆ GameCompl ┆ 60000     ┆ … ┆ {{{0,18,3 ┆ 60001     ┆ EUW1_7460 ┆ 1      │\n",
       "│ 31991      ┆ JElPO_Q1cn ┆ ete       ┆           ┆   ┆ 8,0,0,69, ┆           ┆ 431991.js ┆        │\n",
       "│            ┆ Cf3eb1NFNZ ┆           ┆           ┆   ┆ 110,0,0,0 ┆           ┆ on        ┆        │\n",
       "│            ┆ …          ┆           ┆           ┆   ┆ ,0,…      ┆           ┆           ┆        │\n",
       "│ EUW1_74604 ┆ [\"l-0H-IRE ┆ GameCompl ┆ 60000     ┆ … ┆ {{{0,18,3 ┆ 120014    ┆ EUW1_7460 ┆ 2      │\n",
       "│ 31991      ┆ JElPO_Q1cn ┆ ete       ┆           ┆   ┆ 8,0,0,69, ┆           ┆ 431991.js ┆        │\n",
       "│            ┆ Cf3eb1NFNZ ┆           ┆           ┆   ┆ 110,0,0,0 ┆           ┆ on        ┆        │\n",
       "│            ┆ …          ┆           ┆           ┆   ┆ ,0,…      ┆           ┆           ┆        │\n",
       "│ EUW1_74604 ┆ [\"l-0H-IRE ┆ GameCompl ┆ 60000     ┆ … ┆ {{{0,18,4 ┆ 180030    ┆ EUW1_7460 ┆ 3      │\n",
       "│ 31991      ┆ JElPO_Q1cn ┆ ete       ┆           ┆   ┆ 4,0,0,75, ┆           ┆ 431991.js ┆        │\n",
       "│            ┆ Cf3eb1NFNZ ┆           ┆           ┆   ┆ 112,0,0,0 ┆           ┆ on        ┆        │\n",
       "│            ┆ …          ┆           ┆           ┆   ┆ ,0,…      ┆           ┆           ┆        │\n",
       "│ EUW1_74604 ┆ [\"l-0H-IRE ┆ GameCompl ┆ 60000     ┆ … ┆ {{{0,18,4 ┆ 240058    ┆ EUW1_7460 ┆ 4      │\n",
       "│ 31991      ┆ JElPO_Q1cn ┆ ete       ┆           ┆   ┆ 8,0,0,78, ┆           ┆ 431991.js ┆        │\n",
       "│            ┆ Cf3eb1NFNZ ┆           ┆           ┆   ┆ 113,0,0,0 ┆           ┆ on        ┆        │\n",
       "│            ┆ …          ┆           ┆           ┆   ┆ ,0,…      ┆           ┆           ┆        │\n",
       "│ …          ┆ …          ┆ …         ┆ …         ┆ … ┆ …         ┆ …         ┆ …         ┆ …      │\n",
       "│ EUW1_75535 ┆ [\"1YriN2zi ┆ GameCompl ┆ 60000     ┆ … ┆ {{{0,0,99 ┆ 1920656   ┆ EUW1_7553 ┆ 32     │\n",
       "│ 44945      ┆ FtRXHZsKhQ ┆ ete       ┆           ┆   ┆ ,0,18,320 ┆           ┆ 544945.js ┆        │\n",
       "│            ┆ YvVVUlI_jA ┆           ┆           ┆   ┆ ,191,0,0, ┆           ┆ on        ┆        │\n",
       "│            ┆ …          ┆           ┆           ┆   ┆ 0,0…      ┆           ┆           ┆        │\n",
       "│ EUW1_75535 ┆ [\"1YriN2zi ┆ GameCompl ┆ 60000     ┆ … ┆ {{{0,0,99 ┆ 1980662   ┆ EUW1_7553 ┆ 33     │\n",
       "│ 44945      ┆ FtRXHZsKhQ ┆ ete       ┆           ┆   ┆ ,0,18,320 ┆           ┆ 544945.js ┆        │\n",
       "│            ┆ YvVVUlI_jA ┆           ┆           ┆   ┆ ,191,0,0, ┆           ┆ on        ┆        │\n",
       "│            ┆ …          ┆           ┆           ┆   ┆ 0,0…      ┆           ┆           ┆        │\n",
       "│ EUW1_75535 ┆ [\"1YriN2zi ┆ GameCompl ┆ 60000     ┆ … ┆ {{{0,0,10 ┆ 2040669   ┆ EUW1_7553 ┆ 34     │\n",
       "│ 44945      ┆ FtRXHZsKhQ ┆ ete       ┆           ┆   ┆ 4,0,18,32 ┆           ┆ 544945.js ┆        │\n",
       "│            ┆ YvVVUlI_jA ┆           ┆           ┆   ┆ 6,195,0,0 ┆           ┆ on        ┆        │\n",
       "│            ┆ …          ┆           ┆           ┆   ┆ ,0,…      ┆           ┆           ┆        │\n",
       "│ EUW1_75535 ┆ [\"1YriN2zi ┆ GameCompl ┆ 60000     ┆ … ┆ {{{0,0,10 ┆ 2100682   ┆ EUW1_7553 ┆ 35     │\n",
       "│ 44945      ┆ FtRXHZsKhQ ┆ ete       ┆           ┆   ┆ 4,0,18,32 ┆           ┆ 544945.js ┆        │\n",
       "│            ┆ YvVVUlI_jA ┆           ┆           ┆   ┆ 6,195,0,0 ┆           ┆ on        ┆        │\n",
       "│            ┆ …          ┆           ┆           ┆   ┆ ,0,…      ┆           ┆           ┆        │\n",
       "│ EUW1_75535 ┆ [\"1YriN2zi ┆ GameCompl ┆ 60000     ┆ … ┆ {{{0,0,10 ┆ 2155661   ┆ EUW1_7553 ┆ 35     │\n",
       "│ 44945      ┆ FtRXHZsKhQ ┆ ete       ┆           ┆   ┆ 4,0,18,32 ┆           ┆ 544945.js ┆        │\n",
       "│            ┆ YvVVUlI_jA ┆           ┆           ┆   ┆ 6,195,0,0 ┆           ┆ on        ┆        │\n",
       "│            ┆ …          ┆           ┆           ┆   ┆ ,0,…      ┆           ┆           ┆        │\n",
       "└────────────┴────────────┴───────────┴───────────┴───┴───────────┴───────────┴───────────┴────────┘"
      ],
      "text/html": [
       "<div><style>\n",
       ".dataframe > thead > tr,\n",
       ".dataframe > tbody > tr {\n",
       "  text-align: right;\n",
       "  white-space: pre-wrap;\n",
       "}\n",
       "</style>\n",
       "<small>shape: (600, 9)</small><table border=\"1\" class=\"dataframe\"><thead><tr><th>match_id</th><th>puuid_list</th><th>end_result</th><th>frame_interval</th><th>events</th><th>participantFrames</th><th>timestamp</th><th>source_file</th><th>minute</th></tr><tr><td>str</td><td>list[str]</td><td>str</td><td>i64</td><td>list[struct[38]]</td><td>struct[16]</td><td>i64</td><td>str</td><td>i64</td></tr></thead><tbody><tr><td>&quot;EUW1_7460431991&quot;</td><td>[&quot;l-0H-IREJElPO_Q1cnCf3eb1NFNZC1HU5QpZa_6BM0foroMHJw0SMF7WuVEdie8wef7Y84M3I0UzcA&quot;, &quot;0MYzLuIKha_ryS_jf8ZwmTT2Dzr9JK4ksX9w90L11ySalWG1z77-iO3mThOe2z7PW88O_zYyJDVxEA&quot;, … &quot;a5bACEMwhWguyXZbaaKaJq8-Ks1tX0-DZsWT0p9MRQZ47z2WeeP7CUWJj8avtbCtgkaXlGa9Go3hDQ&quot;]</td><td>&quot;GameComplete&quot;</td><td>60000</td><td>[{null,null,null,null,null,null,0,&quot;PAUSE_END&quot;,null,null,null,null,null,null,null,null,null,null,null,null,null,null,null,null,null,1752430310052,null,null,null,null,null,null,null,null,null,null,null,null}, {null,null,null,null,null,null,0,&quot;ITEM_PURCHASED&quot;,null,null,null,null,0,null,null,null,null,null,null,null,null,null,3865,null,null,null,null,null,null,null,null,null,null,null,null,null,null,null}, … {null,null,null,null,null,null,0,&quot;ITEM_PURCHASED&quot;,null,null,null,null,0,null,null,null,null,null,null,null,null,null,3865,null,null,null,null,null,null,null,null,null,null,null,null,null,null,null}]</td><td>{{{0,0,38,0,0,25,100,0,0,0,0,644,644,0,0,0,0,32,345,0,0,270,270,0,0},500,{0,0,0,0,0,0,0,0,0,0,0,0},0,0,1,0,1,{554,581},0,500,0},{{0,0,33,0,0,25,100,0,0,0,0,669,669,0,0,0,0,32,355,0,0,251,251,0,0},500,{0,0,0,0,0,0,0,0,0,0,0,0},0,0,1,0,2,{593,464},0,500,0},{{0,0,22,0,0,25,100,0,0,0,0,645,645,0,0,0,0,32,340,0,0,300,300,0,0},500,{0,0,0,0,0,0,0,0,0,0,0,0},0,0,1,0,3,{557,345},0,500,0},{{0,0,24,0,0,25,100,0,0,0,0,655,655,0,0,0,0,30,330,0,0,300,300,0,0},500,{0,0,0,0,0,0,0,0,0,0,0,0},0,0,1,0,4,{458,271},0,500,0},{{0,0,43,0,0,60,100,0,0,0,0,676,676,21,0,0,0,32,335,0,0,302,302,15,0},100,{0,0,0,0,0,0,0,0,0,0,0,0},30,0,1,0,5,{335,269},0,500,0},{{0,0,34,0,0,25,100,0,0,0,0,610,610,0,0,0,0,32,340,0,0,400,400,0,0},500,{0,0,0,0,0,0,0,0,0,0,0,0},0,0,1,0,6,{14500,14511},0,500,0},{{0,0,22,0,0,25,100,0,0,0,0,605,605,0,0,0,0,32,330,0,0,410,410,0,0},500,{0,0,0,0,0,0,0,0,0,0,0,0},0,0,1,0,7,{14539,14394},0,500,0},{{0,0,25,0,0,25,100,0,0,0,0,563,563,0,0,0,0,30,330,0,0,480,480,0,0},500,{0,0,0,0,0,0,0,0,0,0,0,0},0,0,1,0,8,{14503,14275},0,500,0},{{0,0,28,0,0,25,100,0,0,0,0,641,641,0,0,0,0,30,335,0,0,320,320,0,0},500,{0,0,0,0,0,0,0,0,0,0,0,0},0,0,1,0,9,{14404,14201},0,500,0},{{0,0,26,0,0,48,100,0,0,0,0,590,590,12,0,0,0,30,330,0,0,365,365,28,0},100,{0,0,0,0,0,0,0,0,0,0,0,0},30,0,1,0,10,{14281,14199},0,500,0},null,null,null,null,null,null}</td><td>0</td><td>&quot;EUW1_7460431991.json&quot;</td><td>0</td></tr><tr><td>&quot;EUW1_7460431991&quot;</td><td>[&quot;l-0H-IREJElPO_Q1cnCf3eb1NFNZC1HU5QpZa_6BM0foroMHJw0SMF7WuVEdie8wef7Y84M3I0UzcA&quot;, &quot;0MYzLuIKha_ryS_jf8ZwmTT2Dzr9JK4ksX9w90L11ySalWG1z77-iO3mThOe2z7PW88O_zYyJDVxEA&quot;, … &quot;a5bACEMwhWguyXZbaaKaJq8-Ks1tX0-DZsWT0p9MRQZ47z2WeeP7CUWJj8avtbCtgkaXlGa9Go3hDQ&quot;]</td><td>&quot;GameComplete&quot;</td><td>60000</td><td>[{null,null,null,null,null,null,2750,&quot;ITEM_PURCHASED&quot;,null,null,null,null,8,null,null,null,null,null,null,null,null,null,1056,null,null,null,null,null,null,null,null,null,null,null,null,null,null,null}, {null,null,null,null,null,null,2750,&quot;ITEM_PURCHASED&quot;,null,null,null,null,8,null,null,null,null,null,null,null,null,null,2003,null,null,null,null,null,null,null,null,null,null,null,null,null,null,null}, … {null,null,null,null,null,null,56694,&quot;SKILL_LEVEL_UP&quot;,null,null,null,&quot;NORMAL&quot;,5,3,null,null,null,null,null,null,null,null,null,null,null,null,null,null,null,null,null,null,null,null,null,null,null,null}]</td><td>{{{0,18,38,0,0,69,110,0,0,0,0,754,754,18,0,0,0,32,345,0,0,270,270,14,0},0,{0,0,0,0,0,0,0,0,0,0,0,0},0,0,1,0,1,{4957,8589},0,500,0},{{0,0,33,0,0,70,113,0,0,0,0,679,679,15,0,0,0,32,355,0,0,251,251,14,0},0,{0,0,0,0,0,0,0,0,0,0,0,0},0,0,1,0,2,{8472,4758},0,500,0},{{0,9,22,0,0,58,110,0,0,0,0,655,655,16,0,0,0,32,340,0,0,544,544,16,0},0,{0,0,0,0,0,0,0,0,0,0,0,0},0,0,1,0,3,{6354,6496},0,500,0},{{0,0,24,0,0,79,110,0,0,0,0,745,745,7,3,0,0,30,333,0,0,300,300,12,0},0,{0,0,0,0,0,0,0,0,0,0,0,0},0,0,1,0,4,{11568,1910},0,500,0},{{0,0,43,0,0,60,100,0,0,0,0,696,696,21,0,0,0,32,335,0,0,302,302,15,0},0,{0,0,0,0,0,0,0,0,0,0,0,0},30,0,1,0,5,{12053,1384},0,500,0},{{0,0,34,0,0,64,110,0,0,0,0,740,740,25,0,0,0,32,340,0,0,400,400,100,0},0,{0,0,0,0,0,0,0,0,0,0,0,0},0,0,1,0,6,{5404,12962},0,500,0},{{0,18,22,0,0,61,100,0,0,0,0,615,615,5,0,0,0,32,330,0,0,410,410,23,0},50,{0,0,0,0,0,0,0,0,0,0,0,0},0,0,1,0,7,{6794,10076},0,500,0},{{0,27,25,0,0,54,110,0,0,0,0,718,718,13,0,0,0,30,330,0,0,480,480,16,0},0,{0,0,0,0,0,0,0,0,0,0,0,0},0,0,1,0,8,{9129,6732},0,500,0},{{0,0,28,0,0,75,110,0,0,0,0,731,731,7,3,0,0,30,335,0,0,320,320,14,0},0,{0,0,0,0,0,0,0,0,0,0,0,0},0,0,1,0,9,{11664,3939},0,500,0},{{0,9,26,0,0,48,100,0,0,0,0,600,600,12,0,0,0,30,330,0,0,365,365,28,0},0,{0,0,0,0,0,0,0,0,0,0,0,0},30,0,1,0,10,{12075,4728},0,500,0},null,null,null,null,null,null}</td><td>60001</td><td>&quot;EUW1_7460431991.json&quot;</td><td>1</td></tr><tr><td>&quot;EUW1_7460431991&quot;</td><td>[&quot;l-0H-IREJElPO_Q1cnCf3eb1NFNZC1HU5QpZa_6BM0foroMHJw0SMF7WuVEdie8wef7Y84M3I0UzcA&quot;, &quot;0MYzLuIKha_ryS_jf8ZwmTT2Dzr9JK4ksX9w90L11ySalWG1z77-iO3mThOe2z7PW88O_zYyJDVxEA&quot;, … &quot;a5bACEMwhWguyXZbaaKaJq8-Ks1tX0-DZsWT0p9MRQZ47z2WeeP7CUWJj8avtbCtgkaXlGa9Go3hDQ&quot;]</td><td>&quot;GameComplete&quot;</td><td>60000</td><td>[{null,null,null,null,null,null,65033,&quot;SKILL_LEVEL_UP&quot;,null,null,null,&quot;NORMAL&quot;,7,1,null,null,null,null,null,null,null,null,null,null,null,null,null,null,null,null,null,null,null,null,null,null,null,null}, {null,null,null,null,null,null,75020,&quot;SKILL_LEVEL_UP&quot;,null,null,null,&quot;NORMAL&quot;,9,1,null,null,null,null,null,null,null,null,null,null,null,null,null,null,null,null,null,null,null,null,null,null,null,null}, … {null,null,null,null,null,null,119346,&quot;ITEM_DESTROYED&quot;,null,null,null,null,1,null,null,null,null,null,null,null,null,null,2003,null,null,null,null,null,null,null,null,null,null,null,null,null,null,null}]</td><td>{{{0,18,38,0,0,69,110,0,0,0,0,532,759,98,0,0,0,32,345,0,0,270,270,14,0},62,{271,86,96,197,123,160,469,210,257,0,0,0},0,0,1,1,1,{1560,12019},10053,562,123},{{0,0,36,0,0,72,114,0,0,0,0,466,764,103,0,0,0,33,355,0,0,242,281,31,0},131,{0,0,0,2341,0,754,3602,0,754,1260,0,0},0,4,2,0,2,{8344,2533},0,631,325},{{0,9,22,0,0,58,110,0,0,0,0,536,655,16,0,0,0,32,340,0,0,544,544,16,0},132,{0,0,138,441,0,0,441,0,138,0,0,0},0,0,1,5,3,{7414,7122},0,632,246},{{0,0,24,0,0,79,110,0,0,0,0,745,745,7,3,0,0,30,382,0,0,249,300,12,0},111,{0,0,0,1324,203,0,1324,203,0,0,0,0},0,0,1,4,4,{12357,2658},0,611,180},{{0,0,43,0,0,60,100,0,0,0,0,529,696,21,0,0,0,32,335,0,0,302,302,15,0},62,{0,0,19,420,0,185,600,0,205,180,0,0},30,0,1,1,5,{12641,2381},0,562,180},{{0,0,34,0,0,64,110,0,0,0,0,490,750,64,0,0,0,32,340,0,0,235,400,100,0},118,{131,96,86,704,152,237,835,248,324,0,0,0},0,0,1,4,6,{2268,12296},267,618,215},{{0,18,25,0,0,63,101,0,0,0,0,345,700,5,0,0,0,33,376,0,0,256,446,74,0},166,{1564,0,0,872,0,1048,5036,0,1048,2598,0,0},0,4,2,0,7,{6631,11380},0,616,300},{{0,27,25,0,0,54,110,0,0,0,0,718,718,13,0,0,0,30,330,0,0,419,505,16,0},123,{320,138,0,413,0,0,733,138,0,0,0,0},0,0,1,4,8,{7473,7891},0,623,276},{{0,0,28,0,0,75,110,0,0,0,0,637,731,7,3,0,0,30,335,0,0,302,320,14,0},118,{0,0,0,1230,118,121,1230,118,121,0,0,0},0,0,1,4,9,{13239,3066},0,618,140},{{0,9,26,0,0,48,100,0,0,0,0,432,600,12,0,0,0,30,330,0,0,361,365,28,0},67,{19,19,0,259,67,187,278,86,187,0,0,0},30,0,1,0,10,{13430,2631},0,567,140},null,null,null,null,null,null}</td><td>120014</td><td>&quot;EUW1_7460431991.json&quot;</td><td>2</td></tr><tr><td>&quot;EUW1_7460431991&quot;</td><td>[&quot;l-0H-IREJElPO_Q1cnCf3eb1NFNZC1HU5QpZa_6BM0foroMHJw0SMF7WuVEdie8wef7Y84M3I0UzcA&quot;, &quot;0MYzLuIKha_ryS_jf8ZwmTT2Dzr9JK4ksX9w90L11ySalWG1z77-iO3mThOe2z7PW88O_zYyJDVxEA&quot;, … &quot;a5bACEMwhWguyXZbaaKaJq8-Ks1tX0-DZsWT0p9MRQZ47z2WeeP7CUWJj8avtbCtgkaXlGa9Go3hDQ&quot;]</td><td>&quot;GameComplete&quot;</td><td>60000</td><td>[{null,null,null,null,null,null,124456,&quot;LEVEL_UP&quot;,null,null,null,null,8,null,null,null,null,null,2,null,null,null,null,null,null,null,null,null,null,null,null,null,null,null,null,null,null,null}, {null,null,null,null,null,null,126494,&quot;SKILL_LEVEL_UP&quot;,null,null,null,&quot;NORMAL&quot;,8,2,null,null,null,null,null,null,null,null,null,null,null,null,null,null,null,null,null,null,null,null,null,null,null,null}, … {null,null,null,null,null,null,176891,&quot;ITEM_DESTROYED&quot;,null,null,null,null,3,null,null,null,null,null,null,null,null,null,2003,null,null,null,null,null,null,null,null,null,null,null,null,null,null,null}]</td><td>{{{0,18,44,0,0,75,112,0,0,0,0,613,955,20,0,0,0,35,345,0,0,253,358,15,0},353,{1784,562,237,1744,382,678,3528,944,916,0,0,0},0,0,3,10,1,{1676,12373},60831,853,738},{{0,0,39,0,0,74,116,0,0,0,0,636,853,25,0,0,0,35,355,0,0,276,312,30,0},528,{0,0,0,6206,0,1801,11766,0,1801,5560,0,0},0,15,3,0,2,{3315,7408},65023,1028,821},{{0,9,28,0,0,62,113,0,0,0,0,365,863,98,0,0,0,33,340,0,0,452,689,18,0},465,{859,221,588,1746,0,57,2605,221,650,0,0,4},0,0,3,17,3,{7384,7042},1603,965,829},{{0,0,27,0,0,83,110,0,0,0,0,147,832,8,3,0,0,30,333,0,0,153,336,13,0},488,{0,0,195,3636,905,722,3636,905,917,0,0,0},0,0,2,12,4,{12189,2151},400,988,579},{{0,0,46,0,0,62,102,0,0,0,0,262,824,22,0,0,0,33,335,0,0,266,330,16,0},555,{159,159,222,816,151,793,1688,329,1016,712,18,0},30,0,2,3,5,{12266,2154},2505,1055,579},{{0,0,40,0,0,68,114,0,0,0,0,454,952,76,0,0,0,35,340,0,0,305,400,100,0},325,{395,237,562,1657,473,588,2052,711,1150,0,0,0},0,0,3,9,6,{2187,11919},12925,825,798},{{0,18,28,0,0,65,103,0,0,0,0,465,789,14,0,0,0,34,376,0,0,220,483,94,0},518,{4185,0,0,1944,0,2035,11533,0,2035,5402,0,0},0,14,3,0,7,{11531,7796},21919,968,706},{{0,27,31,0,0,58,112,0,0,0,0,688,901,109,0,0,0,31,330,0,0,297,614,18,0},453,{953,588,221,1203,57,25,2161,650,246,4,4,0},0,0,3,15,8,{7839,8145},7414,953,798},{{0,0,31,0,0,77,112,0,0,0,0,843,843,8,3,0,0,30,395,0,0,350,350,15,0},297,{158,158,121,2789,1111,835,2947,1270,974,0,0,18},0,0,2,7,9,{13478,6233},0,797,301},{{0,9,29,0,0,50,102,0,0,0,0,484,673,13,0,0,0,30,330,0,0,325,445,29,0},288,{259,259,38,718,278,588,978,538,626,0,0,0},30,0,2,2,10,{13164,3160},7366,788,393},null,null,null,null,null,null}</td><td>180030</td><td>&quot;EUW1_7460431991.json&quot;</td><td>3</td></tr><tr><td>&quot;EUW1_7460431991&quot;</td><td>[&quot;l-0H-IREJElPO_Q1cnCf3eb1NFNZC1HU5QpZa_6BM0foroMHJw0SMF7WuVEdie8wef7Y84M3I0UzcA&quot;, &quot;0MYzLuIKha_ryS_jf8ZwmTT2Dzr9JK4ksX9w90L11ySalWG1z77-iO3mThOe2z7PW88O_zYyJDVxEA&quot;, … &quot;a5bACEMwhWguyXZbaaKaJq8-Ks1tX0-DZsWT0p9MRQZ47z2WeeP7CUWJj8avtbCtgkaXlGa9Go3hDQ&quot;]</td><td>&quot;GameComplete&quot;</td><td>60000</td><td>[{null,null,null,null,null,null,182726,&quot;WARD_PLACED&quot;,null,null,null,null,null,null,null,null,null,null,null,&quot;UNDEFINED&quot;,null,null,null,6,null,null,null,null,null,null,null,null,null,null,null,null,null,null}, {null,null,null,null,null,null,191978,&quot;ITEM_PURCHASED&quot;,null,null,null,null,4,null,null,null,null,null,null,null,null,null,1036,null,null,null,null,null,null,null,null,null,null,null,null,null,null,null}, … {null,null,null,null,null,null,237753,&quot;SKILL_LEVEL_UP&quot;,null,null,null,&quot;NORMAL&quot;,4,3,null,null,null,null,null,null,null,null,null,null,null,null,null,null,null,null,null,null,null,null,null,null,null,null}]</td><td>{{{0,18,48,0,0,78,113,0,0,0,0,1060,1060,21,0,0,0,36,345,0,0,295,405,16,0},769,{3275,748,237,3436,436,745,8177,1185,982,1465,0,0},0,0,4,25,1,{2583,13056},101980,1269,1477},{{0,0,42,0,0,76,120,0,0,0,0,933,946,17,0,0,0,36,355,0,0,346,346,101,0},916,{0,0,400,9522,0,2381,17551,0,2781,8028,0,0},0,28,4,0,2,{3845,11171},102881,1416,1316},{{0,9,31,0,0,64,114,0,0,0,0,1058,1127,19,0,0,0,34,476,0,0,1059,1116,20,0},118,{3779,702,913,2412,49,190,6191,751,1130,0,0,27},0,0,4,28,3,{2195,1517},3273,1318,1477},{{0,0,30,0,0,99,110,0,0,0,0,922,922,9,3,0,0,31,333,0,0,343,373,14,0},287,{0,0,195,4085,905,722,4085,905,917,0,0,0},0,0,3,16,4,{11009,1770},400,1187,719},{{0,0,50,0,0,64,104,0,0,0,0,972,1070,24,0,0,0,35,335,0,0,361,361,17,0},160,{159,159,222,940,151,905,2010,329,1128,910,18,0},30,0,3,4,5,{11014,1403},2505,1210,719},{{0,0,43,0,0,70,116,0,0,0,0,571,1053,28,0,0,0,36,340,0,0,385,400,100,0},622,{611,237,748,2692,473,714,3304,711,1463,0,0,0},0,0,4,16,6,{3496,13240},12925,1122,1355},{{0,18,32,0,0,68,106,0,0,0,0,882,882,25,0,0,0,35,389,0,0,401,523,162,0},966,{6270,0,323,3214,0,2687,17285,0,3011,7800,0,0},0,28,4,0,7,{12283,6484},82194,1416,1316},{{0,27,35,0,0,60,114,0,0,0,0,344,983,15,0,0,0,32,330,0,0,49,695,19,0},740,{2341,913,702,2435,190,306,4803,1130,1008,27,27,0},0,0,4,21,8,{8636,8926},23446,1240,1477},{{0,0,34,0,0,79,114,0,0,0,0,928,928,9,3,0,0,31,335,0,0,296,383,16,0},713,{158,158,121,4106,1111,835,4265,1270,974,0,0,18},0,0,3,21,9,{12889,1819},0,1213,804},{{0,9,32,0,0,52,104,0,0,0,0,640,749,14,0,0,0,31,330,0,0,461,478,30,0},492,{259,259,38,1024,278,593,1501,538,631,216,0,0},30,0,3,6,10,{11947,3628},7366,992,926},null,null,null,null,null,null}</td><td>240058</td><td>&quot;EUW1_7460431991.json&quot;</td><td>4</td></tr><tr><td>&hellip;</td><td>&hellip;</td><td>&hellip;</td><td>&hellip;</td><td>&hellip;</td><td>&hellip;</td><td>&hellip;</td><td>&hellip;</td><td>&hellip;</td></tr><tr><td>&quot;EUW1_7553544945&quot;</td><td>[&quot;1YriN2ziFtRXHZsKhQYvVVUlI_jAyx2dviI6eXmlDJBzbWNrS016f5ISdvZVAen5VDWVVZupKaOLAQ&quot;, &quot;1CWYtGFvhVX0coYI2-Bv1AdhNpb1tlSbxTIFsF0HqzjHEY17zYsbY15GKRIuGEFwss6ZcZLQoG73lA&quot;, … &quot;_dnZdcRGSXNX3Mh4T_zjbPwXz5I5KF8hyToscQdGXtH6OdJMHnIdFJzFJWqSeSWqB5KqheOaiVJHxg&quot;]</td><td>&quot;GameComplete&quot;</td><td>60000</td><td>[{null,400,1,8,{6889,14106},0,1865417,&quot;CHAMPION_KILL&quot;,[{false,0,&quot;Nami&quot;,7,0,&quot;burning&quot;,0,93,&quot;OTHER&quot;}, {true,0,&quot;Qiyana&quot;,8,226,&quot;qiyanabasicattack&quot;,64,0,&quot;OTHER&quot;}, … {false,0,&quot;Qiyana&quot;,8,90,&quot;qiyanapassive&quot;,63,0,&quot;OTHER&quot;}],[{true,0,&quot;&quot;,0,255,&quot;turretbasicattack&quot;,46,0,&quot;TOWER&quot;}, {false,0,&quot;Jayce&quot;,8,548,&quot;jayceshockblast&quot;,0,0,&quot;OTHER&quot;}, … {false,0,&quot;Jayce&quot;,8,518,&quot;jaycetotheskies&quot;,0,0,&quot;OTHER&quot;}],2,null,null,null,null,null,null,null,null,null,null,null,null,null,null,null,null,null,null,null,null,null,null,null,null,null,null,null}, {null,null,null,null,null,null,1865417,&quot;LEVEL_UP&quot;,null,null,null,null,8,null,null,null,null,null,18,null,null,null,null,null,null,null,null,null,null,null,null,null,null,null,null,null,null,null}, … {null,null,null,9,null,null,1920230,&quot;WARD_KILL&quot;,null,null,null,null,null,null,null,null,null,null,null,&quot;SIGHT_WARD&quot;,null,null,null,null,null,null,null,null,null,null,null,null,null,null,null,null,null,null}]</td><td>{{{0,0,99,0,18,320,191,0,0,0,0,2978,2978,208,0,0,0,61,390,0,0,1326,1398,36,0},559,{12436,6032,4404,165688,20586,25013,194196,32553,29617,16070,5935,199},0,0,16,216,1,{3934,5071},406699,13022,16453},{{0,0,96,0,35,338,180,0,0,0,0,2794,2794,42,0,0,0,61,702,0,0,1232,1243,36,0},286,{18540,1755,7605,220143,18091,30099,291935,21089,38210,53251,1243,506},0,196,16,20,2,{1239,825},226673,13096,16457},{{0,472,153,0,0,111,129,0,0,0,0,0,2824,23,0,12,0,50,380,0,0,886,1533,34,0},220,{134126,21915,2891,15149,1323,17539,152118,25564,21151,2842,2326,720},0,4,17,231,3,{7043,8934},138016,12109,16992},{{0,0,117,0,0,288,207,0,0,0,0,2712,2712,24,5,0,0,48,400,0,0,849,879,37,0},1404,{22012,6042,2883,208442,21221,16750,245679,29952,20414,15223,2688,780},0,20,16,248,4,{7370,6932},339027,13768,15109},{{0,205,91,0,0,91,136,0,0,0,0,1963,1963,42,0,0,0,45,410,0,0,826,1134,179,0},1014,{30262,10086,1776,5446,1166,8222,38235,11466,10052,2527,213,53},50,0,14,37,5,{9054,3983},299975,9274,12958},{{0,0,200,0,0,340,187,0,0,24,0,3232,3261,37,3,0,0,57,395,0,0,11,100,0,0},497,{7276,1913,11486,136457,12800,21454,146474,14714,37951,2741,0,5010},0,0,16,203,6,{9955,4853},98346,13372,15842},{{0,0,163,0,0,175,204,0,0,34,0,3485,3485,84,0,0,0,136,436,0,0,876,991,32,0},2565,{2960,2960,14750,172021,17919,33495,262307,21843,51858,87325,964,3611},0,169,16,24,7,{7842,8320},561548,13337,15995},{{0,0,107,0,35,471,156,0,0,5,0,3125,3413,32,0,0,0,52,691,0,0,2250,2250,39,0},253,{23004,3655,10848,195720,22262,13235,219461,26102,26399,735,184,2315},0,1,18,294,8,{14340,14391},175632,16482,19767},{{0,0,83,0,0,236,238,0,0,5,0,2292,2292,24,5,0,0,47,410,0,0,730,890,35,0},465,{8087,2092,6728,146572,15713,17227,155723,17928,24193,1063,122,237},0,8,15,225,9,{10148,4719},13473,12144,14346},{{0,0,240,0,0,100,136,0,0,5,0,2458,2701,97,0,0,0,89,385,0,0,740,740,51,0},237,{9990,3680,8431,6359,939,11580,21904,5609,21309,5553,989,1296},50,0,13,35,10,{9999,4562},103527,8122,10963},null,null,null,null,null,null}</td><td>1920656</td><td>&quot;EUW1_7553544945.json&quot;</td><td>32</td></tr><tr><td>&quot;EUW1_7553544945&quot;</td><td>[&quot;1YriN2ziFtRXHZsKhQYvVVUlI_jAyx2dviI6eXmlDJBzbWNrS016f5ISdvZVAen5VDWVVZupKaOLAQ&quot;, &quot;1CWYtGFvhVX0coYI2-Bv1AdhNpb1tlSbxTIFsF0HqzjHEY17zYsbY15GKRIuGEFwss6ZcZLQoG73lA&quot;, … &quot;_dnZdcRGSXNX3Mh4T_zjbPwXz5I5KF8hyToscQdGXtH6OdJMHnIdFJzFJWqSeSWqB5KqheOaiVJHxg&quot;]</td><td>&quot;GameComplete&quot;</td><td>60000</td><td>[{null,null,null,null,null,null,1922226,&quot;WARD_PLACED&quot;,null,null,null,null,null,null,null,null,null,null,null,&quot;YELLOW_TRINKET&quot;,null,null,null,6,null,null,null,null,null,null,null,null,null,null,null,null,null,null}, {null,null,null,null,null,null,1924665,&quot;WARD_PLACED&quot;,null,null,null,null,null,null,null,null,null,null,null,&quot;SIGHT_WARD&quot;,null,null,null,5,null,null,null,null,null,null,null,null,null,null,null,null,null,null}, … {null,null,null,null,null,null,1978403,&quot;ITEM_PURCHASED&quot;,null,null,null,null,6,null,null,null,null,null,null,null,null,null,2021,null,null,null,null,null,null,null,null,null,null,null,null,null,null,null}]</td><td>{{{0,0,99,0,18,320,191,0,0,0,0,0,2984,29,0,0,0,61,390,0,0,1284,1398,36,0},81,{12446,6041,4808,169251,21903,27760,198235,34347,32910,16537,6401,341},0,0,16,216,1,{10666,5471},412213,13144,16478},{{0,0,101,0,35,342,148,0,0,0,0,0,2959,44,0,0,0,64,420,0,0,999,1318,93,0},439,{18909,2124,7825,222060,20007,33209,294683,23836,41644,53712,1704,609},0,196,17,21,2,{7197,3485},231276,13328,16749},{{0,472,153,0,0,111,129,0,0,0,0,0,2824,23,0,12,0,50,380,0,0,1180,1533,34,0},742,{138868,23911,4088,15174,1347,19769,157544,28245,24682,3502,2986,824},0,4,17,231,3,{8321,3491},139285,12631,17284},{{0,0,117,0,0,288,207,0,0,0,0,0,2712,24,5,0,0,48,400,0,0,818,879,37,0},355,{23296,7169,4454,211890,23320,18050,251985,34692,23742,16798,4203,1238},0,20,16,250,4,{7036,4381},348281,13994,15259},{{0,225,97,0,0,95,139,0,0,0,0,0,2077,44,0,0,0,47,410,0,0,689,1185,218,0},401,{31881,11439,1818,5509,1223,10245,40303,13261,12225,2911,597,161},50,0,15,38,5,{7661,3305},315081,9566,13289},{{0,0,206,0,0,353,196,0,0,24,0,0,3569,39,0,0,0,60,395,0,0,0,100,0,0},55,{8870,2396,13874,138651,14768,22364,150367,17269,42883,2845,104,6644},0,0,17,203,6,{9104,3950},106358,13899,16548},{{0,0,168,0,0,180,213,0,0,34,0,3632,3632,88,0,0,0,139,514,0,0,790,1047,91,0},3336,{3395,3395,15455,180073,19253,35557,273409,23665,55160,89938,1016,4147},0,173,17,25,7,{4820,8655},566358,14109,17676},{{0,0,107,0,35,453,161,0,0,5,0,453,3413,32,0,0,0,52,444,0,0,1361,2250,39,0},1884,{27953,5557,12193,214214,27368,15128,243492,33376,29941,1324,450,2619},0,1,18,302,8,{3365,6604},231798,18113,21530},{{0,0,88,0,0,255,247,0,0,5,0,2423,2423,26,5,0,0,48,410,0,0,894,942,37,0},435,{8491,2294,6774,153816,18632,18549,176371,21192,26190,14063,265,866},0,8,16,228,9,{7068,8869},16846,12815,14814},{{0,0,236,0,0,104,145,0,0,5,0,2837,2837,103,0,0,0,81,385,0,0,785,785,54,0},529,{10400,4090,8802,6508,1023,12794,22813,6452,23482,5903,1339,1885},50,0,14,35,10,{7817,8711},109890,8564,11920},null,null,null,null,null,null}</td><td>1980662</td><td>&quot;EUW1_7553544945.json&quot;</td><td>33</td></tr><tr><td>&quot;EUW1_7553544945&quot;</td><td>[&quot;1YriN2ziFtRXHZsKhQYvVVUlI_jAyx2dviI6eXmlDJBzbWNrS016f5ISdvZVAen5VDWVVZupKaOLAQ&quot;, &quot;1CWYtGFvhVX0coYI2-Bv1AdhNpb1tlSbxTIFsF0HqzjHEY17zYsbY15GKRIuGEFwss6ZcZLQoG73lA&quot;, … &quot;_dnZdcRGSXNX3Mh4T_zjbPwXz5I5KF8hyToscQdGXtH6OdJMHnIdFJzFJWqSeSWqB5KqheOaiVJHxg&quot;]</td><td>&quot;GameComplete&quot;</td><td>60000</td><td>[{null,null,null,null,null,null,1994665,&quot;WARD_PLACED&quot;,null,null,null,null,null,null,null,null,null,null,null,&quot;YELLOW_TRINKET&quot;,null,null,null,8,null,null,null,null,null,null,null,null,null,null,null,null,null,null}, {[8, 9, 10],0,null,7,{5007,10471},null,2001713,&quot;ELITE_MONSTER_KILL&quot;,null,null,null,null,null,null,null,null,null,null,null,null,200,&quot;BARON_NASHOR&quot;,null,null,null,null,null,null,null,null,null,null,null,null,null,null,null,null}, … {null,null,null,null,null,null,2039734,&quot;LEVEL_UP&quot;,null,null,null,null,10,null,null,null,null,null,15,null,null,null,null,null,null,null,null,null,null,null,null,null,null,null,null,null,null,null}]</td><td>{{{0,0,104,0,18,326,195,0,0,0,0,0,3142,30,0,0,0,64,481,0,0,1245,1473,38,0},560,{12648,6243,5888,187105,22616,30370,217349,36207,36702,17595,7347,443},0,0,17,228,1,{6933,7588},419796,13622,17071},{{0,0,101,0,35,342,208,0,0,0,0,2959,2959,44,0,0,0,64,420,0,0,1308,1318,38,0},561,{18909,2124,7825,222060,20007,33209,294683,23836,41644,53712,1704,609},0,196,17,21,2,{5827,6739},231276,13450,16749},{{0,472,153,0,0,111,129,0,0,0,0,2824,2824,23,0,12,0,50,380,0,0,1401,1533,34,0},1038,{143564,23911,4088,15498,1347,19769,162564,28245,24682,3502,2986,824},0,4,17,237,3,{7948,1917},139285,12928,17655},{{0,0,117,0,0,288,207,0,0,0,0,2712,2712,24,5,0,0,48,400,0,0,879,879,37,0},478,{23296,7169,4454,211890,23320,18050,251985,34692,23742,16798,4203,1238},0,20,16,250,4,{2631,6608},348281,14117,15259},{{0,225,97,0,0,95,164,0,0,0,0,2077,2077,44,0,0,0,47,410,0,0,1076,1185,218,0},554,{31881,11439,1818,5509,1223,10245,40303,13261,12225,2911,597,161},50,0,15,38,5,{5924,6269},315081,9718,13391},{{0,54,206,0,0,386,196,0,0,24,0,3569,3569,39,0,0,0,60,395,0,0,5,100,0,0},477,{8870,2396,13874,138652,14768,22364,150368,17269,42883,2845,104,6644},0,0,17,203,6,{8890,5573},106358,14321,17148},{{0,54,233,0,0,258,232,0,0,34,0,4106,4133,93,0,0,0,151,441,0,0,1105,1105,195,0},614,{3395,3395,15914,185123,20236,36495,281531,24698,56557,93010,1066,4147},0,177,18,25,7,{6542,7865},577982,14986,18864},{{0,54,167,0,35,516,161,0,0,5,0,1269,3413,32,0,0,0,112,553,0,0,2233,2250,314,0},2200,{32555,6637,12339,232917,28977,16363,267167,36117,32268,1694,502,3564},0,9,18,303,8,{7170,7717},263794,18930,22901},{{0,54,88,0,0,288,247,0,0,5,0,2423,2423,26,5,0,0,48,410,0,0,942,942,181,0},972,{9919,2294,7449,164792,18632,18549,188916,21192,26866,14204,265,866},0,12,16,229,9,{7913,6502},19951,13357,15757},{{0,54,328,0,0,140,148,0,0,29,0,3270,3275,108,0,0,0,149,480,0,0,819,832,191,0},481,{10604,4090,9706,7051,1023,13435,23829,6452,25026,6174,1339,1885},50,0,15,35,10,{7240,7440},109890,9016,13119},null,null,null,null,null,null}</td><td>2040669</td><td>&quot;EUW1_7553544945.json&quot;</td><td>34</td></tr><tr><td>&quot;EUW1_7553544945&quot;</td><td>[&quot;1YriN2ziFtRXHZsKhQYvVVUlI_jAyx2dviI6eXmlDJBzbWNrS016f5ISdvZVAen5VDWVVZupKaOLAQ&quot;, &quot;1CWYtGFvhVX0coYI2-Bv1AdhNpb1tlSbxTIFsF0HqzjHEY17zYsbY15GKRIuGEFwss6ZcZLQoG73lA&quot;, … &quot;_dnZdcRGSXNX3Mh4T_zjbPwXz5I5KF8hyToscQdGXtH6OdJMHnIdFJzFJWqSeSWqB5KqheOaiVJHxg&quot;]</td><td>&quot;GameComplete&quot;</td><td>60000</td><td>[{null,null,null,null,null,null,2042707,&quot;SKILL_LEVEL_UP&quot;,null,null,null,&quot;NORMAL&quot;,10,1,null,null,null,null,null,null,null,null,null,null,null,null,null,null,null,null,null,null,null,null,null,null,null,null}, {null,null,null,null,null,null,2047430,&quot;WARD_PLACED&quot;,null,null,null,null,null,null,null,null,null,null,null,&quot;BLUE_TRINKET&quot;,null,null,null,9,null,null,null,null,null,null,null,null,null,null,null,null,null,null}, … {null,null,null,null,null,null,2089013,&quot;WARD_PLACED&quot;,null,null,null,null,null,null,null,null,null,null,null,&quot;SIGHT_WARD&quot;,null,null,null,10,null,null,null,null,null,null,null,null,null,null,null,null,null,null}]</td><td>{{{0,0,104,0,18,326,195,0,0,0,0,3142,3142,30,0,0,0,64,640,0,0,1473,1473,38,0},682,{12831,6426,5888,187105,22616,30370,217696,36553,36702,17758,7510,443},0,0,17,228,1,{2203,1043},421633,13745,17071},{{0,0,101,0,35,342,183,0,0,0,0,2916,2959,44,0,0,0,64,457,0,0,1014,1318,38,0},804,{19556,2209,7825,225340,20497,33287,298855,24656,41722,53958,1949,609},0,196,17,23,2,{5066,3056},231276,13698,16942},{{0,472,153,0,0,111,154,0,0,0,0,2824,2824,23,0,12,0,50,380,0,0,1166,1533,34,0},1260,{146540,25317,4088,15499,1347,19769,165686,29796,24682,3647,3131,824},0,4,17,242,3,{3502,3462},141423,13149,17950},{{0,0,117,0,0,288,207,0,0,0,0,2712,2712,24,5,0,0,48,400,0,0,879,879,37,0},753,{24815,7879,4454,218849,24253,18238,261506,36802,23931,17841,4670,1238},0,20,16,255,4,{2569,3872},355664,14392,15538},{{0,225,97,0,0,95,164,0,0,0,0,1965,2077,44,0,0,0,47,410,0,0,1019,1185,218,0},706,{33048,11607,1950,5606,1223,10278,41566,13428,12390,2911,597,161},50,0,15,38,5,{4060,3202},326754,9871,13626},{{0,54,206,0,0,386,196,0,0,24,0,2767,3569,39,0,0,0,60,395,0,0,57,100,0,0},1019,{8870,2396,14160,152174,14768,22857,164424,17269,44069,3379,104,7052},0,0,17,218,6,{5619,1364},133063,14869,17891},{{0,54,233,0,0,258,232,0,0,34,0,3305,4133,93,0,0,0,151,440,0,0,1105,1105,195,0},854,{3395,3395,16389,194077,20236,37733,290835,24698,58564,93360,1066,4442},0,177,18,31,7,{4115,4367},599750,15227,19379},{{0,54,107,0,35,534,161,0,0,5,0,3191,3413,32,0,0,0,52,419,0,0,2250,2250,314,0},2227,{33918,6637,12339,250538,28977,16422,286361,36117,32490,1904,502,3727},0,9,18,318,8,{1089,5545},278537,19456,23887},{{0,54,88,0,0,288,247,0,0,5,0,1574,2423,26,5,0,0,48,410,0,0,942,942,181,0},1439,{10375,2426,8071,174681,18632,18915,199826,21324,28025,14769,265,1039},0,12,16,240,9,{4789,4882},40861,13823,16312},{{0,54,318,0,0,140,148,0,0,29,0,2543,3275,108,0,0,0,139,385,0,0,791,832,191,0},673,{11671,4090,10875,7053,1023,13745,24899,6452,26627,6174,1339,2005},50,0,15,37,10,{4830,4226},116886,9212,13391},null,null,null,null,null,null}</td><td>2100682</td><td>&quot;EUW1_7553544945.json&quot;</td><td>35</td></tr><tr><td>&quot;EUW1_7553544945&quot;</td><td>[&quot;1YriN2ziFtRXHZsKhQYvVVUlI_jAyx2dviI6eXmlDJBzbWNrS016f5ISdvZVAen5VDWVVZupKaOLAQ&quot;, &quot;1CWYtGFvhVX0coYI2-Bv1AdhNpb1tlSbxTIFsF0HqzjHEY17zYsbY15GKRIuGEFwss6ZcZLQoG73lA&quot;, … &quot;_dnZdcRGSXNX3Mh4T_zjbPwXz5I5KF8hyToscQdGXtH6OdJMHnIdFJzFJWqSeSWqB5KqheOaiVJHxg&quot;]</td><td>&quot;GameComplete&quot;</td><td>60000</td><td>[{null,null,null,null,null,null,2103120,&quot;WARD_PLACED&quot;,null,null,null,null,null,null,null,null,null,null,null,&quot;YELLOW_TRINKET&quot;,null,null,null,6,null,null,null,null,null,null,null,null,null,null,null,null,null,null}, {null,0,null,8,{1169,4287},null,2105592,&quot;BUILDING_KILL&quot;,null,null,null,null,null,null,&quot;TOWER_BUILDING&quot;,&quot;TOP_LANE&quot;,100,&quot;BASE_TURRET&quot;,null,null,null,null,null,null,null,null,null,null,null,null,null,null,null,null,null,null,null,null}, … {null,null,null,null,null,null,2155661,&quot;GAME_END&quot;,null,null,null,null,null,null,null,null,null,null,null,null,null,null,null,null,7553544945,1759483444352,200,null,null,null,null,null,null,null,null,null,null,null}]</td><td>{{{0,0,104,0,18,326,195,0,0,0,0,0,3152,30,0,0,0,64,390,0,0,1231,1473,38,0},1352,{13909,7504,6164,193814,24172,33652,226608,39748,40495,18884,8072,678},0,0,17,232,1,{1796,1356},431921,14414,17813},{{0,0,101,0,35,343,148,0,0,0,0,74,2959,44,0,0,0,64,427,0,0,822,1318,38,0},936,{19678,2279,8110,226943,21806,36149,300656,26111,45018,54034,2026,758},0,196,17,24,2,{2578,2058},233549,13910,17689},{{0,474,160,0,0,115,131,0,0,0,0,0,3318,24,0,12,0,52,380,0,0,611,1610,35,0},625,{150756,27976,4771,15611,1383,22101,170285,32761,28057,3917,3401,1184},0,4,18,242,3,{2502,1808},147740,13414,18680},{{0,0,117,0,0,289,207,0,0,0,0,0,2712,24,5,0,0,48,400,0,0,839,879,37,0},2586,{26268,8488,5130,226008,25902,21617,271505,39900,28289,19227,5508,1540},0,20,16,261,4,{2222,1462},380915,16225,16467},{{0,226,97,0,0,95,139,0,0,0,0,0,2077,44,0,0,0,47,410,0,0,946,1185,218,0},1013,{34538,12153,2405,5631,1248,11924,43081,13999,14692,2911,597,362},50,0,15,39,5,{1231,1109},352644,10177,14461},{{0,54,213,0,0,393,199,0,0,24,0,3400,3712,41,0,0,0,62,395,0,0,81,100,0,0},3202,{13875,2935,14329,164268,16595,23677,182055,19785,45752,3911,254,7745},0,0,18,228,6,{1200,1531},158555,17052,19689},{{0,0,233,0,0,185,232,0,0,34,0,0,4133,93,0,0,0,151,424,0,0,1038,1105,35,0},1528,{3687,3687,18887,196005,21102,40167,294605,25957,64153,94910,1166,5099},0,177,18,32,7,{2989,3907},656141,15900,20329},{{0,54,107,0,35,516,161,0,0,5,0,2214,3413,32,0,0,0,52,419,0,0,2198,2250,39,0},3506,{37678,6637,12360,279284,33061,17921,319723,40416,34010,2759,717,3727},0,9,18,333,8,{1303,2220},322773,20735,25739},{{0,0,94,0,0,258,251,0,0,5,0,7,2558,27,5,0,0,50,410,0,0,995,995,39,0},2540,{10968,3019,9157,181705,25051,19938,208016,28765,30264,15342,693,1169},0,12,17,241,9,{2192,1582},58157,14924,17236},{{0,0,241,0,0,107,148,0,0,29,0,0,3275,108,0,0,0,84,385,0,0,761,832,58,0},1272,{12892,5042,12061,7167,1134,14988,26587,7869,29694,6527,1692,2643},50,0,15,39,10,{2635,1986},138356,9817,14467},null,null,null,null,null,null}</td><td>2155661</td><td>&quot;EUW1_7553544945.json&quot;</td><td>35</td></tr></tbody></table></div>"
      ]
     },
     "execution_count": 27,
     "metadata": {},
     "output_type": "execute_result"
    }
   ],
   "execution_count": 27
  },
  {
   "metadata": {
    "ExecuteTime": {
     "end_time": "2025-10-07T20:25:12.813745Z",
     "start_time": "2025-10-07T20:25:12.793618Z"
    }
   },
   "cell_type": "code",
   "source": [
    "# 3) 事件表（避免 timestamp 重名）\n",
    "events_all = (\n",
    "    frames\n",
    "    .select(\n",
    "        \"match_id\",\n",
    "        pl.col(\"timestamp\").alias(\"frame_ts\"),  # 帧级时间\n",
    "        \"minute\",\n",
    "        \"events\",\n",
    "    )\n",
    "    .explode(\"events\")\n",
    "    .drop_nulls(\"events\")\n",
    "    .unnest(\"events\")                           # 这里会产生事件自己的 timestamp\n",
    "    .rename({\"timestamp\": \"event_ts\"})          # 事件级时间改名\n",
    "    .with_columns([\n",
    "        (pl.col(\"frame_ts\")/60000).cast(pl.Int64).alias(\"frame_minute\"),\n",
    "        # 有些事件可能没有 event_ts，用帧 minute 兜底\n",
    "        pl.when(pl.col(\"event_ts\").is_not_null())\n",
    "          .then((pl.col(\"event_ts\")/60000).cast(pl.Int64))\n",
    "          .otherwise(pl.col(\"minute\"))\n",
    "          .alias(\"event_minute\"),\n",
    "    ])\n",
    ")\n"
   ],
   "id": "c475b9c1da945312",
   "outputs": [],
   "execution_count": 11
  },
  {
   "metadata": {
    "ExecuteTime": {
     "end_time": "2025-10-07T21:12:53.630828Z",
     "start_time": "2025-10-07T21:12:53.617868Z"
    }
   },
   "cell_type": "code",
   "source": "events_all",
   "id": "bce840a5eb053c10",
   "outputs": [
    {
     "data": {
      "text/plain": [
       "shape: (21_117, 43)\n",
       "┌────────────┬──────────┬────────┬────────────┬───┬────────────┬───────────┬───────────┬───────────┐\n",
       "│ match_id   ┆ frame_ts ┆ minute ┆ assistingP ┆ … ┆ actualStar ┆ transform ┆ frame_min ┆ event_min │\n",
       "│ ---        ┆ ---      ┆ ---    ┆ articipant ┆   ┆ tTime      ┆ Type      ┆ ute       ┆ ute       │\n",
       "│ str        ┆ i64      ┆ i64    ┆ Ids        ┆   ┆ ---        ┆ ---       ┆ ---       ┆ ---       │\n",
       "│            ┆          ┆        ┆ ---        ┆   ┆ i64        ┆ str       ┆ i64       ┆ i64       │\n",
       "│            ┆          ┆        ┆ list[i64]  ┆   ┆            ┆           ┆           ┆           │\n",
       "╞════════════╪══════════╪════════╪════════════╪═══╪════════════╪═══════════╪═══════════╪═══════════╡\n",
       "│ EUW1_74604 ┆ 0        ┆ 0      ┆ null       ┆ … ┆ null       ┆ null      ┆ 0         ┆ 0         │\n",
       "│ 31991      ┆          ┆        ┆            ┆   ┆            ┆           ┆           ┆           │\n",
       "│ EUW1_74604 ┆ 0        ┆ 0      ┆ null       ┆ … ┆ null       ┆ null      ┆ 0         ┆ 0         │\n",
       "│ 31991      ┆          ┆        ┆            ┆   ┆            ┆           ┆           ┆           │\n",
       "│ EUW1_74604 ┆ 0        ┆ 0      ┆ null       ┆ … ┆ null       ┆ null      ┆ 0         ┆ 0         │\n",
       "│ 31991      ┆          ┆        ┆            ┆   ┆            ┆           ┆           ┆           │\n",
       "│ EUW1_74604 ┆ 0        ┆ 0      ┆ null       ┆ … ┆ null       ┆ null      ┆ 0         ┆ 0         │\n",
       "│ 31991      ┆          ┆        ┆            ┆   ┆            ┆           ┆           ┆           │\n",
       "│ EUW1_74604 ┆ 60001    ┆ 1      ┆ null       ┆ … ┆ null       ┆ null      ┆ 1         ┆ 0         │\n",
       "│ 31991      ┆          ┆        ┆            ┆   ┆            ┆           ┆           ┆           │\n",
       "│ …          ┆ …        ┆ …      ┆ …          ┆ … ┆ …          ┆ …         ┆ …         ┆ …         │\n",
       "│ EUW1_75535 ┆ 2155661  ┆ 35     ┆ null       ┆ … ┆ null       ┆ null      ┆ 35        ┆ 35        │\n",
       "│ 44945      ┆          ┆        ┆            ┆   ┆            ┆           ┆           ┆           │\n",
       "│ EUW1_75535 ┆ 2155661  ┆ 35     ┆ null       ┆ … ┆ null       ┆ null      ┆ 35        ┆ 35        │\n",
       "│ 44945      ┆          ┆        ┆            ┆   ┆            ┆           ┆           ┆           │\n",
       "│ EUW1_75535 ┆ 2155661  ┆ 35     ┆ null       ┆ … ┆ null       ┆ null      ┆ 35        ┆ 35        │\n",
       "│ 44945      ┆          ┆        ┆            ┆   ┆            ┆           ┆           ┆           │\n",
       "│ EUW1_75535 ┆ 2155661  ┆ 35     ┆ null       ┆ … ┆ null       ┆ null      ┆ 35        ┆ 35        │\n",
       "│ 44945      ┆          ┆        ┆            ┆   ┆            ┆           ┆           ┆           │\n",
       "│ EUW1_75535 ┆ 2155661  ┆ 35     ┆ null       ┆ … ┆ null       ┆ null      ┆ 35        ┆ 35        │\n",
       "│ 44945      ┆          ┆        ┆            ┆   ┆            ┆           ┆           ┆           │\n",
       "└────────────┴──────────┴────────┴────────────┴───┴────────────┴───────────┴───────────┴───────────┘"
      ],
      "text/html": [
       "<div><style>\n",
       ".dataframe > thead > tr,\n",
       ".dataframe > tbody > tr {\n",
       "  text-align: right;\n",
       "  white-space: pre-wrap;\n",
       "}\n",
       "</style>\n",
       "<small>shape: (21_117, 43)</small><table border=\"1\" class=\"dataframe\"><thead><tr><th>match_id</th><th>frame_ts</th><th>minute</th><th>assistingParticipantIds</th><th>bounty</th><th>killStreakLength</th><th>killerId</th><th>position</th><th>shutdownBounty</th><th>event_ts</th><th>type</th><th>victimDamageDealt</th><th>victimDamageReceived</th><th>victimId</th><th>levelUpType</th><th>participantId</th><th>skillSlot</th><th>buildingType</th><th>laneType</th><th>teamId</th><th>towerType</th><th>level</th><th>wardType</th><th>killerTeamId</th><th>monsterType</th><th>itemId</th><th>creatorId</th><th>gameId</th><th>realTimestamp</th><th>winningTeam</th><th>featType</th><th>featValue</th><th>afterId</th><th>beforeId</th><th>goldGain</th><th>killType</th><th>name</th><th>monsterSubType</th><th>multiKillLength</th><th>actualStartTime</th><th>transformType</th><th>frame_minute</th><th>event_minute</th></tr><tr><td>str</td><td>i64</td><td>i64</td><td>list[i64]</td><td>i64</td><td>i64</td><td>i64</td><td>struct[2]</td><td>i64</td><td>i64</td><td>str</td><td>list[struct[9]]</td><td>list[struct[9]]</td><td>i64</td><td>str</td><td>i64</td><td>i64</td><td>str</td><td>str</td><td>i64</td><td>str</td><td>i64</td><td>str</td><td>i64</td><td>str</td><td>i64</td><td>i64</td><td>i64</td><td>i64</td><td>i64</td><td>i64</td><td>i64</td><td>i64</td><td>i64</td><td>i64</td><td>str</td><td>str</td><td>str</td><td>i64</td><td>i64</td><td>str</td><td>i64</td><td>i64</td></tr></thead><tbody><tr><td>&quot;EUW1_7460431991&quot;</td><td>0</td><td>0</td><td>null</td><td>null</td><td>null</td><td>null</td><td>null</td><td>null</td><td>0</td><td>&quot;PAUSE_END&quot;</td><td>null</td><td>null</td><td>null</td><td>null</td><td>null</td><td>null</td><td>null</td><td>null</td><td>null</td><td>null</td><td>null</td><td>null</td><td>null</td><td>null</td><td>null</td><td>null</td><td>null</td><td>1752430310052</td><td>null</td><td>null</td><td>null</td><td>null</td><td>null</td><td>null</td><td>null</td><td>null</td><td>null</td><td>null</td><td>null</td><td>null</td><td>0</td><td>0</td></tr><tr><td>&quot;EUW1_7460431991&quot;</td><td>0</td><td>0</td><td>null</td><td>null</td><td>null</td><td>null</td><td>null</td><td>null</td><td>0</td><td>&quot;ITEM_PURCHASED&quot;</td><td>null</td><td>null</td><td>null</td><td>null</td><td>0</td><td>null</td><td>null</td><td>null</td><td>null</td><td>null</td><td>null</td><td>null</td><td>null</td><td>null</td><td>3865</td><td>null</td><td>null</td><td>null</td><td>null</td><td>null</td><td>null</td><td>null</td><td>null</td><td>null</td><td>null</td><td>null</td><td>null</td><td>null</td><td>null</td><td>null</td><td>0</td><td>0</td></tr><tr><td>&quot;EUW1_7460431991&quot;</td><td>0</td><td>0</td><td>null</td><td>null</td><td>null</td><td>null</td><td>null</td><td>null</td><td>0</td><td>&quot;WARD_PLACED&quot;</td><td>null</td><td>null</td><td>null</td><td>null</td><td>null</td><td>null</td><td>null</td><td>null</td><td>null</td><td>null</td><td>null</td><td>&quot;UNDEFINED&quot;</td><td>null</td><td>null</td><td>null</td><td>0</td><td>null</td><td>null</td><td>null</td><td>null</td><td>null</td><td>null</td><td>null</td><td>null</td><td>null</td><td>null</td><td>null</td><td>null</td><td>null</td><td>null</td><td>0</td><td>0</td></tr><tr><td>&quot;EUW1_7460431991&quot;</td><td>0</td><td>0</td><td>null</td><td>null</td><td>null</td><td>null</td><td>null</td><td>null</td><td>0</td><td>&quot;ITEM_PURCHASED&quot;</td><td>null</td><td>null</td><td>null</td><td>null</td><td>0</td><td>null</td><td>null</td><td>null</td><td>null</td><td>null</td><td>null</td><td>null</td><td>null</td><td>null</td><td>3865</td><td>null</td><td>null</td><td>null</td><td>null</td><td>null</td><td>null</td><td>null</td><td>null</td><td>null</td><td>null</td><td>null</td><td>null</td><td>null</td><td>null</td><td>null</td><td>0</td><td>0</td></tr><tr><td>&quot;EUW1_7460431991&quot;</td><td>60001</td><td>1</td><td>null</td><td>null</td><td>null</td><td>null</td><td>null</td><td>null</td><td>2750</td><td>&quot;ITEM_PURCHASED&quot;</td><td>null</td><td>null</td><td>null</td><td>null</td><td>8</td><td>null</td><td>null</td><td>null</td><td>null</td><td>null</td><td>null</td><td>null</td><td>null</td><td>null</td><td>1056</td><td>null</td><td>null</td><td>null</td><td>null</td><td>null</td><td>null</td><td>null</td><td>null</td><td>null</td><td>null</td><td>null</td><td>null</td><td>null</td><td>null</td><td>null</td><td>1</td><td>0</td></tr><tr><td>&hellip;</td><td>&hellip;</td><td>&hellip;</td><td>&hellip;</td><td>&hellip;</td><td>&hellip;</td><td>&hellip;</td><td>&hellip;</td><td>&hellip;</td><td>&hellip;</td><td>&hellip;</td><td>&hellip;</td><td>&hellip;</td><td>&hellip;</td><td>&hellip;</td><td>&hellip;</td><td>&hellip;</td><td>&hellip;</td><td>&hellip;</td><td>&hellip;</td><td>&hellip;</td><td>&hellip;</td><td>&hellip;</td><td>&hellip;</td><td>&hellip;</td><td>&hellip;</td><td>&hellip;</td><td>&hellip;</td><td>&hellip;</td><td>&hellip;</td><td>&hellip;</td><td>&hellip;</td><td>&hellip;</td><td>&hellip;</td><td>&hellip;</td><td>&hellip;</td><td>&hellip;</td><td>&hellip;</td><td>&hellip;</td><td>&hellip;</td><td>&hellip;</td><td>&hellip;</td><td>&hellip;</td></tr><tr><td>&quot;EUW1_7553544945&quot;</td><td>2155661</td><td>35</td><td>null</td><td>null</td><td>null</td><td>null</td><td>null</td><td>null</td><td>2141752</td><td>&quot;SKILL_LEVEL_UP&quot;</td><td>null</td><td>null</td><td>null</td><td>&quot;NORMAL&quot;</td><td>6</td><td>2</td><td>null</td><td>null</td><td>null</td><td>null</td><td>null</td><td>null</td><td>null</td><td>null</td><td>null</td><td>null</td><td>null</td><td>null</td><td>null</td><td>null</td><td>null</td><td>null</td><td>null</td><td>null</td><td>null</td><td>null</td><td>null</td><td>null</td><td>null</td><td>null</td><td>35</td><td>35</td></tr><tr><td>&quot;EUW1_7553544945&quot;</td><td>2155661</td><td>35</td><td>null</td><td>null</td><td>null</td><td>null</td><td>null</td><td>null</td><td>2143222</td><td>&quot;ITEM_PURCHASED&quot;</td><td>null</td><td>null</td><td>null</td><td>null</td><td>3</td><td>null</td><td>null</td><td>null</td><td>null</td><td>null</td><td>null</td><td>null</td><td>null</td><td>null</td><td>1011</td><td>null</td><td>null</td><td>null</td><td>null</td><td>null</td><td>null</td><td>null</td><td>null</td><td>null</td><td>null</td><td>null</td><td>null</td><td>null</td><td>null</td><td>null</td><td>35</td><td>35</td></tr><tr><td>&quot;EUW1_7553544945&quot;</td><td>2155661</td><td>35</td><td>null</td><td>0</td><td>null</td><td>8</td><td>{2177,1807}</td><td>null</td><td>2144491</td><td>&quot;BUILDING_KILL&quot;</td><td>null</td><td>null</td><td>null</td><td>null</td><td>null</td><td>null</td><td>&quot;TOWER_BUILDING&quot;</td><td>&quot;MID_LANE&quot;</td><td>100</td><td>&quot;NEXUS_TURRET&quot;</td><td>null</td><td>null</td><td>null</td><td>null</td><td>null</td><td>null</td><td>null</td><td>null</td><td>null</td><td>null</td><td>null</td><td>null</td><td>null</td><td>null</td><td>null</td><td>null</td><td>null</td><td>null</td><td>null</td><td>null</td><td>35</td><td>35</td></tr><tr><td>&quot;EUW1_7553544945&quot;</td><td>2155661</td><td>35</td><td>null</td><td>null</td><td>null</td><td>null</td><td>null</td><td>null</td><td>2146230</td><td>&quot;ITEM_PURCHASED&quot;</td><td>null</td><td>null</td><td>null</td><td>null</td><td>2</td><td>null</td><td>null</td><td>null</td><td>null</td><td>null</td><td>null</td><td>null</td><td>null</td><td>null</td><td>2055</td><td>null</td><td>null</td><td>null</td><td>null</td><td>null</td><td>null</td><td>null</td><td>null</td><td>null</td><td>null</td><td>null</td><td>null</td><td>null</td><td>null</td><td>null</td><td>35</td><td>35</td></tr><tr><td>&quot;EUW1_7553544945&quot;</td><td>2155661</td><td>35</td><td>null</td><td>null</td><td>null</td><td>null</td><td>null</td><td>null</td><td>2155661</td><td>&quot;GAME_END&quot;</td><td>null</td><td>null</td><td>null</td><td>null</td><td>null</td><td>null</td><td>null</td><td>null</td><td>null</td><td>null</td><td>null</td><td>null</td><td>null</td><td>null</td><td>null</td><td>null</td><td>7553544945</td><td>1759483444352</td><td>200</td><td>null</td><td>null</td><td>null</td><td>null</td><td>null</td><td>null</td><td>null</td><td>null</td><td>null</td><td>null</td><td>null</td><td>35</td><td>35</td></tr></tbody></table></div>"
      ]
     },
     "execution_count": 28,
     "metadata": {},
     "output_type": "execute_result"
    }
   ],
   "execution_count": 28
  },
  {
   "metadata": {
    "ExecuteTime": {
     "end_time": "2025-10-07T20:25:12.830924Z",
     "start_time": "2025-10-07T20:25:12.825929Z"
    }
   },
   "cell_type": "code",
   "source": [
    "# 4) participant_id <-> puuid\n",
    "pid_map = (\n",
    "    decoded\n",
    "    .select(\"match_id\", \"puuid_list\")\n",
    "    .explode(\"puuid_list\")\n",
    "    .with_row_index(\"participant_id\", offset=1)\n",
    "    .rename({\"puuid_list\": \"puuid\"})\n",
    ")"
   ],
   "id": "2671b8231ab0e9f8",
   "outputs": [],
   "execution_count": 12
  },
  {
   "metadata": {
    "ExecuteTime": {
     "end_time": "2025-10-07T20:25:13.061077Z",
     "start_time": "2025-10-07T20:25:12.856008Z"
    }
   },
   "cell_type": "code",
   "source": [
    "# 5) participant frames（无 melt 版本）\n",
    "pf_wide = (\n",
    "    frames\n",
    "    .select(\"match_id\", \"timestamp\", \"minute\", \"participantFrames\")\n",
    "    .drop_nulls(\"participantFrames\")\n",
    "    .unnest(\"participantFrames\")   # -> 列名 \"1\",\"2\",... 每列一个 struct\n",
    ")\n",
    "\n",
    "# 动态找出所有参赛者列（列名是纯数字的）\n",
    "pf_cols = [c for c in pf_wide.columns if c.isdigit()]\n",
    "pid_vals = [int(c) for c in pf_cols]\n",
    "\n",
    "pf_all = (\n",
    "    pf_wide\n",
    "    .with_columns([\n",
    "        pl.concat_list([pl.col(c) for c in pf_cols]).alias(\"pf_list\"),     # list<struct>\n",
    "        pl.lit(pid_vals).alias(\"pid_list\"),                                # list<int>\n",
    "    ])\n",
    "    .select(\"match_id\", \"timestamp\", \"minute\", \"pf_list\", \"pid_list\")\n",
    "    .explode([\"pf_list\", \"pid_list\"])                                      # 每个元素一行\n",
    "    .rename({\"pf_list\": \"pf\", \"pid_list\": \"participant_id\"})\n",
    "    .unnest(\"pf\")                                                          # 展开每位选手该分钟的结构\n",
    "    # 位置坐标展开（可能缺失）\n",
    "    .with_columns([\n",
    "        pl.when(pl.col(\"position\").is_not_null()).then(pl.col(\"position\").struct.field(\"x\")).otherwise(None).alias(\"pos_x\"),\n",
    "        pl.when(pl.col(\"position\").is_not_null()).then(pl.col(\"position\").struct.field(\"y\")).otherwise(None).alias(\"pos_y\"),\n",
    "    ])\n",
    "    .drop(\"position\")\n",
    "    # championStats / damageStats 展开（可能缺失）\n",
    "    .with_columns([\n",
    "        pl.when(pl.col(\"championStats\").is_not_null()).then(pl.col(\"championStats\")).otherwise(None).alias(\"championStats\"),\n",
    "        pl.when(pl.col(\"damageStats\").is_not_null()).then(pl.col(\"damageStats\")).otherwise(None).alias(\"damageStats\"),\n",
    "    ])\n",
    "    .unnest(\"championStats\")\n",
    "    .unnest(\"damageStats\")\n",
    "    .join(pid_map, on=[\"match_id\", \"participant_id\"], how=\"left\")\n",
    ")\n"
   ],
   "id": "6fd914b419bf3d56",
   "outputs": [],
   "execution_count": 13
  },
  {
   "metadata": {
    "ExecuteTime": {
     "end_time": "2025-10-07T20:25:13.079096Z",
     "start_time": "2025-10-07T20:25:13.069132Z"
    }
   },
   "cell_type": "code",
   "source": "pf_wide",
   "id": "8e3e7ac71f7b8239",
   "outputs": [
    {
     "data": {
      "text/plain": [
       "shape: (600, 19)\n",
       "┌────────────┬───────────┬────────┬────────────┬───┬───────────┬───────────┬───────────┬───────────┐\n",
       "│ match_id   ┆ timestamp ┆ minute ┆ 1          ┆ … ┆ 13        ┆ 14        ┆ 15        ┆ 16        │\n",
       "│ ---        ┆ ---       ┆ ---    ┆ ---        ┆   ┆ ---       ┆ ---       ┆ ---       ┆ ---       │\n",
       "│ str        ┆ i64       ┆ i64    ┆ struct[12] ┆   ┆ struct[12 ┆ struct[12 ┆ struct[12 ┆ struct[12 │\n",
       "│            ┆           ┆        ┆            ┆   ┆ ]         ┆ ]         ┆ ]         ┆ ]         │\n",
       "╞════════════╪═══════════╪════════╪════════════╪═══╪═══════════╪═══════════╪═══════════╪═══════════╡\n",
       "│ EUW1_74604 ┆ 0         ┆ 0      ┆ {{0,0,38,0 ┆ … ┆ null      ┆ null      ┆ null      ┆ null      │\n",
       "│ 31991      ┆           ┆        ┆ ,0,25,100, ┆   ┆           ┆           ┆           ┆           │\n",
       "│            ┆           ┆        ┆ 0,0,0,0,64 ┆   ┆           ┆           ┆           ┆           │\n",
       "│            ┆           ┆        ┆ …          ┆   ┆           ┆           ┆           ┆           │\n",
       "│ EUW1_74604 ┆ 60001     ┆ 1      ┆ {{0,18,38, ┆ … ┆ null      ┆ null      ┆ null      ┆ null      │\n",
       "│ 31991      ┆           ┆        ┆ 0,0,69,110 ┆   ┆           ┆           ┆           ┆           │\n",
       "│            ┆           ┆        ┆ ,0,0,0,0,7 ┆   ┆           ┆           ┆           ┆           │\n",
       "│            ┆           ┆        ┆ …          ┆   ┆           ┆           ┆           ┆           │\n",
       "│ EUW1_74604 ┆ 120014    ┆ 2      ┆ {{0,18,38, ┆ … ┆ null      ┆ null      ┆ null      ┆ null      │\n",
       "│ 31991      ┆           ┆        ┆ 0,0,69,110 ┆   ┆           ┆           ┆           ┆           │\n",
       "│            ┆           ┆        ┆ ,0,0,0,0,5 ┆   ┆           ┆           ┆           ┆           │\n",
       "│            ┆           ┆        ┆ …          ┆   ┆           ┆           ┆           ┆           │\n",
       "│ EUW1_74604 ┆ 180030    ┆ 3      ┆ {{0,18,44, ┆ … ┆ null      ┆ null      ┆ null      ┆ null      │\n",
       "│ 31991      ┆           ┆        ┆ 0,0,75,112 ┆   ┆           ┆           ┆           ┆           │\n",
       "│            ┆           ┆        ┆ ,0,0,0,0,6 ┆   ┆           ┆           ┆           ┆           │\n",
       "│            ┆           ┆        ┆ …          ┆   ┆           ┆           ┆           ┆           │\n",
       "│ EUW1_74604 ┆ 240058    ┆ 4      ┆ {{0,18,48, ┆ … ┆ null      ┆ null      ┆ null      ┆ null      │\n",
       "│ 31991      ┆           ┆        ┆ 0,0,78,113 ┆   ┆           ┆           ┆           ┆           │\n",
       "│            ┆           ┆        ┆ ,0,0,0,0,1 ┆   ┆           ┆           ┆           ┆           │\n",
       "│            ┆           ┆        ┆ …          ┆   ┆           ┆           ┆           ┆           │\n",
       "│ …          ┆ …         ┆ …      ┆ …          ┆ … ┆ …         ┆ …         ┆ …         ┆ …         │\n",
       "│ EUW1_75535 ┆ 1920656   ┆ 32     ┆ {{0,0,99,0 ┆ … ┆ null      ┆ null      ┆ null      ┆ null      │\n",
       "│ 44945      ┆           ┆        ┆ ,18,320,19 ┆   ┆           ┆           ┆           ┆           │\n",
       "│            ┆           ┆        ┆ 1,0,0,0,0, ┆   ┆           ┆           ┆           ┆           │\n",
       "│            ┆           ┆        ┆ …          ┆   ┆           ┆           ┆           ┆           │\n",
       "│ EUW1_75535 ┆ 1980662   ┆ 33     ┆ {{0,0,99,0 ┆ … ┆ null      ┆ null      ┆ null      ┆ null      │\n",
       "│ 44945      ┆           ┆        ┆ ,18,320,19 ┆   ┆           ┆           ┆           ┆           │\n",
       "│            ┆           ┆        ┆ 1,0,0,0,0, ┆   ┆           ┆           ┆           ┆           │\n",
       "│            ┆           ┆        ┆ …          ┆   ┆           ┆           ┆           ┆           │\n",
       "│ EUW1_75535 ┆ 2040669   ┆ 34     ┆ {{0,0,104, ┆ … ┆ null      ┆ null      ┆ null      ┆ null      │\n",
       "│ 44945      ┆           ┆        ┆ 0,18,326,1 ┆   ┆           ┆           ┆           ┆           │\n",
       "│            ┆           ┆        ┆ 95,0,0,0,0 ┆   ┆           ┆           ┆           ┆           │\n",
       "│            ┆           ┆        ┆ …          ┆   ┆           ┆           ┆           ┆           │\n",
       "│ EUW1_75535 ┆ 2100682   ┆ 35     ┆ {{0,0,104, ┆ … ┆ null      ┆ null      ┆ null      ┆ null      │\n",
       "│ 44945      ┆           ┆        ┆ 0,18,326,1 ┆   ┆           ┆           ┆           ┆           │\n",
       "│            ┆           ┆        ┆ 95,0,0,0,0 ┆   ┆           ┆           ┆           ┆           │\n",
       "│            ┆           ┆        ┆ …          ┆   ┆           ┆           ┆           ┆           │\n",
       "│ EUW1_75535 ┆ 2155661   ┆ 35     ┆ {{0,0,104, ┆ … ┆ null      ┆ null      ┆ null      ┆ null      │\n",
       "│ 44945      ┆           ┆        ┆ 0,18,326,1 ┆   ┆           ┆           ┆           ┆           │\n",
       "│            ┆           ┆        ┆ 95,0,0,0,0 ┆   ┆           ┆           ┆           ┆           │\n",
       "│            ┆           ┆        ┆ …          ┆   ┆           ┆           ┆           ┆           │\n",
       "└────────────┴───────────┴────────┴────────────┴───┴───────────┴───────────┴───────────┴───────────┘"
      ],
      "text/html": [
       "<div><style>\n",
       ".dataframe > thead > tr,\n",
       ".dataframe > tbody > tr {\n",
       "  text-align: right;\n",
       "  white-space: pre-wrap;\n",
       "}\n",
       "</style>\n",
       "<small>shape: (600, 19)</small><table border=\"1\" class=\"dataframe\"><thead><tr><th>match_id</th><th>timestamp</th><th>minute</th><th>1</th><th>2</th><th>3</th><th>4</th><th>5</th><th>6</th><th>7</th><th>8</th><th>9</th><th>10</th><th>11</th><th>12</th><th>13</th><th>14</th><th>15</th><th>16</th></tr><tr><td>str</td><td>i64</td><td>i64</td><td>struct[12]</td><td>struct[12]</td><td>struct[12]</td><td>struct[12]</td><td>struct[12]</td><td>struct[12]</td><td>struct[12]</td><td>struct[12]</td><td>struct[12]</td><td>struct[12]</td><td>struct[12]</td><td>struct[12]</td><td>struct[12]</td><td>struct[12]</td><td>struct[12]</td><td>struct[12]</td></tr></thead><tbody><tr><td>&quot;EUW1_7460431991&quot;</td><td>0</td><td>0</td><td>{{0,0,38,0,0,25,100,0,0,0,0,644,644,0,0,0,0,32,345,0,0,270,270,0,0},500,{0,0,0,0,0,0,0,0,0,0,0,0},0,0,1,0,1,{554,581},0,500,0}</td><td>{{0,0,33,0,0,25,100,0,0,0,0,669,669,0,0,0,0,32,355,0,0,251,251,0,0},500,{0,0,0,0,0,0,0,0,0,0,0,0},0,0,1,0,2,{593,464},0,500,0}</td><td>{{0,0,22,0,0,25,100,0,0,0,0,645,645,0,0,0,0,32,340,0,0,300,300,0,0},500,{0,0,0,0,0,0,0,0,0,0,0,0},0,0,1,0,3,{557,345},0,500,0}</td><td>{{0,0,24,0,0,25,100,0,0,0,0,655,655,0,0,0,0,30,330,0,0,300,300,0,0},500,{0,0,0,0,0,0,0,0,0,0,0,0},0,0,1,0,4,{458,271},0,500,0}</td><td>{{0,0,43,0,0,60,100,0,0,0,0,676,676,21,0,0,0,32,335,0,0,302,302,15,0},100,{0,0,0,0,0,0,0,0,0,0,0,0},30,0,1,0,5,{335,269},0,500,0}</td><td>{{0,0,34,0,0,25,100,0,0,0,0,610,610,0,0,0,0,32,340,0,0,400,400,0,0},500,{0,0,0,0,0,0,0,0,0,0,0,0},0,0,1,0,6,{14500,14511},0,500,0}</td><td>{{0,0,22,0,0,25,100,0,0,0,0,605,605,0,0,0,0,32,330,0,0,410,410,0,0},500,{0,0,0,0,0,0,0,0,0,0,0,0},0,0,1,0,7,{14539,14394},0,500,0}</td><td>{{0,0,25,0,0,25,100,0,0,0,0,563,563,0,0,0,0,30,330,0,0,480,480,0,0},500,{0,0,0,0,0,0,0,0,0,0,0,0},0,0,1,0,8,{14503,14275},0,500,0}</td><td>{{0,0,28,0,0,25,100,0,0,0,0,641,641,0,0,0,0,30,335,0,0,320,320,0,0},500,{0,0,0,0,0,0,0,0,0,0,0,0},0,0,1,0,9,{14404,14201},0,500,0}</td><td>{{0,0,26,0,0,48,100,0,0,0,0,590,590,12,0,0,0,30,330,0,0,365,365,28,0},100,{0,0,0,0,0,0,0,0,0,0,0,0},30,0,1,0,10,{14281,14199},0,500,0}</td><td>null</td><td>null</td><td>null</td><td>null</td><td>null</td><td>null</td></tr><tr><td>&quot;EUW1_7460431991&quot;</td><td>60001</td><td>1</td><td>{{0,18,38,0,0,69,110,0,0,0,0,754,754,18,0,0,0,32,345,0,0,270,270,14,0},0,{0,0,0,0,0,0,0,0,0,0,0,0},0,0,1,0,1,{4957,8589},0,500,0}</td><td>{{0,0,33,0,0,70,113,0,0,0,0,679,679,15,0,0,0,32,355,0,0,251,251,14,0},0,{0,0,0,0,0,0,0,0,0,0,0,0},0,0,1,0,2,{8472,4758},0,500,0}</td><td>{{0,9,22,0,0,58,110,0,0,0,0,655,655,16,0,0,0,32,340,0,0,544,544,16,0},0,{0,0,0,0,0,0,0,0,0,0,0,0},0,0,1,0,3,{6354,6496},0,500,0}</td><td>{{0,0,24,0,0,79,110,0,0,0,0,745,745,7,3,0,0,30,333,0,0,300,300,12,0},0,{0,0,0,0,0,0,0,0,0,0,0,0},0,0,1,0,4,{11568,1910},0,500,0}</td><td>{{0,0,43,0,0,60,100,0,0,0,0,696,696,21,0,0,0,32,335,0,0,302,302,15,0},0,{0,0,0,0,0,0,0,0,0,0,0,0},30,0,1,0,5,{12053,1384},0,500,0}</td><td>{{0,0,34,0,0,64,110,0,0,0,0,740,740,25,0,0,0,32,340,0,0,400,400,100,0},0,{0,0,0,0,0,0,0,0,0,0,0,0},0,0,1,0,6,{5404,12962},0,500,0}</td><td>{{0,18,22,0,0,61,100,0,0,0,0,615,615,5,0,0,0,32,330,0,0,410,410,23,0},50,{0,0,0,0,0,0,0,0,0,0,0,0},0,0,1,0,7,{6794,10076},0,500,0}</td><td>{{0,27,25,0,0,54,110,0,0,0,0,718,718,13,0,0,0,30,330,0,0,480,480,16,0},0,{0,0,0,0,0,0,0,0,0,0,0,0},0,0,1,0,8,{9129,6732},0,500,0}</td><td>{{0,0,28,0,0,75,110,0,0,0,0,731,731,7,3,0,0,30,335,0,0,320,320,14,0},0,{0,0,0,0,0,0,0,0,0,0,0,0},0,0,1,0,9,{11664,3939},0,500,0}</td><td>{{0,9,26,0,0,48,100,0,0,0,0,600,600,12,0,0,0,30,330,0,0,365,365,28,0},0,{0,0,0,0,0,0,0,0,0,0,0,0},30,0,1,0,10,{12075,4728},0,500,0}</td><td>null</td><td>null</td><td>null</td><td>null</td><td>null</td><td>null</td></tr><tr><td>&quot;EUW1_7460431991&quot;</td><td>120014</td><td>2</td><td>{{0,18,38,0,0,69,110,0,0,0,0,532,759,98,0,0,0,32,345,0,0,270,270,14,0},62,{271,86,96,197,123,160,469,210,257,0,0,0},0,0,1,1,1,{1560,12019},10053,562,123}</td><td>{{0,0,36,0,0,72,114,0,0,0,0,466,764,103,0,0,0,33,355,0,0,242,281,31,0},131,{0,0,0,2341,0,754,3602,0,754,1260,0,0},0,4,2,0,2,{8344,2533},0,631,325}</td><td>{{0,9,22,0,0,58,110,0,0,0,0,536,655,16,0,0,0,32,340,0,0,544,544,16,0},132,{0,0,138,441,0,0,441,0,138,0,0,0},0,0,1,5,3,{7414,7122},0,632,246}</td><td>{{0,0,24,0,0,79,110,0,0,0,0,745,745,7,3,0,0,30,382,0,0,249,300,12,0},111,{0,0,0,1324,203,0,1324,203,0,0,0,0},0,0,1,4,4,{12357,2658},0,611,180}</td><td>{{0,0,43,0,0,60,100,0,0,0,0,529,696,21,0,0,0,32,335,0,0,302,302,15,0},62,{0,0,19,420,0,185,600,0,205,180,0,0},30,0,1,1,5,{12641,2381},0,562,180}</td><td>{{0,0,34,0,0,64,110,0,0,0,0,490,750,64,0,0,0,32,340,0,0,235,400,100,0},118,{131,96,86,704,152,237,835,248,324,0,0,0},0,0,1,4,6,{2268,12296},267,618,215}</td><td>{{0,18,25,0,0,63,101,0,0,0,0,345,700,5,0,0,0,33,376,0,0,256,446,74,0},166,{1564,0,0,872,0,1048,5036,0,1048,2598,0,0},0,4,2,0,7,{6631,11380},0,616,300}</td><td>{{0,27,25,0,0,54,110,0,0,0,0,718,718,13,0,0,0,30,330,0,0,419,505,16,0},123,{320,138,0,413,0,0,733,138,0,0,0,0},0,0,1,4,8,{7473,7891},0,623,276}</td><td>{{0,0,28,0,0,75,110,0,0,0,0,637,731,7,3,0,0,30,335,0,0,302,320,14,0},118,{0,0,0,1230,118,121,1230,118,121,0,0,0},0,0,1,4,9,{13239,3066},0,618,140}</td><td>{{0,9,26,0,0,48,100,0,0,0,0,432,600,12,0,0,0,30,330,0,0,361,365,28,0},67,{19,19,0,259,67,187,278,86,187,0,0,0},30,0,1,0,10,{13430,2631},0,567,140}</td><td>null</td><td>null</td><td>null</td><td>null</td><td>null</td><td>null</td></tr><tr><td>&quot;EUW1_7460431991&quot;</td><td>180030</td><td>3</td><td>{{0,18,44,0,0,75,112,0,0,0,0,613,955,20,0,0,0,35,345,0,0,253,358,15,0},353,{1784,562,237,1744,382,678,3528,944,916,0,0,0},0,0,3,10,1,{1676,12373},60831,853,738}</td><td>{{0,0,39,0,0,74,116,0,0,0,0,636,853,25,0,0,0,35,355,0,0,276,312,30,0},528,{0,0,0,6206,0,1801,11766,0,1801,5560,0,0},0,15,3,0,2,{3315,7408},65023,1028,821}</td><td>{{0,9,28,0,0,62,113,0,0,0,0,365,863,98,0,0,0,33,340,0,0,452,689,18,0},465,{859,221,588,1746,0,57,2605,221,650,0,0,4},0,0,3,17,3,{7384,7042},1603,965,829}</td><td>{{0,0,27,0,0,83,110,0,0,0,0,147,832,8,3,0,0,30,333,0,0,153,336,13,0},488,{0,0,195,3636,905,722,3636,905,917,0,0,0},0,0,2,12,4,{12189,2151},400,988,579}</td><td>{{0,0,46,0,0,62,102,0,0,0,0,262,824,22,0,0,0,33,335,0,0,266,330,16,0},555,{159,159,222,816,151,793,1688,329,1016,712,18,0},30,0,2,3,5,{12266,2154},2505,1055,579}</td><td>{{0,0,40,0,0,68,114,0,0,0,0,454,952,76,0,0,0,35,340,0,0,305,400,100,0},325,{395,237,562,1657,473,588,2052,711,1150,0,0,0},0,0,3,9,6,{2187,11919},12925,825,798}</td><td>{{0,18,28,0,0,65,103,0,0,0,0,465,789,14,0,0,0,34,376,0,0,220,483,94,0},518,{4185,0,0,1944,0,2035,11533,0,2035,5402,0,0},0,14,3,0,7,{11531,7796},21919,968,706}</td><td>{{0,27,31,0,0,58,112,0,0,0,0,688,901,109,0,0,0,31,330,0,0,297,614,18,0},453,{953,588,221,1203,57,25,2161,650,246,4,4,0},0,0,3,15,8,{7839,8145},7414,953,798}</td><td>{{0,0,31,0,0,77,112,0,0,0,0,843,843,8,3,0,0,30,395,0,0,350,350,15,0},297,{158,158,121,2789,1111,835,2947,1270,974,0,0,18},0,0,2,7,9,{13478,6233},0,797,301}</td><td>{{0,9,29,0,0,50,102,0,0,0,0,484,673,13,0,0,0,30,330,0,0,325,445,29,0},288,{259,259,38,718,278,588,978,538,626,0,0,0},30,0,2,2,10,{13164,3160},7366,788,393}</td><td>null</td><td>null</td><td>null</td><td>null</td><td>null</td><td>null</td></tr><tr><td>&quot;EUW1_7460431991&quot;</td><td>240058</td><td>4</td><td>{{0,18,48,0,0,78,113,0,0,0,0,1060,1060,21,0,0,0,36,345,0,0,295,405,16,0},769,{3275,748,237,3436,436,745,8177,1185,982,1465,0,0},0,0,4,25,1,{2583,13056},101980,1269,1477}</td><td>{{0,0,42,0,0,76,120,0,0,0,0,933,946,17,0,0,0,36,355,0,0,346,346,101,0},916,{0,0,400,9522,0,2381,17551,0,2781,8028,0,0},0,28,4,0,2,{3845,11171},102881,1416,1316}</td><td>{{0,9,31,0,0,64,114,0,0,0,0,1058,1127,19,0,0,0,34,476,0,0,1059,1116,20,0},118,{3779,702,913,2412,49,190,6191,751,1130,0,0,27},0,0,4,28,3,{2195,1517},3273,1318,1477}</td><td>{{0,0,30,0,0,99,110,0,0,0,0,922,922,9,3,0,0,31,333,0,0,343,373,14,0},287,{0,0,195,4085,905,722,4085,905,917,0,0,0},0,0,3,16,4,{11009,1770},400,1187,719}</td><td>{{0,0,50,0,0,64,104,0,0,0,0,972,1070,24,0,0,0,35,335,0,0,361,361,17,0},160,{159,159,222,940,151,905,2010,329,1128,910,18,0},30,0,3,4,5,{11014,1403},2505,1210,719}</td><td>{{0,0,43,0,0,70,116,0,0,0,0,571,1053,28,0,0,0,36,340,0,0,385,400,100,0},622,{611,237,748,2692,473,714,3304,711,1463,0,0,0},0,0,4,16,6,{3496,13240},12925,1122,1355}</td><td>{{0,18,32,0,0,68,106,0,0,0,0,882,882,25,0,0,0,35,389,0,0,401,523,162,0},966,{6270,0,323,3214,0,2687,17285,0,3011,7800,0,0},0,28,4,0,7,{12283,6484},82194,1416,1316}</td><td>{{0,27,35,0,0,60,114,0,0,0,0,344,983,15,0,0,0,32,330,0,0,49,695,19,0},740,{2341,913,702,2435,190,306,4803,1130,1008,27,27,0},0,0,4,21,8,{8636,8926},23446,1240,1477}</td><td>{{0,0,34,0,0,79,114,0,0,0,0,928,928,9,3,0,0,31,335,0,0,296,383,16,0},713,{158,158,121,4106,1111,835,4265,1270,974,0,0,18},0,0,3,21,9,{12889,1819},0,1213,804}</td><td>{{0,9,32,0,0,52,104,0,0,0,0,640,749,14,0,0,0,31,330,0,0,461,478,30,0},492,{259,259,38,1024,278,593,1501,538,631,216,0,0},30,0,3,6,10,{11947,3628},7366,992,926}</td><td>null</td><td>null</td><td>null</td><td>null</td><td>null</td><td>null</td></tr><tr><td>&hellip;</td><td>&hellip;</td><td>&hellip;</td><td>&hellip;</td><td>&hellip;</td><td>&hellip;</td><td>&hellip;</td><td>&hellip;</td><td>&hellip;</td><td>&hellip;</td><td>&hellip;</td><td>&hellip;</td><td>&hellip;</td><td>&hellip;</td><td>&hellip;</td><td>&hellip;</td><td>&hellip;</td><td>&hellip;</td><td>&hellip;</td></tr><tr><td>&quot;EUW1_7553544945&quot;</td><td>1920656</td><td>32</td><td>{{0,0,99,0,18,320,191,0,0,0,0,2978,2978,208,0,0,0,61,390,0,0,1326,1398,36,0},559,{12436,6032,4404,165688,20586,25013,194196,32553,29617,16070,5935,199},0,0,16,216,1,{3934,5071},406699,13022,16453}</td><td>{{0,0,96,0,35,338,180,0,0,0,0,2794,2794,42,0,0,0,61,702,0,0,1232,1243,36,0},286,{18540,1755,7605,220143,18091,30099,291935,21089,38210,53251,1243,506},0,196,16,20,2,{1239,825},226673,13096,16457}</td><td>{{0,472,153,0,0,111,129,0,0,0,0,0,2824,23,0,12,0,50,380,0,0,886,1533,34,0},220,{134126,21915,2891,15149,1323,17539,152118,25564,21151,2842,2326,720},0,4,17,231,3,{7043,8934},138016,12109,16992}</td><td>{{0,0,117,0,0,288,207,0,0,0,0,2712,2712,24,5,0,0,48,400,0,0,849,879,37,0},1404,{22012,6042,2883,208442,21221,16750,245679,29952,20414,15223,2688,780},0,20,16,248,4,{7370,6932},339027,13768,15109}</td><td>{{0,205,91,0,0,91,136,0,0,0,0,1963,1963,42,0,0,0,45,410,0,0,826,1134,179,0},1014,{30262,10086,1776,5446,1166,8222,38235,11466,10052,2527,213,53},50,0,14,37,5,{9054,3983},299975,9274,12958}</td><td>{{0,0,200,0,0,340,187,0,0,24,0,3232,3261,37,3,0,0,57,395,0,0,11,100,0,0},497,{7276,1913,11486,136457,12800,21454,146474,14714,37951,2741,0,5010},0,0,16,203,6,{9955,4853},98346,13372,15842}</td><td>{{0,0,163,0,0,175,204,0,0,34,0,3485,3485,84,0,0,0,136,436,0,0,876,991,32,0},2565,{2960,2960,14750,172021,17919,33495,262307,21843,51858,87325,964,3611},0,169,16,24,7,{7842,8320},561548,13337,15995}</td><td>{{0,0,107,0,35,471,156,0,0,5,0,3125,3413,32,0,0,0,52,691,0,0,2250,2250,39,0},253,{23004,3655,10848,195720,22262,13235,219461,26102,26399,735,184,2315},0,1,18,294,8,{14340,14391},175632,16482,19767}</td><td>{{0,0,83,0,0,236,238,0,0,5,0,2292,2292,24,5,0,0,47,410,0,0,730,890,35,0},465,{8087,2092,6728,146572,15713,17227,155723,17928,24193,1063,122,237},0,8,15,225,9,{10148,4719},13473,12144,14346}</td><td>{{0,0,240,0,0,100,136,0,0,5,0,2458,2701,97,0,0,0,89,385,0,0,740,740,51,0},237,{9990,3680,8431,6359,939,11580,21904,5609,21309,5553,989,1296},50,0,13,35,10,{9999,4562},103527,8122,10963}</td><td>null</td><td>null</td><td>null</td><td>null</td><td>null</td><td>null</td></tr><tr><td>&quot;EUW1_7553544945&quot;</td><td>1980662</td><td>33</td><td>{{0,0,99,0,18,320,191,0,0,0,0,0,2984,29,0,0,0,61,390,0,0,1284,1398,36,0},81,{12446,6041,4808,169251,21903,27760,198235,34347,32910,16537,6401,341},0,0,16,216,1,{10666,5471},412213,13144,16478}</td><td>{{0,0,101,0,35,342,148,0,0,0,0,0,2959,44,0,0,0,64,420,0,0,999,1318,93,0},439,{18909,2124,7825,222060,20007,33209,294683,23836,41644,53712,1704,609},0,196,17,21,2,{7197,3485},231276,13328,16749}</td><td>{{0,472,153,0,0,111,129,0,0,0,0,0,2824,23,0,12,0,50,380,0,0,1180,1533,34,0},742,{138868,23911,4088,15174,1347,19769,157544,28245,24682,3502,2986,824},0,4,17,231,3,{8321,3491},139285,12631,17284}</td><td>{{0,0,117,0,0,288,207,0,0,0,0,0,2712,24,5,0,0,48,400,0,0,818,879,37,0},355,{23296,7169,4454,211890,23320,18050,251985,34692,23742,16798,4203,1238},0,20,16,250,4,{7036,4381},348281,13994,15259}</td><td>{{0,225,97,0,0,95,139,0,0,0,0,0,2077,44,0,0,0,47,410,0,0,689,1185,218,0},401,{31881,11439,1818,5509,1223,10245,40303,13261,12225,2911,597,161},50,0,15,38,5,{7661,3305},315081,9566,13289}</td><td>{{0,0,206,0,0,353,196,0,0,24,0,0,3569,39,0,0,0,60,395,0,0,0,100,0,0},55,{8870,2396,13874,138651,14768,22364,150367,17269,42883,2845,104,6644},0,0,17,203,6,{9104,3950},106358,13899,16548}</td><td>{{0,0,168,0,0,180,213,0,0,34,0,3632,3632,88,0,0,0,139,514,0,0,790,1047,91,0},3336,{3395,3395,15455,180073,19253,35557,273409,23665,55160,89938,1016,4147},0,173,17,25,7,{4820,8655},566358,14109,17676}</td><td>{{0,0,107,0,35,453,161,0,0,5,0,453,3413,32,0,0,0,52,444,0,0,1361,2250,39,0},1884,{27953,5557,12193,214214,27368,15128,243492,33376,29941,1324,450,2619},0,1,18,302,8,{3365,6604},231798,18113,21530}</td><td>{{0,0,88,0,0,255,247,0,0,5,0,2423,2423,26,5,0,0,48,410,0,0,894,942,37,0},435,{8491,2294,6774,153816,18632,18549,176371,21192,26190,14063,265,866},0,8,16,228,9,{7068,8869},16846,12815,14814}</td><td>{{0,0,236,0,0,104,145,0,0,5,0,2837,2837,103,0,0,0,81,385,0,0,785,785,54,0},529,{10400,4090,8802,6508,1023,12794,22813,6452,23482,5903,1339,1885},50,0,14,35,10,{7817,8711},109890,8564,11920}</td><td>null</td><td>null</td><td>null</td><td>null</td><td>null</td><td>null</td></tr><tr><td>&quot;EUW1_7553544945&quot;</td><td>2040669</td><td>34</td><td>{{0,0,104,0,18,326,195,0,0,0,0,0,3142,30,0,0,0,64,481,0,0,1245,1473,38,0},560,{12648,6243,5888,187105,22616,30370,217349,36207,36702,17595,7347,443},0,0,17,228,1,{6933,7588},419796,13622,17071}</td><td>{{0,0,101,0,35,342,208,0,0,0,0,2959,2959,44,0,0,0,64,420,0,0,1308,1318,38,0},561,{18909,2124,7825,222060,20007,33209,294683,23836,41644,53712,1704,609},0,196,17,21,2,{5827,6739},231276,13450,16749}</td><td>{{0,472,153,0,0,111,129,0,0,0,0,2824,2824,23,0,12,0,50,380,0,0,1401,1533,34,0},1038,{143564,23911,4088,15498,1347,19769,162564,28245,24682,3502,2986,824},0,4,17,237,3,{7948,1917},139285,12928,17655}</td><td>{{0,0,117,0,0,288,207,0,0,0,0,2712,2712,24,5,0,0,48,400,0,0,879,879,37,0},478,{23296,7169,4454,211890,23320,18050,251985,34692,23742,16798,4203,1238},0,20,16,250,4,{2631,6608},348281,14117,15259}</td><td>{{0,225,97,0,0,95,164,0,0,0,0,2077,2077,44,0,0,0,47,410,0,0,1076,1185,218,0},554,{31881,11439,1818,5509,1223,10245,40303,13261,12225,2911,597,161},50,0,15,38,5,{5924,6269},315081,9718,13391}</td><td>{{0,54,206,0,0,386,196,0,0,24,0,3569,3569,39,0,0,0,60,395,0,0,5,100,0,0},477,{8870,2396,13874,138652,14768,22364,150368,17269,42883,2845,104,6644},0,0,17,203,6,{8890,5573},106358,14321,17148}</td><td>{{0,54,233,0,0,258,232,0,0,34,0,4106,4133,93,0,0,0,151,441,0,0,1105,1105,195,0},614,{3395,3395,15914,185123,20236,36495,281531,24698,56557,93010,1066,4147},0,177,18,25,7,{6542,7865},577982,14986,18864}</td><td>{{0,54,167,0,35,516,161,0,0,5,0,1269,3413,32,0,0,0,112,553,0,0,2233,2250,314,0},2200,{32555,6637,12339,232917,28977,16363,267167,36117,32268,1694,502,3564},0,9,18,303,8,{7170,7717},263794,18930,22901}</td><td>{{0,54,88,0,0,288,247,0,0,5,0,2423,2423,26,5,0,0,48,410,0,0,942,942,181,0},972,{9919,2294,7449,164792,18632,18549,188916,21192,26866,14204,265,866},0,12,16,229,9,{7913,6502},19951,13357,15757}</td><td>{{0,54,328,0,0,140,148,0,0,29,0,3270,3275,108,0,0,0,149,480,0,0,819,832,191,0},481,{10604,4090,9706,7051,1023,13435,23829,6452,25026,6174,1339,1885},50,0,15,35,10,{7240,7440},109890,9016,13119}</td><td>null</td><td>null</td><td>null</td><td>null</td><td>null</td><td>null</td></tr><tr><td>&quot;EUW1_7553544945&quot;</td><td>2100682</td><td>35</td><td>{{0,0,104,0,18,326,195,0,0,0,0,3142,3142,30,0,0,0,64,640,0,0,1473,1473,38,0},682,{12831,6426,5888,187105,22616,30370,217696,36553,36702,17758,7510,443},0,0,17,228,1,{2203,1043},421633,13745,17071}</td><td>{{0,0,101,0,35,342,183,0,0,0,0,2916,2959,44,0,0,0,64,457,0,0,1014,1318,38,0},804,{19556,2209,7825,225340,20497,33287,298855,24656,41722,53958,1949,609},0,196,17,23,2,{5066,3056},231276,13698,16942}</td><td>{{0,472,153,0,0,111,154,0,0,0,0,2824,2824,23,0,12,0,50,380,0,0,1166,1533,34,0},1260,{146540,25317,4088,15499,1347,19769,165686,29796,24682,3647,3131,824},0,4,17,242,3,{3502,3462},141423,13149,17950}</td><td>{{0,0,117,0,0,288,207,0,0,0,0,2712,2712,24,5,0,0,48,400,0,0,879,879,37,0},753,{24815,7879,4454,218849,24253,18238,261506,36802,23931,17841,4670,1238},0,20,16,255,4,{2569,3872},355664,14392,15538}</td><td>{{0,225,97,0,0,95,164,0,0,0,0,1965,2077,44,0,0,0,47,410,0,0,1019,1185,218,0},706,{33048,11607,1950,5606,1223,10278,41566,13428,12390,2911,597,161},50,0,15,38,5,{4060,3202},326754,9871,13626}</td><td>{{0,54,206,0,0,386,196,0,0,24,0,2767,3569,39,0,0,0,60,395,0,0,57,100,0,0},1019,{8870,2396,14160,152174,14768,22857,164424,17269,44069,3379,104,7052},0,0,17,218,6,{5619,1364},133063,14869,17891}</td><td>{{0,54,233,0,0,258,232,0,0,34,0,3305,4133,93,0,0,0,151,440,0,0,1105,1105,195,0},854,{3395,3395,16389,194077,20236,37733,290835,24698,58564,93360,1066,4442},0,177,18,31,7,{4115,4367},599750,15227,19379}</td><td>{{0,54,107,0,35,534,161,0,0,5,0,3191,3413,32,0,0,0,52,419,0,0,2250,2250,314,0},2227,{33918,6637,12339,250538,28977,16422,286361,36117,32490,1904,502,3727},0,9,18,318,8,{1089,5545},278537,19456,23887}</td><td>{{0,54,88,0,0,288,247,0,0,5,0,1574,2423,26,5,0,0,48,410,0,0,942,942,181,0},1439,{10375,2426,8071,174681,18632,18915,199826,21324,28025,14769,265,1039},0,12,16,240,9,{4789,4882},40861,13823,16312}</td><td>{{0,54,318,0,0,140,148,0,0,29,0,2543,3275,108,0,0,0,139,385,0,0,791,832,191,0},673,{11671,4090,10875,7053,1023,13745,24899,6452,26627,6174,1339,2005},50,0,15,37,10,{4830,4226},116886,9212,13391}</td><td>null</td><td>null</td><td>null</td><td>null</td><td>null</td><td>null</td></tr><tr><td>&quot;EUW1_7553544945&quot;</td><td>2155661</td><td>35</td><td>{{0,0,104,0,18,326,195,0,0,0,0,0,3152,30,0,0,0,64,390,0,0,1231,1473,38,0},1352,{13909,7504,6164,193814,24172,33652,226608,39748,40495,18884,8072,678},0,0,17,232,1,{1796,1356},431921,14414,17813}</td><td>{{0,0,101,0,35,343,148,0,0,0,0,74,2959,44,0,0,0,64,427,0,0,822,1318,38,0},936,{19678,2279,8110,226943,21806,36149,300656,26111,45018,54034,2026,758},0,196,17,24,2,{2578,2058},233549,13910,17689}</td><td>{{0,474,160,0,0,115,131,0,0,0,0,0,3318,24,0,12,0,52,380,0,0,611,1610,35,0},625,{150756,27976,4771,15611,1383,22101,170285,32761,28057,3917,3401,1184},0,4,18,242,3,{2502,1808},147740,13414,18680}</td><td>{{0,0,117,0,0,289,207,0,0,0,0,0,2712,24,5,0,0,48,400,0,0,839,879,37,0},2586,{26268,8488,5130,226008,25902,21617,271505,39900,28289,19227,5508,1540},0,20,16,261,4,{2222,1462},380915,16225,16467}</td><td>{{0,226,97,0,0,95,139,0,0,0,0,0,2077,44,0,0,0,47,410,0,0,946,1185,218,0},1013,{34538,12153,2405,5631,1248,11924,43081,13999,14692,2911,597,362},50,0,15,39,5,{1231,1109},352644,10177,14461}</td><td>{{0,54,213,0,0,393,199,0,0,24,0,3400,3712,41,0,0,0,62,395,0,0,81,100,0,0},3202,{13875,2935,14329,164268,16595,23677,182055,19785,45752,3911,254,7745},0,0,18,228,6,{1200,1531},158555,17052,19689}</td><td>{{0,0,233,0,0,185,232,0,0,34,0,0,4133,93,0,0,0,151,424,0,0,1038,1105,35,0},1528,{3687,3687,18887,196005,21102,40167,294605,25957,64153,94910,1166,5099},0,177,18,32,7,{2989,3907},656141,15900,20329}</td><td>{{0,54,107,0,35,516,161,0,0,5,0,2214,3413,32,0,0,0,52,419,0,0,2198,2250,39,0},3506,{37678,6637,12360,279284,33061,17921,319723,40416,34010,2759,717,3727},0,9,18,333,8,{1303,2220},322773,20735,25739}</td><td>{{0,0,94,0,0,258,251,0,0,5,0,7,2558,27,5,0,0,50,410,0,0,995,995,39,0},2540,{10968,3019,9157,181705,25051,19938,208016,28765,30264,15342,693,1169},0,12,17,241,9,{2192,1582},58157,14924,17236}</td><td>{{0,0,241,0,0,107,148,0,0,29,0,0,3275,108,0,0,0,84,385,0,0,761,832,58,0},1272,{12892,5042,12061,7167,1134,14988,26587,7869,29694,6527,1692,2643},50,0,15,39,10,{2635,1986},138356,9817,14467}</td><td>null</td><td>null</td><td>null</td><td>null</td><td>null</td><td>null</td></tr></tbody></table></div>"
      ]
     },
     "execution_count": 14,
     "metadata": {},
     "output_type": "execute_result"
    }
   ],
   "execution_count": 14
  },
  {
   "metadata": {
    "ExecuteTime": {
     "end_time": "2025-10-07T20:25:13.205083Z",
     "start_time": "2025-10-07T20:25:13.129853Z"
    }
   },
   "cell_type": "code",
   "source": [
    "frames.select(\"match_id\",\"timestamp\",\"minute\").write_parquet(\"frames.parquet\")\n",
    "events_all.write_parquet(\"events.parquet\")\n",
    "pf_all.write_parquet(\"participant_frames.parquet\")\n"
   ],
   "id": "797c5970de1a0509",
   "outputs": [],
   "execution_count": 15
  },
  {
   "metadata": {
    "ExecuteTime": {
     "end_time": "2025-10-07T20:25:13.333331Z",
     "start_time": "2025-10-07T20:25:13.314319Z"
    }
   },
   "cell_type": "code",
   "source": [
    "# 每分钟增量\n",
    "pf_deltas = (\n",
    "    pf_all\n",
    "    .sort([\"match_id\",\"participant_id\",\"minute\"])\n",
    "    .group_by([\"match_id\",\"participant_id\",\"puuid\"])\n",
    "    .agg([\n",
    "        pl.col(\"minute\"),\n",
    "        pl.col(\"minionsKilled\").diff().alias(\"cs_delta\"),\n",
    "        pl.col(\"totalGold\").diff().alias(\"gold_delta\"),\n",
    "        pl.col(\"xp\").diff().alias(\"xp_delta\"),\n",
    "    ])\n",
    "    .explode([\"minute\",\"cs_delta\",\"gold_delta\",\"xp_delta\"])\n",
    ")\n"
   ],
   "id": "998bcd6c9ad1b99a",
   "outputs": [],
   "execution_count": 16
  },
  {
   "metadata": {
    "ExecuteTime": {
     "end_time": "2025-10-07T20:25:13.397065Z",
     "start_time": "2025-10-07T20:25:13.380662Z"
    }
   },
   "cell_type": "code",
   "source": [
    "key_types = [\"CHAMPION_KILL\",\"ELITE_MONSTER_KILL\",\"BUILDING_KILL\",\"HERALD_KILL\",\"DRAGON_KILL\",\"BARON_KILL\"]\n",
    "events_by_min = (\n",
    "    events_all\n",
    "    .filter(pl.col(\"type\").is_in(key_types))\n",
    "    .group_by([\"match_id\",\"event_minute\",\"type\"])\n",
    "    .len().rename({\"len\":\"count\"})\n",
    ")\n",
    "events_by_min"
   ],
   "id": "9163d02d96875911",
   "outputs": [
    {
     "data": {
      "text/plain": [
       "shape: (685, 4)\n",
       "┌─────────────────┬──────────────┬────────────────────┬───────┐\n",
       "│ match_id        ┆ event_minute ┆ type               ┆ count │\n",
       "│ ---             ┆ ---          ┆ ---                ┆ ---   │\n",
       "│ str             ┆ i64          ┆ str                ┆ u32   │\n",
       "╞═════════════════╪══════════════╪════════════════════╪═══════╡\n",
       "│ EUW1_7542824880 ┆ 34           ┆ CHAMPION_KILL      ┆ 4     │\n",
       "│ EUW1_7542824880 ┆ 11           ┆ CHAMPION_KILL      ┆ 1     │\n",
       "│ EUW1_7460431991 ┆ 6            ┆ CHAMPION_KILL      ┆ 1     │\n",
       "│ EUW1_7542742986 ┆ 3            ┆ CHAMPION_KILL      ┆ 1     │\n",
       "│ EUW1_7527642750 ┆ 14           ┆ CHAMPION_KILL      ┆ 1     │\n",
       "│ …               ┆ …            ┆ …                  ┆ …     │\n",
       "│ EUW1_7553493341 ┆ 23           ┆ CHAMPION_KILL      ┆ 2     │\n",
       "│ EUW1_7497135255 ┆ 20           ┆ BUILDING_KILL      ┆ 1     │\n",
       "│ EUW1_7497169681 ┆ 0            ┆ CHAMPION_KILL      ┆ 1     │\n",
       "│ EUW1_7527762593 ┆ 20           ┆ CHAMPION_KILL      ┆ 3     │\n",
       "│ EUW1_7553544945 ┆ 26           ┆ ELITE_MONSTER_KILL ┆ 1     │\n",
       "└─────────────────┴──────────────┴────────────────────┴───────┘"
      ],
      "text/html": [
       "<div><style>\n",
       ".dataframe > thead > tr,\n",
       ".dataframe > tbody > tr {\n",
       "  text-align: right;\n",
       "  white-space: pre-wrap;\n",
       "}\n",
       "</style>\n",
       "<small>shape: (685, 4)</small><table border=\"1\" class=\"dataframe\"><thead><tr><th>match_id</th><th>event_minute</th><th>type</th><th>count</th></tr><tr><td>str</td><td>i64</td><td>str</td><td>u32</td></tr></thead><tbody><tr><td>&quot;EUW1_7542824880&quot;</td><td>34</td><td>&quot;CHAMPION_KILL&quot;</td><td>4</td></tr><tr><td>&quot;EUW1_7542824880&quot;</td><td>11</td><td>&quot;CHAMPION_KILL&quot;</td><td>1</td></tr><tr><td>&quot;EUW1_7460431991&quot;</td><td>6</td><td>&quot;CHAMPION_KILL&quot;</td><td>1</td></tr><tr><td>&quot;EUW1_7542742986&quot;</td><td>3</td><td>&quot;CHAMPION_KILL&quot;</td><td>1</td></tr><tr><td>&quot;EUW1_7527642750&quot;</td><td>14</td><td>&quot;CHAMPION_KILL&quot;</td><td>1</td></tr><tr><td>&hellip;</td><td>&hellip;</td><td>&hellip;</td><td>&hellip;</td></tr><tr><td>&quot;EUW1_7553493341&quot;</td><td>23</td><td>&quot;CHAMPION_KILL&quot;</td><td>2</td></tr><tr><td>&quot;EUW1_7497135255&quot;</td><td>20</td><td>&quot;BUILDING_KILL&quot;</td><td>1</td></tr><tr><td>&quot;EUW1_7497169681&quot;</td><td>0</td><td>&quot;CHAMPION_KILL&quot;</td><td>1</td></tr><tr><td>&quot;EUW1_7527762593&quot;</td><td>20</td><td>&quot;CHAMPION_KILL&quot;</td><td>3</td></tr><tr><td>&quot;EUW1_7553544945&quot;</td><td>26</td><td>&quot;ELITE_MONSTER_KILL&quot;</td><td>1</td></tr></tbody></table></div>"
      ]
     },
     "execution_count": 17,
     "metadata": {},
     "output_type": "execute_result"
    }
   ],
   "execution_count": 17
  },
  {
   "metadata": {
    "ExecuteTime": {
     "end_time": "2025-10-07T20:25:13.502290Z",
     "start_time": "2025-10-07T20:25:13.497368Z"
    }
   },
   "cell_type": "code",
   "source": "events_by_min",
   "id": "51a7f469b360eef1",
   "outputs": [
    {
     "data": {
      "text/plain": [
       "shape: (685, 4)\n",
       "┌─────────────────┬──────────────┬────────────────────┬───────┐\n",
       "│ match_id        ┆ event_minute ┆ type               ┆ count │\n",
       "│ ---             ┆ ---          ┆ ---                ┆ ---   │\n",
       "│ str             ┆ i64          ┆ str                ┆ u32   │\n",
       "╞═════════════════╪══════════════╪════════════════════╪═══════╡\n",
       "│ EUW1_7542824880 ┆ 34           ┆ CHAMPION_KILL      ┆ 4     │\n",
       "│ EUW1_7542824880 ┆ 11           ┆ CHAMPION_KILL      ┆ 1     │\n",
       "│ EUW1_7460431991 ┆ 6            ┆ CHAMPION_KILL      ┆ 1     │\n",
       "│ EUW1_7542742986 ┆ 3            ┆ CHAMPION_KILL      ┆ 1     │\n",
       "│ EUW1_7527642750 ┆ 14           ┆ CHAMPION_KILL      ┆ 1     │\n",
       "│ …               ┆ …            ┆ …                  ┆ …     │\n",
       "│ EUW1_7553493341 ┆ 23           ┆ CHAMPION_KILL      ┆ 2     │\n",
       "│ EUW1_7497135255 ┆ 20           ┆ BUILDING_KILL      ┆ 1     │\n",
       "│ EUW1_7497169681 ┆ 0            ┆ CHAMPION_KILL      ┆ 1     │\n",
       "│ EUW1_7527762593 ┆ 20           ┆ CHAMPION_KILL      ┆ 3     │\n",
       "│ EUW1_7553544945 ┆ 26           ┆ ELITE_MONSTER_KILL ┆ 1     │\n",
       "└─────────────────┴──────────────┴────────────────────┴───────┘"
      ],
      "text/html": [
       "<div><style>\n",
       ".dataframe > thead > tr,\n",
       ".dataframe > tbody > tr {\n",
       "  text-align: right;\n",
       "  white-space: pre-wrap;\n",
       "}\n",
       "</style>\n",
       "<small>shape: (685, 4)</small><table border=\"1\" class=\"dataframe\"><thead><tr><th>match_id</th><th>event_minute</th><th>type</th><th>count</th></tr><tr><td>str</td><td>i64</td><td>str</td><td>u32</td></tr></thead><tbody><tr><td>&quot;EUW1_7542824880&quot;</td><td>34</td><td>&quot;CHAMPION_KILL&quot;</td><td>4</td></tr><tr><td>&quot;EUW1_7542824880&quot;</td><td>11</td><td>&quot;CHAMPION_KILL&quot;</td><td>1</td></tr><tr><td>&quot;EUW1_7460431991&quot;</td><td>6</td><td>&quot;CHAMPION_KILL&quot;</td><td>1</td></tr><tr><td>&quot;EUW1_7542742986&quot;</td><td>3</td><td>&quot;CHAMPION_KILL&quot;</td><td>1</td></tr><tr><td>&quot;EUW1_7527642750&quot;</td><td>14</td><td>&quot;CHAMPION_KILL&quot;</td><td>1</td></tr><tr><td>&hellip;</td><td>&hellip;</td><td>&hellip;</td><td>&hellip;</td></tr><tr><td>&quot;EUW1_7553493341&quot;</td><td>23</td><td>&quot;CHAMPION_KILL&quot;</td><td>2</td></tr><tr><td>&quot;EUW1_7497135255&quot;</td><td>20</td><td>&quot;BUILDING_KILL&quot;</td><td>1</td></tr><tr><td>&quot;EUW1_7497169681&quot;</td><td>0</td><td>&quot;CHAMPION_KILL&quot;</td><td>1</td></tr><tr><td>&quot;EUW1_7527762593&quot;</td><td>20</td><td>&quot;CHAMPION_KILL&quot;</td><td>3</td></tr><tr><td>&quot;EUW1_7553544945&quot;</td><td>26</td><td>&quot;ELITE_MONSTER_KILL&quot;</td><td>1</td></tr></tbody></table></div>"
      ]
     },
     "execution_count": 18,
     "metadata": {},
     "output_type": "execute_result"
    }
   ],
   "execution_count": 18
  },
  {
   "metadata": {
    "ExecuteTime": {
     "end_time": "2025-10-07T20:25:13.586767Z",
     "start_time": "2025-10-07T20:25:13.579089Z"
    }
   },
   "cell_type": "code",
   "source": "events_all",
   "id": "786c9cfbc57fe9e7",
   "outputs": [
    {
     "data": {
      "text/plain": [
       "shape: (21_117, 43)\n",
       "┌────────────┬──────────┬────────┬────────────┬───┬────────────┬───────────┬───────────┬───────────┐\n",
       "│ match_id   ┆ frame_ts ┆ minute ┆ assistingP ┆ … ┆ actualStar ┆ transform ┆ frame_min ┆ event_min │\n",
       "│ ---        ┆ ---      ┆ ---    ┆ articipant ┆   ┆ tTime      ┆ Type      ┆ ute       ┆ ute       │\n",
       "│ str        ┆ i64      ┆ i64    ┆ Ids        ┆   ┆ ---        ┆ ---       ┆ ---       ┆ ---       │\n",
       "│            ┆          ┆        ┆ ---        ┆   ┆ i64        ┆ str       ┆ i64       ┆ i64       │\n",
       "│            ┆          ┆        ┆ list[i64]  ┆   ┆            ┆           ┆           ┆           │\n",
       "╞════════════╪══════════╪════════╪════════════╪═══╪════════════╪═══════════╪═══════════╪═══════════╡\n",
       "│ EUW1_74604 ┆ 0        ┆ 0      ┆ null       ┆ … ┆ null       ┆ null      ┆ 0         ┆ 0         │\n",
       "│ 31991      ┆          ┆        ┆            ┆   ┆            ┆           ┆           ┆           │\n",
       "│ EUW1_74604 ┆ 0        ┆ 0      ┆ null       ┆ … ┆ null       ┆ null      ┆ 0         ┆ 0         │\n",
       "│ 31991      ┆          ┆        ┆            ┆   ┆            ┆           ┆           ┆           │\n",
       "│ EUW1_74604 ┆ 0        ┆ 0      ┆ null       ┆ … ┆ null       ┆ null      ┆ 0         ┆ 0         │\n",
       "│ 31991      ┆          ┆        ┆            ┆   ┆            ┆           ┆           ┆           │\n",
       "│ EUW1_74604 ┆ 0        ┆ 0      ┆ null       ┆ … ┆ null       ┆ null      ┆ 0         ┆ 0         │\n",
       "│ 31991      ┆          ┆        ┆            ┆   ┆            ┆           ┆           ┆           │\n",
       "│ EUW1_74604 ┆ 60001    ┆ 1      ┆ null       ┆ … ┆ null       ┆ null      ┆ 1         ┆ 0         │\n",
       "│ 31991      ┆          ┆        ┆            ┆   ┆            ┆           ┆           ┆           │\n",
       "│ …          ┆ …        ┆ …      ┆ …          ┆ … ┆ …          ┆ …         ┆ …         ┆ …         │\n",
       "│ EUW1_75535 ┆ 2155661  ┆ 35     ┆ null       ┆ … ┆ null       ┆ null      ┆ 35        ┆ 35        │\n",
       "│ 44945      ┆          ┆        ┆            ┆   ┆            ┆           ┆           ┆           │\n",
       "│ EUW1_75535 ┆ 2155661  ┆ 35     ┆ null       ┆ … ┆ null       ┆ null      ┆ 35        ┆ 35        │\n",
       "│ 44945      ┆          ┆        ┆            ┆   ┆            ┆           ┆           ┆           │\n",
       "│ EUW1_75535 ┆ 2155661  ┆ 35     ┆ null       ┆ … ┆ null       ┆ null      ┆ 35        ┆ 35        │\n",
       "│ 44945      ┆          ┆        ┆            ┆   ┆            ┆           ┆           ┆           │\n",
       "│ EUW1_75535 ┆ 2155661  ┆ 35     ┆ null       ┆ … ┆ null       ┆ null      ┆ 35        ┆ 35        │\n",
       "│ 44945      ┆          ┆        ┆            ┆   ┆            ┆           ┆           ┆           │\n",
       "│ EUW1_75535 ┆ 2155661  ┆ 35     ┆ null       ┆ … ┆ null       ┆ null      ┆ 35        ┆ 35        │\n",
       "│ 44945      ┆          ┆        ┆            ┆   ┆            ┆           ┆           ┆           │\n",
       "└────────────┴──────────┴────────┴────────────┴───┴────────────┴───────────┴───────────┴───────────┘"
      ],
      "text/html": [
       "<div><style>\n",
       ".dataframe > thead > tr,\n",
       ".dataframe > tbody > tr {\n",
       "  text-align: right;\n",
       "  white-space: pre-wrap;\n",
       "}\n",
       "</style>\n",
       "<small>shape: (21_117, 43)</small><table border=\"1\" class=\"dataframe\"><thead><tr><th>match_id</th><th>frame_ts</th><th>minute</th><th>assistingParticipantIds</th><th>bounty</th><th>killStreakLength</th><th>killerId</th><th>position</th><th>shutdownBounty</th><th>event_ts</th><th>type</th><th>victimDamageDealt</th><th>victimDamageReceived</th><th>victimId</th><th>levelUpType</th><th>participantId</th><th>skillSlot</th><th>buildingType</th><th>laneType</th><th>teamId</th><th>towerType</th><th>level</th><th>wardType</th><th>killerTeamId</th><th>monsterType</th><th>itemId</th><th>creatorId</th><th>gameId</th><th>realTimestamp</th><th>winningTeam</th><th>featType</th><th>featValue</th><th>afterId</th><th>beforeId</th><th>goldGain</th><th>killType</th><th>name</th><th>monsterSubType</th><th>multiKillLength</th><th>actualStartTime</th><th>transformType</th><th>frame_minute</th><th>event_minute</th></tr><tr><td>str</td><td>i64</td><td>i64</td><td>list[i64]</td><td>i64</td><td>i64</td><td>i64</td><td>struct[2]</td><td>i64</td><td>i64</td><td>str</td><td>list[struct[9]]</td><td>list[struct[9]]</td><td>i64</td><td>str</td><td>i64</td><td>i64</td><td>str</td><td>str</td><td>i64</td><td>str</td><td>i64</td><td>str</td><td>i64</td><td>str</td><td>i64</td><td>i64</td><td>i64</td><td>i64</td><td>i64</td><td>i64</td><td>i64</td><td>i64</td><td>i64</td><td>i64</td><td>str</td><td>str</td><td>str</td><td>i64</td><td>i64</td><td>str</td><td>i64</td><td>i64</td></tr></thead><tbody><tr><td>&quot;EUW1_7460431991&quot;</td><td>0</td><td>0</td><td>null</td><td>null</td><td>null</td><td>null</td><td>null</td><td>null</td><td>0</td><td>&quot;PAUSE_END&quot;</td><td>null</td><td>null</td><td>null</td><td>null</td><td>null</td><td>null</td><td>null</td><td>null</td><td>null</td><td>null</td><td>null</td><td>null</td><td>null</td><td>null</td><td>null</td><td>null</td><td>null</td><td>1752430310052</td><td>null</td><td>null</td><td>null</td><td>null</td><td>null</td><td>null</td><td>null</td><td>null</td><td>null</td><td>null</td><td>null</td><td>null</td><td>0</td><td>0</td></tr><tr><td>&quot;EUW1_7460431991&quot;</td><td>0</td><td>0</td><td>null</td><td>null</td><td>null</td><td>null</td><td>null</td><td>null</td><td>0</td><td>&quot;ITEM_PURCHASED&quot;</td><td>null</td><td>null</td><td>null</td><td>null</td><td>0</td><td>null</td><td>null</td><td>null</td><td>null</td><td>null</td><td>null</td><td>null</td><td>null</td><td>null</td><td>3865</td><td>null</td><td>null</td><td>null</td><td>null</td><td>null</td><td>null</td><td>null</td><td>null</td><td>null</td><td>null</td><td>null</td><td>null</td><td>null</td><td>null</td><td>null</td><td>0</td><td>0</td></tr><tr><td>&quot;EUW1_7460431991&quot;</td><td>0</td><td>0</td><td>null</td><td>null</td><td>null</td><td>null</td><td>null</td><td>null</td><td>0</td><td>&quot;WARD_PLACED&quot;</td><td>null</td><td>null</td><td>null</td><td>null</td><td>null</td><td>null</td><td>null</td><td>null</td><td>null</td><td>null</td><td>null</td><td>&quot;UNDEFINED&quot;</td><td>null</td><td>null</td><td>null</td><td>0</td><td>null</td><td>null</td><td>null</td><td>null</td><td>null</td><td>null</td><td>null</td><td>null</td><td>null</td><td>null</td><td>null</td><td>null</td><td>null</td><td>null</td><td>0</td><td>0</td></tr><tr><td>&quot;EUW1_7460431991&quot;</td><td>0</td><td>0</td><td>null</td><td>null</td><td>null</td><td>null</td><td>null</td><td>null</td><td>0</td><td>&quot;ITEM_PURCHASED&quot;</td><td>null</td><td>null</td><td>null</td><td>null</td><td>0</td><td>null</td><td>null</td><td>null</td><td>null</td><td>null</td><td>null</td><td>null</td><td>null</td><td>null</td><td>3865</td><td>null</td><td>null</td><td>null</td><td>null</td><td>null</td><td>null</td><td>null</td><td>null</td><td>null</td><td>null</td><td>null</td><td>null</td><td>null</td><td>null</td><td>null</td><td>0</td><td>0</td></tr><tr><td>&quot;EUW1_7460431991&quot;</td><td>60001</td><td>1</td><td>null</td><td>null</td><td>null</td><td>null</td><td>null</td><td>null</td><td>2750</td><td>&quot;ITEM_PURCHASED&quot;</td><td>null</td><td>null</td><td>null</td><td>null</td><td>8</td><td>null</td><td>null</td><td>null</td><td>null</td><td>null</td><td>null</td><td>null</td><td>null</td><td>null</td><td>1056</td><td>null</td><td>null</td><td>null</td><td>null</td><td>null</td><td>null</td><td>null</td><td>null</td><td>null</td><td>null</td><td>null</td><td>null</td><td>null</td><td>null</td><td>null</td><td>1</td><td>0</td></tr><tr><td>&hellip;</td><td>&hellip;</td><td>&hellip;</td><td>&hellip;</td><td>&hellip;</td><td>&hellip;</td><td>&hellip;</td><td>&hellip;</td><td>&hellip;</td><td>&hellip;</td><td>&hellip;</td><td>&hellip;</td><td>&hellip;</td><td>&hellip;</td><td>&hellip;</td><td>&hellip;</td><td>&hellip;</td><td>&hellip;</td><td>&hellip;</td><td>&hellip;</td><td>&hellip;</td><td>&hellip;</td><td>&hellip;</td><td>&hellip;</td><td>&hellip;</td><td>&hellip;</td><td>&hellip;</td><td>&hellip;</td><td>&hellip;</td><td>&hellip;</td><td>&hellip;</td><td>&hellip;</td><td>&hellip;</td><td>&hellip;</td><td>&hellip;</td><td>&hellip;</td><td>&hellip;</td><td>&hellip;</td><td>&hellip;</td><td>&hellip;</td><td>&hellip;</td><td>&hellip;</td><td>&hellip;</td></tr><tr><td>&quot;EUW1_7553544945&quot;</td><td>2155661</td><td>35</td><td>null</td><td>null</td><td>null</td><td>null</td><td>null</td><td>null</td><td>2141752</td><td>&quot;SKILL_LEVEL_UP&quot;</td><td>null</td><td>null</td><td>null</td><td>&quot;NORMAL&quot;</td><td>6</td><td>2</td><td>null</td><td>null</td><td>null</td><td>null</td><td>null</td><td>null</td><td>null</td><td>null</td><td>null</td><td>null</td><td>null</td><td>null</td><td>null</td><td>null</td><td>null</td><td>null</td><td>null</td><td>null</td><td>null</td><td>null</td><td>null</td><td>null</td><td>null</td><td>null</td><td>35</td><td>35</td></tr><tr><td>&quot;EUW1_7553544945&quot;</td><td>2155661</td><td>35</td><td>null</td><td>null</td><td>null</td><td>null</td><td>null</td><td>null</td><td>2143222</td><td>&quot;ITEM_PURCHASED&quot;</td><td>null</td><td>null</td><td>null</td><td>null</td><td>3</td><td>null</td><td>null</td><td>null</td><td>null</td><td>null</td><td>null</td><td>null</td><td>null</td><td>null</td><td>1011</td><td>null</td><td>null</td><td>null</td><td>null</td><td>null</td><td>null</td><td>null</td><td>null</td><td>null</td><td>null</td><td>null</td><td>null</td><td>null</td><td>null</td><td>null</td><td>35</td><td>35</td></tr><tr><td>&quot;EUW1_7553544945&quot;</td><td>2155661</td><td>35</td><td>null</td><td>0</td><td>null</td><td>8</td><td>{2177,1807}</td><td>null</td><td>2144491</td><td>&quot;BUILDING_KILL&quot;</td><td>null</td><td>null</td><td>null</td><td>null</td><td>null</td><td>null</td><td>&quot;TOWER_BUILDING&quot;</td><td>&quot;MID_LANE&quot;</td><td>100</td><td>&quot;NEXUS_TURRET&quot;</td><td>null</td><td>null</td><td>null</td><td>null</td><td>null</td><td>null</td><td>null</td><td>null</td><td>null</td><td>null</td><td>null</td><td>null</td><td>null</td><td>null</td><td>null</td><td>null</td><td>null</td><td>null</td><td>null</td><td>null</td><td>35</td><td>35</td></tr><tr><td>&quot;EUW1_7553544945&quot;</td><td>2155661</td><td>35</td><td>null</td><td>null</td><td>null</td><td>null</td><td>null</td><td>null</td><td>2146230</td><td>&quot;ITEM_PURCHASED&quot;</td><td>null</td><td>null</td><td>null</td><td>null</td><td>2</td><td>null</td><td>null</td><td>null</td><td>null</td><td>null</td><td>null</td><td>null</td><td>null</td><td>null</td><td>2055</td><td>null</td><td>null</td><td>null</td><td>null</td><td>null</td><td>null</td><td>null</td><td>null</td><td>null</td><td>null</td><td>null</td><td>null</td><td>null</td><td>null</td><td>null</td><td>35</td><td>35</td></tr><tr><td>&quot;EUW1_7553544945&quot;</td><td>2155661</td><td>35</td><td>null</td><td>null</td><td>null</td><td>null</td><td>null</td><td>null</td><td>2155661</td><td>&quot;GAME_END&quot;</td><td>null</td><td>null</td><td>null</td><td>null</td><td>null</td><td>null</td><td>null</td><td>null</td><td>null</td><td>null</td><td>null</td><td>null</td><td>null</td><td>null</td><td>null</td><td>null</td><td>7553544945</td><td>1759483444352</td><td>200</td><td>null</td><td>null</td><td>null</td><td>null</td><td>null</td><td>null</td><td>null</td><td>null</td><td>null</td><td>null</td><td>null</td><td>35</td><td>35</td></tr></tbody></table></div>"
      ]
     },
     "execution_count": 19,
     "metadata": {},
     "output_type": "execute_result"
    }
   ],
   "execution_count": 19
  },
  {
   "metadata": {
    "ExecuteTime": {
     "end_time": "2025-10-07T20:25:13.794967Z",
     "start_time": "2025-10-07T20:25:13.769885Z"
    }
   },
   "cell_type": "code",
   "source": [
    "positions = (\n",
    "    pf_all\n",
    "    .select(\"match_id\", \"participant_id\", \"puuid\", \"minute\", \"pos_x\", \"pos_y\")\n",
    "    .drop_nulls([\"pos_x\",\"pos_y\"])\n",
    ")\n",
    "\n",
    "# 转为 pandas 方便绘图\n",
    "pos_df = positions.to_pandas()"
   ],
   "id": "d85d4bbc3a29c11c",
   "outputs": [],
   "execution_count": 20
  },
  {
   "metadata": {
    "ExecuteTime": {
     "end_time": "2025-10-07T20:29:31.379968Z",
     "start_time": "2025-10-07T20:29:31.365679Z"
    }
   },
   "cell_type": "code",
   "source": "pos_df",
   "id": "37f0c23b89c8e404",
   "outputs": [
    {
     "data": {
      "text/plain": [
       "             match_id  participant_id  \\\n",
       "0     EUW1_7460431991               1   \n",
       "1     EUW1_7460431991               2   \n",
       "2     EUW1_7460431991               3   \n",
       "3     EUW1_7460431991               4   \n",
       "4     EUW1_7460431991               5   \n",
       "...               ...             ...   \n",
       "6157  EUW1_7553544945               6   \n",
       "6158  EUW1_7553544945               7   \n",
       "6159  EUW1_7553544945               8   \n",
       "6160  EUW1_7553544945               9   \n",
       "6161  EUW1_7553544945              10   \n",
       "\n",
       "                                                  puuid  minute  pos_x  pos_y  \n",
       "0     l-0H-IREJElPO_Q1cnCf3eb1NFNZC1HU5QpZa_6BM0foro...       0    554    581  \n",
       "1     0MYzLuIKha_ryS_jf8ZwmTT2Dzr9JK4ksX9w90L11ySalW...       0    593    464  \n",
       "2     vBjIAdKSUwb5jxM4EUObenTJuRsVxKsDI1VBjyGTJH_5EZ...       0    557    345  \n",
       "3     BNoDi_l5VMcN0YGc8Btm7oXwoSdV3dZzfxEGFN3WKsIe5g...       0    458    271  \n",
       "4     _dnZdcRGSXNX3Mh4T_zjbPwXz5I5KF8hyToscQdGXtH6Od...       0    335    269  \n",
       "...                                                 ...     ...    ...    ...  \n",
       "6157                                               None      35   1200   1531  \n",
       "6158                                               None      35   2989   3907  \n",
       "6159                                               None      35   1303   2220  \n",
       "6160                                               None      35   2192   1582  \n",
       "6161                                               None      35   2635   1986  \n",
       "\n",
       "[6162 rows x 6 columns]"
      ],
      "text/html": [
       "<div>\n",
       "<style scoped>\n",
       "    .dataframe tbody tr th:only-of-type {\n",
       "        vertical-align: middle;\n",
       "    }\n",
       "\n",
       "    .dataframe tbody tr th {\n",
       "        vertical-align: top;\n",
       "    }\n",
       "\n",
       "    .dataframe thead th {\n",
       "        text-align: right;\n",
       "    }\n",
       "</style>\n",
       "<table border=\"1\" class=\"dataframe\">\n",
       "  <thead>\n",
       "    <tr style=\"text-align: right;\">\n",
       "      <th></th>\n",
       "      <th>match_id</th>\n",
       "      <th>participant_id</th>\n",
       "      <th>puuid</th>\n",
       "      <th>minute</th>\n",
       "      <th>pos_x</th>\n",
       "      <th>pos_y</th>\n",
       "    </tr>\n",
       "  </thead>\n",
       "  <tbody>\n",
       "    <tr>\n",
       "      <th>0</th>\n",
       "      <td>EUW1_7460431991</td>\n",
       "      <td>1</td>\n",
       "      <td>l-0H-IREJElPO_Q1cnCf3eb1NFNZC1HU5QpZa_6BM0foro...</td>\n",
       "      <td>0</td>\n",
       "      <td>554</td>\n",
       "      <td>581</td>\n",
       "    </tr>\n",
       "    <tr>\n",
       "      <th>1</th>\n",
       "      <td>EUW1_7460431991</td>\n",
       "      <td>2</td>\n",
       "      <td>0MYzLuIKha_ryS_jf8ZwmTT2Dzr9JK4ksX9w90L11ySalW...</td>\n",
       "      <td>0</td>\n",
       "      <td>593</td>\n",
       "      <td>464</td>\n",
       "    </tr>\n",
       "    <tr>\n",
       "      <th>2</th>\n",
       "      <td>EUW1_7460431991</td>\n",
       "      <td>3</td>\n",
       "      <td>vBjIAdKSUwb5jxM4EUObenTJuRsVxKsDI1VBjyGTJH_5EZ...</td>\n",
       "      <td>0</td>\n",
       "      <td>557</td>\n",
       "      <td>345</td>\n",
       "    </tr>\n",
       "    <tr>\n",
       "      <th>3</th>\n",
       "      <td>EUW1_7460431991</td>\n",
       "      <td>4</td>\n",
       "      <td>BNoDi_l5VMcN0YGc8Btm7oXwoSdV3dZzfxEGFN3WKsIe5g...</td>\n",
       "      <td>0</td>\n",
       "      <td>458</td>\n",
       "      <td>271</td>\n",
       "    </tr>\n",
       "    <tr>\n",
       "      <th>4</th>\n",
       "      <td>EUW1_7460431991</td>\n",
       "      <td>5</td>\n",
       "      <td>_dnZdcRGSXNX3Mh4T_zjbPwXz5I5KF8hyToscQdGXtH6Od...</td>\n",
       "      <td>0</td>\n",
       "      <td>335</td>\n",
       "      <td>269</td>\n",
       "    </tr>\n",
       "    <tr>\n",
       "      <th>...</th>\n",
       "      <td>...</td>\n",
       "      <td>...</td>\n",
       "      <td>...</td>\n",
       "      <td>...</td>\n",
       "      <td>...</td>\n",
       "      <td>...</td>\n",
       "    </tr>\n",
       "    <tr>\n",
       "      <th>6157</th>\n",
       "      <td>EUW1_7553544945</td>\n",
       "      <td>6</td>\n",
       "      <td>None</td>\n",
       "      <td>35</td>\n",
       "      <td>1200</td>\n",
       "      <td>1531</td>\n",
       "    </tr>\n",
       "    <tr>\n",
       "      <th>6158</th>\n",
       "      <td>EUW1_7553544945</td>\n",
       "      <td>7</td>\n",
       "      <td>None</td>\n",
       "      <td>35</td>\n",
       "      <td>2989</td>\n",
       "      <td>3907</td>\n",
       "    </tr>\n",
       "    <tr>\n",
       "      <th>6159</th>\n",
       "      <td>EUW1_7553544945</td>\n",
       "      <td>8</td>\n",
       "      <td>None</td>\n",
       "      <td>35</td>\n",
       "      <td>1303</td>\n",
       "      <td>2220</td>\n",
       "    </tr>\n",
       "    <tr>\n",
       "      <th>6160</th>\n",
       "      <td>EUW1_7553544945</td>\n",
       "      <td>9</td>\n",
       "      <td>None</td>\n",
       "      <td>35</td>\n",
       "      <td>2192</td>\n",
       "      <td>1582</td>\n",
       "    </tr>\n",
       "    <tr>\n",
       "      <th>6161</th>\n",
       "      <td>EUW1_7553544945</td>\n",
       "      <td>10</td>\n",
       "      <td>None</td>\n",
       "      <td>35</td>\n",
       "      <td>2635</td>\n",
       "      <td>1986</td>\n",
       "    </tr>\n",
       "  </tbody>\n",
       "</table>\n",
       "<p>6162 rows × 6 columns</p>\n",
       "</div>"
      ]
     },
     "execution_count": 21,
     "metadata": {},
     "output_type": "execute_result"
    }
   ],
   "execution_count": 21
  },
  {
   "metadata": {
    "ExecuteTime": {
     "end_time": "2025-10-07T20:46:39.539391Z",
     "start_time": "2025-10-07T20:46:39.211273Z"
    }
   },
   "cell_type": "code",
   "source": [
    "\n",
    "\n",
    "# 选一局比赛\n",
    "match_id = pos_df[\"match_id\"].iloc[0]\n",
    "df = pos_df[pos_df[\"match_id\"] == match_id]\n",
    "\n",
    "# 2D 直方图（heatmap）\n",
    "bins = 100  # 网格细度，可调 80~150\n",
    "H, xedges, yedges = np.histogram2d(df[\"pos_x\"], df[\"pos_y\"], bins=bins, range=[[0,15000],[0,15000]])\n",
    "\n",
    "plt.figure(figsize=(6,6))\n",
    "# 注意：imshow 需要把原点放在左上角，同时翻转 y 轴\n",
    "plt.imshow(H.T, origin=\"lower\", extent=[0,15000,0,15000], aspect=\"equal\")\n",
    "plt.gca().invert_yaxis()\n",
    "plt.title(f\"Position Heatmap — Match {match_id}\")\n",
    "plt.xlabel(\"x\"); plt.ylabel(\"y\")\n",
    "plt.colorbar(label=\"Density\")\n",
    "plt.tight_layout()\n",
    "plt.show()\n"
   ],
   "id": "9026a84f06777abe",
   "outputs": [
    {
     "data": {
      "text/plain": [
       "<Figure size 600x600 with 2 Axes>"
      ],
      "image/png": "[encoded data removed]"
     },
     "metadata": {},
     "output_type": "display_data"
    }
   ],
   "execution_count": 22
  },
  {
   "metadata": {
    "ExecuteTime": {
     "end_time": "2025-10-09T21:56:54.006017Z",
     "start_time": "2025-10-09T21:56:53.973637Z"
    }
   },
   "cell_type": "code",
   "source": [
    "# --- A. 逐事件 events（从 frames 提取）---\n",
    "def build_events(frames: pl.DataFrame) -> pl.DataFrame:\n",
    "    events = (\n",
    "        frames\n",
    "        .select(\n",
    "            \"match_id\",\n",
    "            pl.col(\"timestamp\").alias(\"frame_ts\"),  # 帧级时间\n",
    "            \"minute\",\n",
    "            \"events\",\n",
    "        )\n",
    "        .explode(\"events\")\n",
    "        .drop_nulls(\"events\")\n",
    "        .unnest(\"events\")\n",
    "        .with_columns([\n",
    "            (pl.col(\"frame_ts\")/60000).cast(pl.Int64).alias(\"frame_minute\"),\n",
    "            # 有些事件可能没有 event_ts，用帧 minute 兜底\n",
    "            pl.when(pl.col(\"timestamp\").is_not_null())\n",
    "              .then((pl.col(\"timestamp\")/60000).cast(pl.Int64))\n",
    "              .otherwise(pl.col(\"minute\"))\n",
    "              .alias(\"event_minute\"),\n",
    "            pl.col(\"position\").struct.field(\"x\").alias(\"pos_x\"),\n",
    "            pl.col(\"position\").struct.field(\"y\").alias(\"pos_y\"),\n",
    "        ]).drop(\"position\", strict=False)\n",
    "        # 常见键保留：type, killerId, victimId, assistingParticipantIds,\n",
    "        # itemId, monsterType, monsterSubType, buildingType, towerType, bounty, etc.\n",
    "    )\n",
    "    return events\n",
    "\n",
    "events = build_events(frames)\n",
    "\n",
    "events"
   ],
   "id": "dcf436f21c3c63dc",
   "outputs": [],
   "execution_count": 41
  },
  {
   "metadata": {},
   "cell_type": "code",
   "outputs": [],
   "execution_count": null,
   "source": "",
   "id": "8e7fd4238d5a7818"
  },
  {
   "metadata": {
    "ExecuteTime": {
     "end_time": "2025-10-09T21:49:07.377448Z",
     "start_time": "2025-10-09T21:49:07.310940Z"
    }
   },
   "cell_type": "code",
   "source": [
    "\n",
    "\n",
    "\n",
    "\n",
    "# --- B. 逐帧逐人快照 participant_snapshots（从 frames 提取）---\n",
    "#   包含：pos_x/pos_y, totalGold, xp, minionsKilled, jungleMinionsKilled, damageStats, championStats ...\n",
    "def build_participant_snapshots(frames: pl.DataFrame) -> pl.DataFrame:\n",
    "    ps = (\n",
    "        frames\n",
    "        .select([\"match_id\", \"minute\", \"timestamp\", \"participantFrames\"])\n",
    "        .explode(\"participantFrames\")\n",
    "        .drop_nulls(\"participantFrames\")\n",
    "        .unnest(\"participantFrames\")\n",
    "        .with_columns([\n",
    "            pl.col(\"position\").struct.field(\"x\").alias(\"pos_x\"),\n",
    "            pl.col(\"position\").struct.field(\"y\").alias(\"pos_y\"),\n",
    "        ]).drop(\"position\", strict=False)\n",
    "        # participantId: 1..10\n",
    "        .with_columns([\n",
    "            pl.when(pl.col(\"participantId\") <= 5).then(100).otherwise(200).alias(\"team_id\")\n",
    "        ])\n",
    "    )\n",
    "    return ps\n",
    "\n",
    "# --- C. matches（每场）— 从 decoded + events/participant_snapshots 派生关键聚合 ---\n",
    "def build_matches(decoded: pl.DataFrame, events: pl.DataFrame, ps: pl.DataFrame) -> pl.DataFrame:\n",
    "    # 首龙/首先锋\n",
    "    first_objectives = (\n",
    "        events\n",
    "        .filter(pl.col(\"type\") == \"ELITE_MONSTER_KILL\")\n",
    "        .with_columns([\n",
    "            pl.when(pl.col(\"monsterType\") == \"DRAGON\").then(1).otherwise(0).alias(\"is_dragon\"),\n",
    "            pl.when(pl.col(\"monsterType\") == \"RIFTHERALD\").then(1).otherwise(0).alias(\"is_herald\"),\n",
    "        ])\n",
    "        .groupby(\"match_id\")\n",
    "        .agg([\n",
    "            pl.when(pl.col(\"is_dragon\") == 1).then(pl.col(\"timestamp\")).min().alias(\"first_dragon_ts\"),\n",
    "            pl.when(pl.col(\"is_herald\") == 1).then(pl.col(\"timestamp\")).min().alias(\"first_herald_ts\"),\n",
    "            pl.sum(pl.col(\"is_dragon\")).alias(\"dragon_count\"),\n",
    "            pl.sum(pl.col(\"is_herald\")).alias(\"herald_count\"),\n",
    "            pl.count().alias(\"elite_kills\"),\n",
    "        ])\n",
    "    )\n",
    "\n",
    "    # 团队金差 @ 5/10/15\n",
    "    def team_gold_at(minute):\n",
    "        at_m = (\n",
    "            ps.filter(pl.col(\"minute\") == minute)\n",
    "              .groupby([\"match_id\",\"team_id\"])\n",
    "              .agg(pl.col(\"totalGold\").sum().alias(\"team_gold\"))\n",
    "              .pivot(values=\"team_gold\", index=\"match_id\", columns=\"team_id\")\n",
    "              .rename({\"100\":\"gold_100\",\"200\":\"gold_200\"})\n",
    "              .with_columns((pl.col(\"gold_100\") - pl.col(\"gold_200\")).alias(f\"team_gold_diff@{minute}\"))\n",
    "              .select([\"match_id\", f\"team_gold_diff@{minute}\"])\n",
    "        )\n",
    "        return at_m\n",
    "\n",
    "    tg5  = team_gold_at(5)\n",
    "    tg10 = team_gold_at(10)\n",
    "    tg15 = team_gold_at(15)\n",
    "\n",
    "    matches = (\n",
    "        decoded\n",
    "        .with_columns([\n",
    "            (pl.col(\"gameDuration\") if \"gameDuration\" in decoded.columns else pl.col(\"game_duration\")).alias(\"game_duration\"),\n",
    "            (pl.col(\"endOfGameResult\") if \"endOfGameResult\" in decoded.columns else pl.col(\"end_result\")).alias(\"end_result\"),\n",
    "            (pl.col(\"teamEarlySurrendered\").cast(pl.Boolean) if \"teamEarlySurrendered\" in decoded.columns else pl.lit(None)).alias(\"early_ff_flag\"),\n",
    "        ])\n",
    "        .select([\n",
    "            \"match_id\", \"queue_id\", \"game_version\", \"game_duration\", \"end_result\", \"early_ff_flag\"\n",
    "        ])\n",
    "        .join(first_objectives, on=\"match_id\", how=\"left\")\n",
    "        .join(tg5, on=\"match_id\", how=\"left\")\n",
    "        .join(tg10, on=\"match_id\", how=\"left\")\n",
    "        .join(tg15, on=\"match_id\", how=\"left\")\n",
    "    )\n",
    "    return matches\n"
   ],
   "id": "b0be6b532f8c3aeb",
   "outputs": [],
   "execution_count": 30
  },
  {
   "metadata": {
    "ExecuteTime": {
     "end_time": "2025-10-09T21:49:21.892742Z",
     "start_time": "2025-10-09T21:49:21.861608Z"
    }
   },
   "cell_type": "code",
   "source": [
    "# 计算 CS@10/14、Gold@10、XP diff@10、镀层、参团率 等\n",
    "def build_participants_from_timeline(ps: pl.DataFrame, events: pl.DataFrame) -> pl.DataFrame:\n",
    "    # minute 切片\n",
    "    snap10 = ps.filter(pl.col(\"minute\") == 10).select([\"match_id\",\"participantId\",\"team_id\",\"totalGold\",\"xp\",\"minionsKilled\",\"jungleMinionsKilled\"])\n",
    "    snap14 = ps.filter(pl.col(\"minute\") == 14).select([\"match_id\",\"participantId\",\"minionsKilled\",\"jungleMinionsKilled\"]).rename({\"minionsKilled\":\"minionsKilled14\",\"jungleMinionsKilled\":\"jungleMinionsKilled14\"})\n",
    "\n",
    "    # CS@10 / @14\n",
    "    cs10 = (\n",
    "        snap10\n",
    "        .with_columns((pl.col(\"minionsKilled\")+pl.col(\"jungleMinionsKilled\")).alias(\"cs10\"))\n",
    "        .select([\"match_id\",\"participantId\",\"team_id\",\"totalGold\",\"xp\",\"cs10\"])\n",
    "        .rename({\"totalGold\":\"gold10\",\"xp\":\"xp10\"})\n",
    "    )\n",
    "    cs14 = (\n",
    "        snap14\n",
    "        .with_columns((pl.col(\"minionsKilled14\")+pl.col(\"jungleMinionsKilled14\")).alias(\"cs14\"))\n",
    "        .select([\"match_id\",\"participantId\",\"cs14\"])\n",
    "    )\n",
    "\n",
    "    # XP diff@10（对位：1-6,2-7,3-8,4-9,5-10 近似）\n",
    "    lane_pairs = (\n",
    "        cs10\n",
    "        .with_columns([\n",
    "            (pl.col(\"participantId\") + 5).alias(\"opp_pid_tmp\")\n",
    "        ])\n",
    "        .with_columns([\n",
    "            pl.when(pl.col(\"participantId\") <= 5).then(pl.col(\"opp_pid_tmp\")).otherwise(pl.col(\"participantId\") - 5).alias(\"opp_pid\")\n",
    "        ])\n",
    "        .select([\"match_id\",\"participantId\",\"xp10\",\"opp_pid\"])\n",
    "        .join(cs10.select([\"match_id\",\"participantId\",\"xp10\"]).rename({\"participantId\":\"opp_pid\",\"xp10\":\"xp10_opp\"}), on=[\"match_id\",\"opp_pid\"], how=\"left\")\n",
    "        .with_columns((pl.col(\"xp10\") - pl.col(\"xp10_opp\")).alias(\"xpdiff10\"))\n",
    "        .select([\"match_id\",\"participantId\",\"xpdiff10\"])\n",
    "    )\n",
    "\n",
    "    # 镀层（TURRET_PLATE_DESTROYED 计数 & 参与）\n",
    "    plates = (\n",
    "        events\n",
    "        .filter(pl.col(\"type\") == \"TURRET_PLATE_DESTROYED\")\n",
    "        .with_columns([\n",
    "            # 无直接参与者字段时，用位置信息 + 最近的 lane 玩家判断较复杂。这里按团队计到最近分钟的靠塔玩家可选，MVP 先做团队总数：\n",
    "            pl.lit(1).alias(\"plate_cnt\")\n",
    "        ])\n",
    "        .groupby(\"match_id\")\n",
    "        .agg(pl.sum(\"plate_cnt\").alias(\"plates_total\"))\n",
    "    )\n",
    "\n",
    "    # 参团率：击杀相关事件参与（killerId 或 assistingParticipantIds 含我） / 队伍总击杀\n",
    "    fights = events.filter(pl.col(\"type\") == \"CHAMPION_KILL\").with_columns([\n",
    "        pl.col(\"assistingParticipantIds\").list.lengths().fill_null(0).alias(\"assist_n\"),\n",
    "    ])\n",
    "\n",
    "    team_kills = (\n",
    "        fights\n",
    "        .with_columns([\n",
    "            pl.when(pl.col(\"killerId\") <= 5).then(100).otherwise(200).alias(\"team_id_killer\")\n",
    "        ])\n",
    "        .groupby([\"match_id\",\"team_id_killer\"])\n",
    "        .agg(pl.count().alias(\"team_kill_count\"))\n",
    "        .rename({\"team_id_killer\":\"team_id\"})\n",
    "    )\n",
    "\n",
    "    me_involved = (\n",
    "        fights\n",
    "        .select([\"match_id\",\"killerId\",\"assistingParticipantIds\"])\n",
    "        .with_columns([\n",
    "            pl.concat_list([pl.col(\"assistingParticipantIds\"), pl.col(\"killerId\").cast(pl.List(pl.Int64))]).alias(\"involved_list\")\n",
    "        ])\n",
    "        .explode(\"involved_list\")\n",
    "        .rename({\"involved_list\":\"participantId\"})\n",
    "        .groupby([\"match_id\",\"participantId\"])\n",
    "        .agg(pl.count().alias(\"kill_involvements\"))\n",
    "    )\n",
    "\n",
    "    # 汇总\n",
    "    participants_tl = (\n",
    "        cs10.join(cs14, on=[\"match_id\",\"participantId\"], how=\"left\")\n",
    "            .join(xpdiff10, on=[\"match_id\",\"participantId\"], how=\"left\")\n",
    "            .join(me_involved, on=[\"match_id\",\"participantId\"], how=\"left\")\n",
    "            .join(team_kills, on=[\"match_id\",\"team_id\"], how=\"left\")\n",
    "            .with_columns([\n",
    "                pl.col(\"kill_involvements\").fill_null(0),\n",
    "                pl.col(\"team_kill_count\").fill_null(0),\n",
    "                pl.when(pl.col(\"team_kill_count\")>0)\n",
    "                  .then(pl.col(\"kill_involvements\")/pl.col(\"team_kill_count\"))\n",
    "                  .otherwise(0.0).alias(\"kill_participation\")\n",
    "            ])\n",
    "            .select([\n",
    "                \"match_id\",\"participantId\",\"team_id\",\n",
    "                \"cs10\",\"cs14\",\"gold10\",\"xpdiff10\",\"kill_involvements\",\"team_kill_count\",\"kill_participation\"\n",
    "            ])\n",
    "    )\n",
    "\n",
    "    # 将比赛级的 plates_total 合并（如需人均/分路拆分，可进一步用位置匹配）\n",
    "    participants_tl = participants_tl.join(plates, on=\"match_id\", how=\"left\")\n",
    "\n",
    "    return participants_tl\n"
   ],
   "id": "97d422f5cd5bad19",
   "outputs": [],
   "execution_count": 31
  },
  {
   "metadata": {
    "ExecuteTime": {
     "end_time": "2025-10-09T21:49:35.412740Z",
     "start_time": "2025-10-09T21:49:35.401507Z"
    }
   },
   "cell_type": "code",
   "source": [
    "def detect_teamfights(events: pl.DataFrame, window_ms: int = 12000, min_participants: int = 4) -> pl.DataFrame:\n",
    "    base = (\n",
    "        events\n",
    "        .filter(pl.col(\"type\").is_in([\"CHAMPION_KILL\",\"ELITE_MONSTER_KILL\",\"BUILDING_KILL\"]))\n",
    "        .with_columns([\n",
    "            (pl.col(\"timestamp\") // window_ms).alias(\"time_bucket\"),\n",
    "            pl.col(\"assistingParticipantIds\").alias(\"assist_list\")\n",
    "        ])\n",
    "        .with_columns([\n",
    "            pl.when(pl.col(\"assist_list\").is_null())\n",
    "              .then(pl.lit([]))\n",
    "              .otherwise(pl.col(\"assist_list\"))\n",
    "              .alias(\"assist_list\")\n",
    "        ])\n",
    "        .with_columns([\n",
    "            pl.concat_list([pl.col(\"assist_list\"), pl.col(\"killerId\").cast(pl.List(pl.Int64)), pl.col(\"victimId\").cast(pl.List(pl.Int64))]).alias(\"involved\")\n",
    "        ])\n",
    "        .explode(\"involved\")\n",
    "        .drop_nulls(\"involved\")\n",
    "        .groupby([\"match_id\",\"time_bucket\"])\n",
    "        .agg([\n",
    "            pl.n_unique(\"involved\").alias(\"unique_participants\"),\n",
    "            pl.col(\"type\").list().alias(\"event_types\"),\n",
    "            pl.min(\"timestamp\").alias(\"start_ts\"),\n",
    "            pl.max(\"timestamp\").alias(\"end_ts\"),\n",
    "        ])\n",
    "        .with_columns([\n",
    "            (pl.col(\"end_ts\") - pl.col(\"start_ts\")).alias(\"duration_ms\")\n",
    "        ])\n",
    "        .filter(pl.col(\"unique_participants\") >= min_participants)\n",
    "        .with_columns([\n",
    "            (pl.col(\"start_ts\")/60000).cast(pl.Int64).alias(\"start_minute\"),\n",
    "            (pl.col(\"end_ts\")/60000).cast(pl.Int64).alias(\"end_minute\"),\n",
    "        ])\n",
    "        .sort([\"match_id\",\"start_ts\"])\n",
    "    )\n",
    "    return base\n"
   ],
   "id": "5081bd59a451ea49",
   "outputs": [],
   "execution_count": 32
  },
  {
   "metadata": {
    "ExecuteTime": {
     "end_time": "2025-10-09T21:49:40.716061Z",
     "start_time": "2025-10-09T21:49:40.707060Z"
    }
   },
   "cell_type": "code",
   "source": [
    "def build_item_timeline(events: pl.DataFrame) -> pl.DataFrame:\n",
    "    item_ev = (\n",
    "        events\n",
    "        .filter(pl.col(\"type\").is_in([\"ITEM_PURCHASED\",\"ITEM_SOLD\",\"ITEM_UNDO\",\"ITEM_DESTROYED\"]))\n",
    "        .select([\"match_id\",\"timestamp\",\"minute\",\"type\",\"participantId\",\"itemId\",\"pos_x\",\"pos_y\"])\n",
    "        .sort([\"match_id\",\"participantId\",\"timestamp\"])\n",
    "    )\n",
    "    return item_ev\n"
   ],
   "id": "3b8e3498eedc13ac",
   "outputs": [],
   "execution_count": 33
  },
  {
   "metadata": {
    "ExecuteTime": {
     "end_time": "2025-10-09T21:49:51.815209Z",
     "start_time": "2025-10-09T21:49:51.805208Z"
    }
   },
   "cell_type": "code",
   "source": [
    "# 需要 match detail 的 team/puuid 关系，或从 timeline 的 participantId→team_id + 你自己的 puuid 映射获得\n",
    "# 这里给一个基于 \"同场同队 + 组合对\" 的近似版本（没有 puuid 时可用 summonerName；建议最终用 puuid）\n",
    "def build_duo_synergy(match_participants_detail: pl.DataFrame) -> pl.DataFrame:\n",
    "    # 预期列：match_id, puuid, team_id, win\n",
    "    base = match_participants_detail.select([\"match_id\",\"puuid\",\"team_id\",\"win\"]).unique()\n",
    "\n",
    "    # 生成同队二元组\n",
    "    pairs = (\n",
    "        base.join(base, on=[\"match_id\",\"team_id\"])\n",
    "            .filter(pl.col(\"puuid\") < pl.col(\"puuid_right\"))  # 避免自连接与重复\n",
    "            .select([\n",
    "                pl.col(\"puuid\").alias(\"puuid_a\"),\n",
    "                pl.col(\"puuid_right\").alias(\"puuid_b\"),\n",
    "                \"match_id\",\n",
    "                # 胜负一致即可用一侧\n",
    "                pl.col(\"win\").alias(\"win_a\")\n",
    "            ])\n",
    "    )\n",
    "\n",
    "    duo = (\n",
    "        pairs.groupby([\"puuid_a\",\"puuid_b\"])\n",
    "             .agg([\n",
    "                 pl.count().alias(\"games\"),\n",
    "                 pl.sum(pl.col(\"win_a\").cast(pl.Int64)).alias(\"wins\"),\n",
    "             ])\n",
    "             .with_columns((pl.col(\"wins\")/pl.col(\"games\")).alias(\"win_rate\"))\n",
    "             .sort([\"games\",\"win_rate\"], descending=[True,True])\n",
    "    )\n",
    "    return duo\n"
   ],
   "id": "63fcd08d44d86b0e",
   "outputs": [],
   "execution_count": 34
  },
  {
   "metadata": {
    "ExecuteTime": {
     "end_time": "2025-10-09T21:49:59.268464Z",
     "start_time": "2025-10-09T21:49:59.250400Z"
    }
   },
   "cell_type": "code",
   "source": [
    "import json\n",
    "\n",
    "def build_participants_from_match_detail(match_detail_df: pl.DataFrame) -> pl.DataFrame:\n",
    "    # 预期列：match_id, match_detail_json\n",
    "    md = (\n",
    "        match_detail_df\n",
    "        .select([\"match_id\",\"match_detail_json\"])\n",
    "        .with_columns(pl.col(\"match_detail_json\").map_elements(json.loads).alias(\"md\"))\n",
    "        .with_columns(pl.col(\"md\").struct.field(\"info\").alias(\"info\"))\n",
    "        .with_columns(pl.col(\"info\").struct.field(\"participants\").alias(\"p_list\"))\n",
    "        .explode(\"p_list\")\n",
    "        .unnest(\"p_list\")\n",
    "        .select([\n",
    "            \"match_id\",\n",
    "            \"puuid\",\"summonerName\",\"teamId\",\"championId\",\"championName\",\"individualPosition\",\"lane\",\"role\",\n",
    "            \"kills\",\"deaths\",\"assists\",\"totalDamageDealtToChampions\",\"totalDamageTaken\",\"timeCCingOthers\",\"largestKillingSpree\",\n",
    "            \"goldEarned\",\"totalMinionsKilled\",\"neutralMinionsKilled\",\"visionScore\",\"wardsPlaced\",\"wardsKilled\",\"detectorWardsPlaced\",\n",
    "            \"item0\",\"item1\",\"item2\",\"item3\",\"item4\",\"item5\",\"item6\",\"perks\",\n",
    "            \"summoner1Id\",\"summoner2Id\",\"win\"\n",
    "        ])\n",
    "        .rename({\n",
    "            \"teamId\":\"team_id\",\n",
    "            \"individualPosition\":\"position\",\n",
    "            \"totalDamageDealtToChampions\":\"damage_to_champs\",\n",
    "            \"totalDamageTaken\":\"damage_taken\",\n",
    "            \"goldEarned\":\"gold_earned\",\n",
    "            \"totalMinionsKilled\":\"cs_lane\",\n",
    "            \"neutralMinionsKilled\":\"cs_jungle\"\n",
    "        })\n",
    "    )\n",
    "    return md\n",
    "\n",
    "# 合并 timeline 衍生（cs10/gold10/xpdiff10/kill_participation 等）\n",
    "def merge_participant_metrics(participants_md: pl.DataFrame, participants_tl: pl.DataFrame) -> pl.DataFrame:\n",
    "    return (\n",
    "        participants_md\n",
    "        .join(participants_tl.rename({\"participantId\":\"pid_from_tl\"}), left_on=[\"match_id\",\"team_id\"], right_on=[\"match_id\",\"team_id\"], how=\"left\")\n",
    "        # 注意：match detail 没有 TL 的 participantId；严格映射需要你已有 “puuid ↔ participantId” 的字典（可从 metadata.participants 顺序或辅助表获得）\n",
    "        # 如你已有人物映射表 mapping(match_id, puuid, participantId)，请在 join 之前先把 participants_md 也 join 上 participantId 再合并。\n",
    "    )\n"
   ],
   "id": "20cc4cdaa871eb37",
   "outputs": [],
   "execution_count": 35
  },
  {
   "metadata": {
    "ExecuteTime": {
     "end_time": "2025-10-09T21:51:03.680189Z",
     "start_time": "2025-10-09T21:51:03.602358Z"
    }
   },
   "cell_type": "code",
   "source": [
    "# 已有 decoded, frames:\n",
    "\n",
    "ps     = build_participant_snapshots(frames)\n",
    "\n",
    "matches = build_matches(decoded, events_all, ps)\n",
    "participants_tl = build_participants_from_timeline(ps, events)\n",
    "items_timeline  = build_item_timeline(events)\n",
    "teamfights      = detect_teamfights(events)\n",
    "\n",
    "# 如果有赛后摘要 JSON：\n",
    "# match_detail_df: [match_id, match_detail_json]\n",
    "# participants_md  = build_participants_from_match_detail(match_detail_df)\n",
    "# participants_all = merge_participant_metrics(participants_md, participants_tl)\n"
   ],
   "id": "b685724692f961e3",
   "outputs": [
    {
     "ename": "InvalidOperationError",
     "evalue": "`explode` operation not supported for dtype `struct[16]`",
     "output_type": "error",
     "traceback": [
      "\u001B[31m---------------------------------------------------------------------------\u001B[39m",
      "\u001B[31mInvalidOperationError\u001B[39m                     Traceback (most recent call last)",
      "\u001B[36mCell\u001B[39m\u001B[36m \u001B[39m\u001B[32mIn[37]\u001B[39m\u001B[32m, line 2\u001B[39m\n\u001B[32m      1\u001B[39m \u001B[38;5;66;03m# 已有 decoded, frames:\u001B[39;00m\n\u001B[32m----> \u001B[39m\u001B[32m2\u001B[39m ps     = \u001B[43mbuild_participant_snapshots\u001B[49m\u001B[43m(\u001B[49m\u001B[43mframes\u001B[49m\u001B[43m)\u001B[49m\n\u001B[32m      4\u001B[39m matches = build_matches(decoded, events_all, ps)\n\u001B[32m      5\u001B[39m participants_tl = build_participants_from_timeline(ps, events_all)\n",
      "\u001B[36mCell\u001B[39m\u001B[36m \u001B[39m\u001B[32mIn[30]\u001B[39m\u001B[32m, line 24\u001B[39m, in \u001B[36mbuild_participant_snapshots\u001B[39m\u001B[34m(frames)\u001B[39m\n\u001B[32m     20\u001B[39m \u001B[38;5;28;01mdef\u001B[39;00m\u001B[38;5;250m \u001B[39m\u001B[34mbuild_participant_snapshots\u001B[39m(frames: pl.DataFrame) -> pl.DataFrame:\n\u001B[32m     21\u001B[39m     ps = (\n\u001B[32m     22\u001B[39m         \u001B[43mframes\u001B[49m\n\u001B[32m     23\u001B[39m \u001B[43m        \u001B[49m\u001B[43m.\u001B[49m\u001B[43mselect\u001B[49m\u001B[43m(\u001B[49m\u001B[43m[\u001B[49m\u001B[33;43m\"\u001B[39;49m\u001B[33;43mmatch_id\u001B[39;49m\u001B[33;43m\"\u001B[39;49m\u001B[43m,\u001B[49m\u001B[43m \u001B[49m\u001B[33;43m\"\u001B[39;49m\u001B[33;43mminute\u001B[39;49m\u001B[33;43m\"\u001B[39;49m\u001B[43m,\u001B[49m\u001B[43m \u001B[49m\u001B[33;43m\"\u001B[39;49m\u001B[33;43mtimestamp\u001B[39;49m\u001B[33;43m\"\u001B[39;49m\u001B[43m,\u001B[49m\u001B[43m \u001B[49m\u001B[33;43m\"\u001B[39;49m\u001B[33;43mparticipantFrames\u001B[39;49m\u001B[33;43m\"\u001B[39;49m\u001B[43m]\u001B[49m\u001B[43m)\u001B[49m\n\u001B[32m---> \u001B[39m\u001B[32m24\u001B[39m \u001B[43m        \u001B[49m\u001B[43m.\u001B[49m\u001B[43mexplode\u001B[49m\u001B[43m(\u001B[49m\u001B[33;43m\"\u001B[39;49m\u001B[33;43mparticipantFrames\u001B[39;49m\u001B[33;43m\"\u001B[39;49m\u001B[43m)\u001B[49m\n\u001B[32m     25\u001B[39m         .drop_nulls(\u001B[33m\"\u001B[39m\u001B[33mparticipantFrames\u001B[39m\u001B[33m\"\u001B[39m)\n\u001B[32m     26\u001B[39m         .unnest(\u001B[33m\"\u001B[39m\u001B[33mparticipantFrames\u001B[39m\u001B[33m\"\u001B[39m)\n\u001B[32m     27\u001B[39m         .with_columns([\n\u001B[32m     28\u001B[39m             pl.col(\u001B[33m\"\u001B[39m\u001B[33mposition\u001B[39m\u001B[33m\"\u001B[39m).struct.field(\u001B[33m\"\u001B[39m\u001B[33mx\u001B[39m\u001B[33m\"\u001B[39m).alias(\u001B[33m\"\u001B[39m\u001B[33mpos_x\u001B[39m\u001B[33m\"\u001B[39m),\n\u001B[32m     29\u001B[39m             pl.col(\u001B[33m\"\u001B[39m\u001B[33mposition\u001B[39m\u001B[33m\"\u001B[39m).struct.field(\u001B[33m\"\u001B[39m\u001B[33my\u001B[39m\u001B[33m\"\u001B[39m).alias(\u001B[33m\"\u001B[39m\u001B[33mpos_y\u001B[39m\u001B[33m\"\u001B[39m),\n\u001B[32m     30\u001B[39m         ]).drop(\u001B[33m\"\u001B[39m\u001B[33mposition\u001B[39m\u001B[33m\"\u001B[39m, strict=\u001B[38;5;28;01mFalse\u001B[39;00m)\n\u001B[32m     31\u001B[39m         \u001B[38;5;66;03m# participantId: 1..10\u001B[39;00m\n\u001B[32m     32\u001B[39m         .with_columns([\n\u001B[32m     33\u001B[39m             pl.when(pl.col(\u001B[33m\"\u001B[39m\u001B[33mparticipantId\u001B[39m\u001B[33m\"\u001B[39m) <= \u001B[32m5\u001B[39m).then(\u001B[32m100\u001B[39m).otherwise(\u001B[32m200\u001B[39m).alias(\u001B[33m\"\u001B[39m\u001B[33mteam_id\u001B[39m\u001B[33m\"\u001B[39m)\n\u001B[32m     34\u001B[39m         ])\n\u001B[32m     35\u001B[39m     )\n\u001B[32m     36\u001B[39m     \u001B[38;5;28;01mreturn\u001B[39;00m ps\n",
      "\u001B[36mFile \u001B[39m\u001B[32mD:\\AWS Rift\\.venv\\Lib\\site-packages\\polars\\dataframe\\frame.py:9105\u001B[39m, in \u001B[36mDataFrame.explode\u001B[39m\u001B[34m(self, columns, *more_columns)\u001B[39m\n\u001B[32m   9048\u001B[39m \u001B[38;5;250m\u001B[39m\u001B[33;03m\"\"\"\u001B[39;00m\n\u001B[32m   9049\u001B[39m \u001B[33;03mExplode the dataframe to long format by exploding the given columns.\u001B[39;00m\n\u001B[32m   9050\u001B[39m \n\u001B[32m   (...)\u001B[39m\u001B[32m   9098\u001B[39m \u001B[33;03m└─────────┴─────────┘\u001B[39;00m\n\u001B[32m   9099\u001B[39m \u001B[33;03m\"\"\"\u001B[39;00m\n\u001B[32m   9100\u001B[39m \u001B[38;5;28;01mfrom\u001B[39;00m\u001B[38;5;250m \u001B[39m\u001B[34;01mpolars\u001B[39;00m\u001B[34;01m.\u001B[39;00m\u001B[34;01mlazyframe\u001B[39;00m\u001B[34;01m.\u001B[39;00m\u001B[34;01mopt_flags\u001B[39;00m\u001B[38;5;250m \u001B[39m\u001B[38;5;28;01mimport\u001B[39;00m QueryOptFlags\n\u001B[32m   9102\u001B[39m \u001B[38;5;28;01mreturn\u001B[39;00m (\n\u001B[32m   9103\u001B[39m     \u001B[38;5;28;43mself\u001B[39;49m\u001B[43m.\u001B[49m\u001B[43mlazy\u001B[49m\u001B[43m(\u001B[49m\u001B[43m)\u001B[49m\n\u001B[32m   9104\u001B[39m \u001B[43m    \u001B[49m\u001B[43m.\u001B[49m\u001B[43mexplode\u001B[49m\u001B[43m(\u001B[49m\u001B[43mcolumns\u001B[49m\u001B[43m,\u001B[49m\u001B[43m \u001B[49m\u001B[43m*\u001B[49m\u001B[43mmore_columns\u001B[49m\u001B[43m)\u001B[49m\n\u001B[32m-> \u001B[39m\u001B[32m9105\u001B[39m \u001B[43m    \u001B[49m\u001B[43m.\u001B[49m\u001B[43mcollect\u001B[49m\u001B[43m(\u001B[49m\u001B[43moptimizations\u001B[49m\u001B[43m=\u001B[49m\u001B[43mQueryOptFlags\u001B[49m\u001B[43m.\u001B[49m\u001B[43m_eager\u001B[49m\u001B[43m(\u001B[49m\u001B[43m)\u001B[49m\u001B[43m)\u001B[49m\n\u001B[32m   9106\u001B[39m )\n",
      "\u001B[36mFile \u001B[39m\u001B[32mD:\\AWS Rift\\.venv\\Lib\\site-packages\\polars\\_utils\\deprecation.py:97\u001B[39m, in \u001B[36mdeprecate_streaming_parameter.<locals>.decorate.<locals>.wrapper\u001B[39m\u001B[34m(*args, **kwargs)\u001B[39m\n\u001B[32m     93\u001B[39m         kwargs[\u001B[33m\"\u001B[39m\u001B[33mengine\u001B[39m\u001B[33m\"\u001B[39m] = \u001B[33m\"\u001B[39m\u001B[33min-memory\u001B[39m\u001B[33m\"\u001B[39m\n\u001B[32m     95\u001B[39m     \u001B[38;5;28;01mdel\u001B[39;00m kwargs[\u001B[33m\"\u001B[39m\u001B[33mstreaming\u001B[39m\u001B[33m\"\u001B[39m]\n\u001B[32m---> \u001B[39m\u001B[32m97\u001B[39m \u001B[38;5;28;01mreturn\u001B[39;00m \u001B[43mfunction\u001B[49m\u001B[43m(\u001B[49m\u001B[43m*\u001B[49m\u001B[43margs\u001B[49m\u001B[43m,\u001B[49m\u001B[43m \u001B[49m\u001B[43m*\u001B[49m\u001B[43m*\u001B[49m\u001B[43mkwargs\u001B[49m\u001B[43m)\u001B[49m\n",
      "\u001B[36mFile \u001B[39m\u001B[32mD:\\AWS Rift\\.venv\\Lib\\site-packages\\polars\\lazyframe\\opt_flags.py:328\u001B[39m, in \u001B[36mforward_old_opt_flags.<locals>.decorate.<locals>.wrapper\u001B[39m\u001B[34m(*args, **kwargs)\u001B[39m\n\u001B[32m    325\u001B[39m         optflags = cb(optflags, kwargs.pop(key))  \u001B[38;5;66;03m# type: ignore[no-untyped-call,unused-ignore]\u001B[39;00m\n\u001B[32m    327\u001B[39m kwargs[\u001B[33m\"\u001B[39m\u001B[33moptimizations\u001B[39m\u001B[33m\"\u001B[39m] = optflags\n\u001B[32m--> \u001B[39m\u001B[32m328\u001B[39m \u001B[38;5;28;01mreturn\u001B[39;00m \u001B[43mfunction\u001B[49m\u001B[43m(\u001B[49m\u001B[43m*\u001B[49m\u001B[43margs\u001B[49m\u001B[43m,\u001B[49m\u001B[43m \u001B[49m\u001B[43m*\u001B[49m\u001B[43m*\u001B[49m\u001B[43mkwargs\u001B[49m\u001B[43m)\u001B[49m\n",
      "\u001B[36mFile \u001B[39m\u001B[32mD:\\AWS Rift\\.venv\\Lib\\site-packages\\polars\\lazyframe\\frame.py:2415\u001B[39m, in \u001B[36mLazyFrame.collect\u001B[39m\u001B[34m(self, type_coercion, predicate_pushdown, projection_pushdown, simplify_expression, slice_pushdown, comm_subplan_elim, comm_subexpr_elim, cluster_with_columns, collapse_joins, no_optimization, engine, background, optimizations, **_kwargs)\u001B[39m\n\u001B[32m   2413\u001B[39m \u001B[38;5;66;03m# Only for testing purposes\u001B[39;00m\n\u001B[32m   2414\u001B[39m callback = _kwargs.get(\u001B[33m\"\u001B[39m\u001B[33mpost_opt_callback\u001B[39m\u001B[33m\"\u001B[39m, callback)\n\u001B[32m-> \u001B[39m\u001B[32m2415\u001B[39m \u001B[38;5;28;01mreturn\u001B[39;00m wrap_df(\u001B[43mldf\u001B[49m\u001B[43m.\u001B[49m\u001B[43mcollect\u001B[49m\u001B[43m(\u001B[49m\u001B[43mengine\u001B[49m\u001B[43m,\u001B[49m\u001B[43m \u001B[49m\u001B[43mcallback\u001B[49m\u001B[43m)\u001B[49m)\n",
      "\u001B[31mInvalidOperationError\u001B[39m: `explode` operation not supported for dtype `struct[16]`"
     ]
    }
   ],
   "execution_count": 37
  },
  {
   "metadata": {},
   "cell_type": "code",
   "outputs": [],
   "execution_count": null,
   "source": "",
   "id": "53c32e166b56cd9b"
  }
 ],
 "metadata": {
  "kernelspec": {
   "display_name": "Python 3",
   "language": "python",
   "name": "python3"
  },
  "language_info": {
   "codemirror_mode": {
    "name": "ipython",
    "version": 2
   },
   "file_extension": ".py",
   "mimetype": "text/x-python",
   "name": "python",
   "nbconvert_exporter": "python",
   "pygments_lexer": "ipython2",
   "version": "2.7.6"
  }
 },
 "nbformat": 4,
 "nbformat_minor": 5
}
