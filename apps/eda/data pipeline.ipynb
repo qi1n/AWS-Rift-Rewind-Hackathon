{
 "cells": [
  {
   "cell_type": "code",
   "id": "initial_id",
   "metadata": {
    "collapsed": true,
    "ExecuteTime": {
     "end_time": "2025-10-06T21:16:40.228306Z",
     "start_time": "2025-10-06T21:16:40.224815Z"
    }
   },
   "source": [
    "import polars as pl\n",
    "import glob, os\n",
    "import json"
   ],
   "outputs": [],
   "execution_count": 18
  },
  {
   "metadata": {
    "ExecuteTime": {
     "end_time": "2025-10-06T20:25:54.695315Z",
     "start_time": "2025-10-06T20:25:54.691326Z"
    }
   },
   "cell_type": "code",
   "source": [
    "# ===================== CONSTANT =========================\n",
    "ALL_TIMELINE_JSON_PATH = \"../res/data/timelines/*.json\""
   ],
   "id": "277d0c60bbb694f4",
   "outputs": [],
   "execution_count": 2
  },
  {
   "metadata": {
    "ExecuteTime": {
     "end_time": "2025-10-06T21:20:15.399872Z",
     "start_time": "2025-10-06T21:20:15.095381Z"
    }
   },
   "cell_type": "code",
   "source": [
    "\n",
    "# 1) Read all timeline JSON files (one file per match)\n",
    "paths = glob.glob(ALL_TIMELINE_JSON_PATH)\n",
    "\n",
    "dfs = []\n",
    "for p in paths:\n",
    "    df = pl.read_json(p).with_columns(\n",
    "        pl.col(\"metadata\").struct.json_encode().alias(\"metadata_json\"),\n",
    "        pl.col(\"info\").struct.json_encode().alias(\"info_json\"),\n",
    "        pl.lit(os.path.basename(p)).alias(\"source_file\"),\n",
    "    ).select(\"metadata_json\", \"info_json\", \"source_file\")\n",
    "    dfs.append(df)\n",
    "\n",
    "timeline_matches = pl.concat(dfs, how=\"diagonal\", rechunk=True)\n",
    "\n"
   ],
   "id": "5b023b5525943cd3",
   "outputs": [],
   "execution_count": 21
  },
  {
   "metadata": {
    "ExecuteTime": {
     "end_time": "2025-10-06T21:20:25.061765Z",
     "start_time": "2025-10-06T21:20:24.224514Z"
    }
   },
   "cell_type": "code",
   "source": [
    "# timeline_matches: 有 metadata_json / info_json / source_file 三列\n",
    "rows = []\n",
    "for m_json, i_json, src in timeline_matches.select(\n",
    "        \"metadata_json\", \"info_json\", \"source_file\"\n",
    "    ).iter_rows():\n",
    "    m = json.loads(m_json)\n",
    "    i = json.loads(i_json)\n",
    "    rows.append({\n",
    "        \"match_id\":       m.get(\"matchId\"),\n",
    "        \"puuid_list\":     m.get(\"participants\"),\n",
    "        \"end_result\":     i.get(\"endOfGameResult\"),\n",
    "        \"frame_interval\": i.get(\"frameInterval\"),\n",
    "        \"frames\":         i.get(\"frames\"),\n",
    "        \"source_file\":    src,\n",
    "    })\n",
    "\n",
    "decoded = pl.DataFrame(rows)\n"
   ],
   "id": "614636c0d0e541ce",
   "outputs": [],
   "execution_count": 22
  },
  {
   "metadata": {
    "ExecuteTime": {
     "end_time": "2025-10-06T21:22:43.525285Z",
     "start_time": "2025-10-06T21:22:43.517072Z"
    }
   },
   "cell_type": "code",
   "source": [
    "# 2) frames（每行=一场的一分钟）\n",
    "frames = (\n",
    "    decoded\n",
    "    .explode(\"frames\")\n",
    "    .drop_nulls(\"frames\")\n",
    "    .unnest(\"frames\")\n",
    "    .with_columns((pl.col(\"timestamp\")/60000).cast(pl.Int64).alias(\"minute\"))\n",
    ")"
   ],
   "id": "dc93e7f86669be02",
   "outputs": [],
   "execution_count": 24
  },
  {
   "metadata": {
    "ExecuteTime": {
     "end_time": "2025-10-06T21:24:03.150213Z",
     "start_time": "2025-10-06T21:24:03.126840Z"
    }
   },
   "cell_type": "code",
   "source": [
    "# 3) 事件表（避免 timestamp 重名）\n",
    "events_all = (\n",
    "    frames\n",
    "    .select(\n",
    "        \"match_id\",\n",
    "        pl.col(\"timestamp\").alias(\"frame_ts\"),  # 帧级时间\n",
    "        \"minute\",\n",
    "        \"events\",\n",
    "    )\n",
    "    .explode(\"events\")\n",
    "    .drop_nulls(\"events\")\n",
    "    .unnest(\"events\")                           # 这里会产生事件自己的 timestamp\n",
    "    .rename({\"timestamp\": \"event_ts\"})          # 事件级时间改名\n",
    "    .with_columns([\n",
    "        (pl.col(\"frame_ts\")/60000).cast(pl.Int64).alias(\"frame_minute\"),\n",
    "        # 有些事件可能没有 event_ts，用帧 minute 兜底\n",
    "        pl.when(pl.col(\"event_ts\").is_not_null())\n",
    "          .then((pl.col(\"event_ts\")/60000).cast(pl.Int64))\n",
    "          .otherwise(pl.col(\"minute\"))\n",
    "          .alias(\"event_minute\"),\n",
    "    ])\n",
    ")\n"
   ],
   "id": "c475b9c1da945312",
   "outputs": [],
   "execution_count": 26
  },
  {
   "metadata": {
    "ExecuteTime": {
     "end_time": "2025-10-06T21:24:16.816304Z",
     "start_time": "2025-10-06T21:24:16.809333Z"
    }
   },
   "cell_type": "code",
   "source": [
    "# 4) participant_id <-> puuid\n",
    "pid_map = (\n",
    "    decoded\n",
    "    .select(\"match_id\", \"puuid_list\")\n",
    "    .explode(\"puuid_list\")\n",
    "    .with_row_index(\"participant_id\", offset=1)\n",
    "    .rename({\"puuid_list\": \"puuid\"})\n",
    ")"
   ],
   "id": "2671b8231ab0e9f8",
   "outputs": [],
   "execution_count": 27
  },
  {
   "metadata": {
    "ExecuteTime": {
     "end_time": "2025-10-06T21:26:19.464804Z",
     "start_time": "2025-10-06T21:26:19.277839Z"
    }
   },
   "cell_type": "code",
   "source": [
    "# 5) participant frames（无 melt 版本）\n",
    "pf_wide = (\n",
    "    frames\n",
    "    .select(\"match_id\", \"timestamp\", \"minute\", \"participantFrames\")\n",
    "    .drop_nulls(\"participantFrames\")\n",
    "    .unnest(\"participantFrames\")   # -> 列名 \"1\",\"2\",... 每列一个 struct\n",
    ")\n",
    "\n",
    "# 动态找出所有参赛者列（列名是纯数字的）\n",
    "pf_cols = [c for c in pf_wide.columns if c.isdigit()]\n",
    "pid_vals = [int(c) for c in pf_cols]\n",
    "\n",
    "pf_all = (\n",
    "    pf_wide\n",
    "    .with_columns([\n",
    "        pl.concat_list([pl.col(c) for c in pf_cols]).alias(\"pf_list\"),     # list<struct>\n",
    "        pl.lit(pid_vals).alias(\"pid_list\"),                                # list<int>\n",
    "    ])\n",
    "    .select(\"match_id\", \"timestamp\", \"minute\", \"pf_list\", \"pid_list\")\n",
    "    .explode([\"pf_list\", \"pid_list\"])                                      # 每个元素一行\n",
    "    .rename({\"pf_list\": \"pf\", \"pid_list\": \"participant_id\"})\n",
    "    .unnest(\"pf\")                                                          # 展开每位选手该分钟的结构\n",
    "    # 位置坐标展开（可能缺失）\n",
    "    .with_columns([\n",
    "        pl.when(pl.col(\"position\").is_not_null()).then(pl.col(\"position\").struct.field(\"x\")).otherwise(None).alias(\"pos_x\"),\n",
    "        pl.when(pl.col(\"position\").is_not_null()).then(pl.col(\"position\").struct.field(\"y\")).otherwise(None).alias(\"pos_y\"),\n",
    "    ])\n",
    "    .drop(\"position\")\n",
    "    # championStats / damageStats 展开（可能缺失）\n",
    "    .with_columns([\n",
    "        pl.when(pl.col(\"championStats\").is_not_null()).then(pl.col(\"championStats\")).otherwise(None).alias(\"championStats\"),\n",
    "        pl.when(pl.col(\"damageStats\").is_not_null()).then(pl.col(\"damageStats\")).otherwise(None).alias(\"damageStats\"),\n",
    "    ])\n",
    "    .unnest(\"championStats\")\n",
    "    .unnest(\"damageStats\")\n",
    "    .join(pid_map, on=[\"match_id\", \"participant_id\"], how=\"left\")\n",
    ")\n"
   ],
   "id": "6fd914b419bf3d56",
   "outputs": [],
   "execution_count": 30
  },
  {
   "metadata": {
    "ExecuteTime": {
     "end_time": "2025-10-06T21:28:33.016545Z",
     "start_time": "2025-10-06T21:28:32.927482Z"
    }
   },
   "cell_type": "code",
   "source": [
    "frames.select(\"match_id\",\"timestamp\",\"minute\").write_parquet(\"frames.parquet\")\n",
    "events_all.write_parquet(\"events.parquet\")\n",
    "pf_all.write_parquet(\"participant_frames.parquet\")\n"
   ],
   "id": "797c5970de1a0509",
   "outputs": [],
   "execution_count": 31
  },
  {
   "metadata": {
    "ExecuteTime": {
     "end_time": "2025-10-06T21:29:45.822125Z",
     "start_time": "2025-10-06T21:29:45.803917Z"
    }
   },
   "cell_type": "code",
   "source": [
    "# 每分钟增量\n",
    "pf_deltas = (\n",
    "    pf_all\n",
    "    .sort([\"match_id\",\"participant_id\",\"minute\"])\n",
    "    .group_by([\"match_id\",\"participant_id\",\"puuid\"])\n",
    "    .agg([\n",
    "        pl.col(\"minute\"),\n",
    "        pl.col(\"minionsKilled\").diff().alias(\"cs_delta\"),\n",
    "        pl.col(\"totalGold\").diff().alias(\"gold_delta\"),\n",
    "        pl.col(\"xp\").diff().alias(\"xp_delta\"),\n",
    "    ])\n",
    "    .explode([\"minute\",\"cs_delta\",\"gold_delta\",\"xp_delta\"])\n",
    ")\n"
   ],
   "id": "998bcd6c9ad1b99a",
   "outputs": [],
   "execution_count": 34
  },
  {
   "metadata": {
    "ExecuteTime": {
     "end_time": "2025-10-06T21:29:47.733809Z",
     "start_time": "2025-10-06T21:29:47.721547Z"
    }
   },
   "cell_type": "code",
   "source": [
    "key_types = [\"CHAMPION_KILL\",\"ELITE_MONSTER_KILL\",\"BUILDING_KILL\",\"HERALD_KILL\",\"DRAGON_KILL\",\"BARON_KILL\"]\n",
    "events_by_min = (\n",
    "    events_all\n",
    "    .filter(pl.col(\"type\").is_in(key_types))\n",
    "    .group_by([\"match_id\",\"event_minute\",\"type\"])\n",
    "    .len().rename({\"len\":\"count\"})\n",
    ")\n",
    "events_by_min"
   ],
   "id": "9163d02d96875911",
   "outputs": [],
   "execution_count": 35
  },
  {
   "metadata": {
    "ExecuteTime": {
     "end_time": "2025-10-06T21:30:27.393459Z",
     "start_time": "2025-10-06T21:30:27.383627Z"
    }
   },
   "cell_type": "code",
   "source": "events_by_min",
   "id": "51a7f469b360eef1",
   "outputs": [
    {
     "data": {
      "text/plain": [
       "shape: (685, 4)\n",
       "┌─────────────────┬──────────────┬────────────────────┬───────┐\n",
       "│ match_id        ┆ event_minute ┆ type               ┆ count │\n",
       "│ ---             ┆ ---          ┆ ---                ┆ ---   │\n",
       "│ str             ┆ i64          ┆ str                ┆ u32   │\n",
       "╞═════════════════╪══════════════╪════════════════════╪═══════╡\n",
       "│ EUW1_7460431991 ┆ 22           ┆ CHAMPION_KILL      ┆ 4     │\n",
       "│ EUW1_7553544945 ┆ 8            ┆ CHAMPION_KILL      ┆ 1     │\n",
       "│ EUW1_7460663774 ┆ 5            ┆ CHAMPION_KILL      ┆ 6     │\n",
       "│ EUW1_7542824880 ┆ 42           ┆ ELITE_MONSTER_KILL ┆ 1     │\n",
       "│ EUW1_7553493341 ┆ 21           ┆ ELITE_MONSTER_KILL ┆ 1     │\n",
       "│ …               ┆ …            ┆ …                  ┆ …     │\n",
       "│ EUW1_7497313618 ┆ 16           ┆ CHAMPION_KILL      ┆ 1     │\n",
       "│ EUW1_7527762593 ┆ 10           ┆ CHAMPION_KILL      ┆ 1     │\n",
       "│ EUW1_7542946140 ┆ 5            ┆ CHAMPION_KILL      ┆ 5     │\n",
       "│ EUW1_7527700796 ┆ 33           ┆ CHAMPION_KILL      ┆ 2     │\n",
       "│ EUW1_7542560301 ┆ 17           ┆ CHAMPION_KILL      ┆ 2     │\n",
       "└─────────────────┴──────────────┴────────────────────┴───────┘"
      ],
      "text/html": [
       "<div><style>\n",
       ".dataframe > thead > tr,\n",
       ".dataframe > tbody > tr {\n",
       "  text-align: right;\n",
       "  white-space: pre-wrap;\n",
       "}\n",
       "</style>\n",
       "<small>shape: (685, 4)</small><table border=\"1\" class=\"dataframe\"><thead><tr><th>match_id</th><th>event_minute</th><th>type</th><th>count</th></tr><tr><td>str</td><td>i64</td><td>str</td><td>u32</td></tr></thead><tbody><tr><td>&quot;EUW1_7460431991&quot;</td><td>22</td><td>&quot;CHAMPION_KILL&quot;</td><td>4</td></tr><tr><td>&quot;EUW1_7553544945&quot;</td><td>8</td><td>&quot;CHAMPION_KILL&quot;</td><td>1</td></tr><tr><td>&quot;EUW1_7460663774&quot;</td><td>5</td><td>&quot;CHAMPION_KILL&quot;</td><td>6</td></tr><tr><td>&quot;EUW1_7542824880&quot;</td><td>42</td><td>&quot;ELITE_MONSTER_KILL&quot;</td><td>1</td></tr><tr><td>&quot;EUW1_7553493341&quot;</td><td>21</td><td>&quot;ELITE_MONSTER_KILL&quot;</td><td>1</td></tr><tr><td>&hellip;</td><td>&hellip;</td><td>&hellip;</td><td>&hellip;</td></tr><tr><td>&quot;EUW1_7497313618&quot;</td><td>16</td><td>&quot;CHAMPION_KILL&quot;</td><td>1</td></tr><tr><td>&quot;EUW1_7527762593&quot;</td><td>10</td><td>&quot;CHAMPION_KILL&quot;</td><td>1</td></tr><tr><td>&quot;EUW1_7542946140&quot;</td><td>5</td><td>&quot;CHAMPION_KILL&quot;</td><td>5</td></tr><tr><td>&quot;EUW1_7527700796&quot;</td><td>33</td><td>&quot;CHAMPION_KILL&quot;</td><td>2</td></tr><tr><td>&quot;EUW1_7542560301&quot;</td><td>17</td><td>&quot;CHAMPION_KILL&quot;</td><td>2</td></tr></tbody></table></div>"
      ]
     },
     "execution_count": 36,
     "metadata": {},
     "output_type": "execute_result"
    }
   ],
   "execution_count": 36
  }
 ],
 "metadata": {
  "kernelspec": {
   "display_name": "Python 3",
   "language": "python",
   "name": "python3"
  },
  "language_info": {
   "codemirror_mode": {
    "name": "ipython",
    "version": 2
   },
   "file_extension": ".py",
   "mimetype": "text/x-python",
   "name": "python",
   "nbconvert_exporter": "python",
   "pygments_lexer": "ipython2",
   "version": "2.7.6"
  }
 },
 "nbformat": 4,
 "nbformat_minor": 5
}
